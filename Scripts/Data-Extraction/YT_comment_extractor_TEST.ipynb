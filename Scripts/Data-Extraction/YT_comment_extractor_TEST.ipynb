{
 "cells": [
  {
   "cell_type": "code",
   "execution_count": 1,
   "id": "5669c442",
   "metadata": {},
   "outputs": [],
   "source": [
    "import googleapiclient.discovery\n",
    "import pandas as pd\n",
    "import csv\n",
    "from tqdm import tqdm"
   ]
  },
  {
   "cell_type": "code",
   "execution_count": 2,
   "id": "0ecd065b",
   "metadata": {},
   "outputs": [],
   "source": [
    "api_key = \"Replace with the api key\""
   ]
  },
  {
   "cell_type": "code",
   "execution_count": 3,
   "id": "3151be63",
   "metadata": {},
   "outputs": [],
   "source": [
    "api_name = \"youtube\"\n",
    "api_version = \"v3\""
   ]
  },
  {
   "cell_type": "code",
   "execution_count": 4,
   "id": "11de23d4",
   "metadata": {},
   "outputs": [],
   "source": [
    "youtube = googleapiclient.discovery.build(api_name, api_version, developerKey=api_key)"
   ]
  },
  {
   "cell_type": "code",
   "execution_count": 5,
   "id": "01614511",
   "metadata": {},
   "outputs": [],
   "source": [
    "video_data = pd.read_csv(\"../../Data/Raw/test_youtube_videos.csv\")"
   ]
  },
  {
   "cell_type": "code",
   "execution_count": 6,
   "id": "79bcc7ec",
   "metadata": {},
   "outputs": [
    {
     "data": {
      "text/html": [
       "<div>\n",
       "<style scoped>\n",
       "    .dataframe tbody tr th:only-of-type {\n",
       "        vertical-align: middle;\n",
       "    }\n",
       "\n",
       "    .dataframe tbody tr th {\n",
       "        vertical-align: top;\n",
       "    }\n",
       "\n",
       "    .dataframe thead th {\n",
       "        text-align: right;\n",
       "    }\n",
       "</style>\n",
       "<table border=\"1\" class=\"dataframe\">\n",
       "  <thead>\n",
       "    <tr style=\"text-align: right;\">\n",
       "      <th></th>\n",
       "      <th>video_id</th>\n",
       "      <th>title</th>\n",
       "      <th>published_at</th>\n",
       "    </tr>\n",
       "  </thead>\n",
       "  <tbody>\n",
       "    <tr>\n",
       "      <th>0</th>\n",
       "      <td>Gzs-rqCuxTk</td>\n",
       "      <td>Another iconic Ian Smith call 🗣️🎤 #CricketShor...</td>\n",
       "      <td>2024-07-02T06:58:32Z</td>\n",
       "    </tr>\n",
       "    <tr>\n",
       "      <th>1</th>\n",
       "      <td>dlaGLRWBNEI</td>\n",
       "      <td>Same batter. Same opposition. Same reactions 👀...</td>\n",
       "      <td>2024-01-20T02:17:49Z</td>\n",
       "    </tr>\n",
       "    <tr>\n",
       "      <th>2</th>\n",
       "      <td>gTo-lPOGPdg</td>\n",
       "      <td>Australia v India | WTC23 Final | Match Highli...</td>\n",
       "      <td>2024-02-13T03:00:17Z</td>\n",
       "    </tr>\n",
       "    <tr>\n",
       "      <th>3</th>\n",
       "      <td>B3JZZThHKA4</td>\n",
       "      <td>Less than 10 months to go for the #WTC25 Final...</td>\n",
       "      <td>2024-09-04T17:20:24Z</td>\n",
       "    </tr>\n",
       "    <tr>\n",
       "      <th>4</th>\n",
       "      <td>I7fqF6j_CJI</td>\n",
       "      <td>Australia’s victorious WTC23 campaign | The Te...</td>\n",
       "      <td>2024-05-07T21:10:00Z</td>\n",
       "    </tr>\n",
       "  </tbody>\n",
       "</table>\n",
       "</div>"
      ],
      "text/plain": [
       "      video_id                                              title  \\\n",
       "0  Gzs-rqCuxTk  Another iconic Ian Smith call 🗣️🎤 #CricketShor...   \n",
       "1  dlaGLRWBNEI  Same batter. Same opposition. Same reactions 👀...   \n",
       "2  gTo-lPOGPdg  Australia v India | WTC23 Final | Match Highli...   \n",
       "3  B3JZZThHKA4  Less than 10 months to go for the #WTC25 Final...   \n",
       "4  I7fqF6j_CJI  Australia’s victorious WTC23 campaign | The Te...   \n",
       "\n",
       "           published_at  \n",
       "0  2024-07-02T06:58:32Z  \n",
       "1  2024-01-20T02:17:49Z  \n",
       "2  2024-02-13T03:00:17Z  \n",
       "3  2024-09-04T17:20:24Z  \n",
       "4  2024-05-07T21:10:00Z  "
      ]
     },
     "execution_count": 6,
     "metadata": {},
     "output_type": "execute_result"
    }
   ],
   "source": [
    "video_data.head()"
   ]
  },
  {
   "cell_type": "code",
   "execution_count": 7,
   "id": "2d83312b",
   "metadata": {},
   "outputs": [
    {
     "data": {
      "text/plain": [
       "(402, 3)"
      ]
     },
     "execution_count": 7,
     "metadata": {},
     "output_type": "execute_result"
    }
   ],
   "source": [
    "video_data.shape"
   ]
  },
  {
   "cell_type": "code",
   "execution_count": 8,
   "id": "2af67603",
   "metadata": {},
   "outputs": [],
   "source": [
    "# get all comments and comment replies from a video\n",
    "def get_comments(video_id, youtube):\n",
    "\n",
    "    comments = []\n",
    "    next_page_token = None\n",
    "\n",
    "    while True:\n",
    "        \n",
    "        # Request to get top-level comments\n",
    "        request = youtube.commentThreads().list(\n",
    "            part=\"snippet\",\n",
    "            videoId=video_id,\n",
    "            maxResults=100,\n",
    "            pageToken=next_page_token \n",
    "        )\n",
    "\n",
    "        # Execute the request\n",
    "        response = request.execute()\n",
    "\n",
    "        # Get comments\n",
    "        for item in response['items']:\n",
    "            comment = item['snippet']['topLevelComment']['snippet']\n",
    "            public = item['snippet'].get('isPublic', True)\n",
    "\n",
    "            # Append top-level comment details\n",
    "            comments.append([\n",
    "                video_id,\n",
    "                item['id'],\n",
    "                comment['authorDisplayName'],\n",
    "                comment['publishedAt'],\n",
    "                comment['likeCount'],\n",
    "                comment['textOriginal'],  \n",
    "                public, \n",
    "            ])\n",
    "\n",
    "        # Check for next page\n",
    "        next_page_token = response.get('nextPageToken')\n",
    "        if not next_page_token:\n",
    "            break\n",
    "    \n",
    "    return comments"
   ]
  },
  {
   "cell_type": "code",
   "execution_count": 9,
   "id": "beed6e4a",
   "metadata": {},
   "outputs": [],
   "source": [
    "df_comments = pd.DataFrame(columns=['video_id','comment_id','author', 'published_at', 'like_count', 'text',  'public', ])"
   ]
  },
  {
   "cell_type": "code",
   "execution_count": 10,
   "id": "76e2fe0f",
   "metadata": {},
   "outputs": [],
   "source": [
    "batch1 = [(0, 25), (25, 50)]\n",
    "batch2 = [(50, 75), (75, 100)]\n",
    "batch3 = [(100, 125), (125, 150)]\n",
    "batch4 = [(150, 175), (175, 200)]\n",
    "batch5 = [(200, 225), (225, 250)]\n",
    "batch6 = [(250, 275), (275, 300)]\n",
    "batch7 = [(300, 325), (325, 350)]\n",
    "batch8 = [(350, 375), (375, 400)]\n",
    "batch9 = [(400, 425), (425, 450)]\n",
    "batch10 = [(450, 475), (475, 502)]"
   ]
  },
  {
   "cell_type": "code",
   "execution_count": 11,
   "id": "0dd7d8ce",
   "metadata": {},
   "outputs": [],
   "source": [
    "def update_df_comments(video_data, start, end, youtube, df_comments):\n",
    "    \n",
    "    for video_id in tqdm(video_data['video_id'][start:end]):\n",
    "\n",
    "        comments = get_comments(video_id, youtube)\n",
    "\n",
    "        # convert the list of comments into a DataFrame\n",
    "        df_vcomments = pd.DataFrame(comments, columns=['video_id','comment_id','author', 'published_at', 'like_count', 'text',  'public', ])\n",
    "\n",
    "        # concatanate with df_comments dataframe\n",
    "        df_comments = pd.concat([df_comments, df_vcomments], ignore_index=True)\n",
    "        \n",
    "    return df_comments"
   ]
  },
  {
   "cell_type": "code",
   "execution_count": 12,
   "id": "3c120db4",
   "metadata": {},
   "outputs": [
    {
     "name": "stderr",
     "output_type": "stream",
     "text": [
      "  0%|          | 0/25 [00:00<?, ?it/s]"
     ]
    },
    {
     "name": "stderr",
     "output_type": "stream",
     "text": [
      "100%|██████████| 25/25 [01:26<00:00,  3.46s/it]\n",
      "100%|██████████| 25/25 [00:41<00:00,  1.67s/it]"
     ]
    },
    {
     "name": "stdout",
     "output_type": "stream",
     "text": [
      "(43261, 7)\n"
     ]
    },
    {
     "name": "stderr",
     "output_type": "stream",
     "text": [
      "\n"
     ]
    }
   ],
   "source": [
    "for start,end in batch1:\n",
    "    df_comments = update_df_comments(video_data, start, end, youtube, df_comments)\n",
    "print(df_comments.shape)"
   ]
  },
  {
   "cell_type": "code",
   "execution_count": 13,
   "id": "aa3975e4",
   "metadata": {},
   "outputs": [
    {
     "name": "stderr",
     "output_type": "stream",
     "text": [
      "100%|██████████| 25/25 [00:39<00:00,  1.57s/it]\n",
      "100%|██████████| 25/25 [00:11<00:00,  2.22it/s]"
     ]
    },
    {
     "name": "stdout",
     "output_type": "stream",
     "text": [
      "(59043, 7)\n"
     ]
    },
    {
     "name": "stderr",
     "output_type": "stream",
     "text": [
      "\n"
     ]
    }
   ],
   "source": [
    "for start,end in batch2:\n",
    "    df_comments = update_df_comments(video_data, start, end, youtube, df_comments)\n",
    "print(df_comments.shape)"
   ]
  },
  {
   "cell_type": "code",
   "execution_count": 14,
   "id": "e93c2c5d",
   "metadata": {},
   "outputs": [
    {
     "name": "stderr",
     "output_type": "stream",
     "text": [
      "100%|██████████| 25/25 [00:17<00:00,  1.43it/s]\n",
      "100%|██████████| 25/25 [00:13<00:00,  1.87it/s]"
     ]
    },
    {
     "name": "stdout",
     "output_type": "stream",
     "text": [
      "(68252, 7)\n"
     ]
    },
    {
     "name": "stderr",
     "output_type": "stream",
     "text": [
      "\n"
     ]
    }
   ],
   "source": [
    "for start,end in batch3:\n",
    "    df_comments = update_df_comments(video_data, start, end, youtube, df_comments)\n",
    "print(df_comments.shape)"
   ]
  },
  {
   "cell_type": "code",
   "execution_count": 15,
   "id": "89a8497a",
   "metadata": {},
   "outputs": [
    {
     "name": "stderr",
     "output_type": "stream",
     "text": [
      "100%|██████████| 25/25 [00:33<00:00,  1.33s/it]\n",
      "100%|██████████| 25/25 [00:16<00:00,  1.50it/s]"
     ]
    },
    {
     "name": "stdout",
     "output_type": "stream",
     "text": [
      "(83592, 7)\n"
     ]
    },
    {
     "name": "stderr",
     "output_type": "stream",
     "text": [
      "\n"
     ]
    }
   ],
   "source": [
    "for start,end in batch4:\n",
    "    df_comments = update_df_comments(video_data, start, end, youtube, df_comments)\n",
    "print(df_comments.shape)"
   ]
  },
  {
   "cell_type": "code",
   "execution_count": 16,
   "id": "a84acc34",
   "metadata": {},
   "outputs": [
    {
     "name": "stderr",
     "output_type": "stream",
     "text": [
      "100%|██████████| 25/25 [00:55<00:00,  2.20s/it]\n",
      "100%|██████████| 25/25 [00:09<00:00,  2.76it/s]"
     ]
    },
    {
     "name": "stdout",
     "output_type": "stream",
     "text": [
      "(103540, 7)\n"
     ]
    },
    {
     "name": "stderr",
     "output_type": "stream",
     "text": [
      "\n"
     ]
    }
   ],
   "source": [
    "for start,end in batch5:\n",
    "    df_comments = update_df_comments(video_data, start, end, youtube, df_comments)\n",
    "print(df_comments.shape)"
   ]
  },
  {
   "cell_type": "code",
   "execution_count": 17,
   "id": "4b15d27f",
   "metadata": {},
   "outputs": [
    {
     "name": "stderr",
     "output_type": "stream",
     "text": [
      "100%|██████████| 25/25 [00:21<00:00,  1.17it/s]\n",
      "100%|██████████| 25/25 [00:28<00:00,  1.15s/it]"
     ]
    },
    {
     "name": "stdout",
     "output_type": "stream",
     "text": [
      "(118335, 7)\n"
     ]
    },
    {
     "name": "stderr",
     "output_type": "stream",
     "text": [
      "\n"
     ]
    }
   ],
   "source": [
    "for start,end in batch6:\n",
    "    df_comments = update_df_comments(video_data, start, end, youtube, df_comments)\n",
    "print(df_comments.shape)"
   ]
  },
  {
   "cell_type": "code",
   "execution_count": 18,
   "id": "fb061835",
   "metadata": {},
   "outputs": [
    {
     "name": "stderr",
     "output_type": "stream",
     "text": [
      "100%|██████████| 25/25 [00:23<00:00,  1.06it/s]\n",
      "100%|██████████| 25/25 [00:22<00:00,  1.13it/s]"
     ]
    },
    {
     "name": "stdout",
     "output_type": "stream",
     "text": [
      "(132217, 7)\n"
     ]
    },
    {
     "name": "stderr",
     "output_type": "stream",
     "text": [
      "\n"
     ]
    }
   ],
   "source": [
    "for start,end in batch7:\n",
    "    df_comments = update_df_comments(video_data, start, end, youtube, df_comments)\n",
    "print(df_comments.shape)"
   ]
  },
  {
   "cell_type": "code",
   "execution_count": 19,
   "id": "fb85096f",
   "metadata": {},
   "outputs": [
    {
     "name": "stderr",
     "output_type": "stream",
     "text": [
      "100%|██████████| 25/25 [00:24<00:00,  1.01it/s]\n",
      "100%|██████████| 25/25 [00:21<00:00,  1.17it/s]"
     ]
    },
    {
     "name": "stdout",
     "output_type": "stream",
     "text": [
      "(149561, 7)\n"
     ]
    },
    {
     "name": "stderr",
     "output_type": "stream",
     "text": [
      "\n"
     ]
    }
   ],
   "source": [
    "for start,end in batch8:\n",
    "    df_comments = update_df_comments(video_data, start, end, youtube, df_comments)\n",
    "print(df_comments.shape)"
   ]
  },
  {
   "cell_type": "code",
   "execution_count": 20,
   "id": "a31bb8dc",
   "metadata": {},
   "outputs": [
    {
     "name": "stderr",
     "output_type": "stream",
     "text": [
      "100%|██████████| 2/2 [00:00<00:00,  4.20it/s]\n",
      "0it [00:00, ?it/s]"
     ]
    },
    {
     "name": "stdout",
     "output_type": "stream",
     "text": [
      "(149570, 7)\n"
     ]
    },
    {
     "name": "stderr",
     "output_type": "stream",
     "text": [
      "\n"
     ]
    }
   ],
   "source": [
    "for start,end in batch9:\n",
    "    df_comments = update_df_comments(video_data, start, end, youtube, df_comments)\n",
    "print(df_comments.shape)"
   ]
  },
  {
   "cell_type": "code",
   "execution_count": 21,
   "id": "622eb7ca",
   "metadata": {},
   "outputs": [
    {
     "name": "stderr",
     "output_type": "stream",
     "text": [
      "0it [00:00, ?it/s]\n",
      "0it [00:00, ?it/s]"
     ]
    },
    {
     "name": "stdout",
     "output_type": "stream",
     "text": [
      "(149570, 7)\n"
     ]
    },
    {
     "name": "stderr",
     "output_type": "stream",
     "text": [
      "\n"
     ]
    }
   ],
   "source": [
    "for start,end in batch10:\n",
    "    df_comments = update_df_comments(video_data, start, end, youtube, df_comments)\n",
    "print(df_comments.shape)"
   ]
  },
  {
   "cell_type": "code",
   "execution_count": 22,
   "id": "fd6007f7",
   "metadata": {},
   "outputs": [
    {
     "data": {
      "text/html": [
       "<div>\n",
       "<style scoped>\n",
       "    .dataframe tbody tr th:only-of-type {\n",
       "        vertical-align: middle;\n",
       "    }\n",
       "\n",
       "    .dataframe tbody tr th {\n",
       "        vertical-align: top;\n",
       "    }\n",
       "\n",
       "    .dataframe thead th {\n",
       "        text-align: right;\n",
       "    }\n",
       "</style>\n",
       "<table border=\"1\" class=\"dataframe\">\n",
       "  <thead>\n",
       "    <tr style=\"text-align: right;\">\n",
       "      <th></th>\n",
       "      <th>video_id</th>\n",
       "      <th>comment_id</th>\n",
       "      <th>author</th>\n",
       "      <th>published_at</th>\n",
       "      <th>like_count</th>\n",
       "      <th>text</th>\n",
       "      <th>public</th>\n",
       "    </tr>\n",
       "  </thead>\n",
       "  <tbody>\n",
       "    <tr>\n",
       "      <th>0</th>\n",
       "      <td>Gzs-rqCuxTk</td>\n",
       "      <td>Ugx4aAMCY9SQ3WksbV14AaABAg</td>\n",
       "      <td>@miteshvaghela1575</td>\n",
       "      <td>2024-10-18T01:22:12Z</td>\n",
       "      <td>0</td>\n",
       "      <td>Iconic moment of 2024</td>\n",
       "      <td>True</td>\n",
       "    </tr>\n",
       "    <tr>\n",
       "      <th>1</th>\n",
       "      <td>Gzs-rqCuxTk</td>\n",
       "      <td>Ugx1TlsDYYIhBxcTH0p4AaABAg</td>\n",
       "      <td>@sunnysumanthchowdary3946</td>\n",
       "      <td>2024-10-17T22:13:55Z</td>\n",
       "      <td>0</td>\n",
       "      <td>He dies but voice lives</td>\n",
       "      <td>True</td>\n",
       "    </tr>\n",
       "    <tr>\n",
       "      <th>2</th>\n",
       "      <td>Gzs-rqCuxTk</td>\n",
       "      <td>UgxpnagzLpasQxoFpox4AaABAg</td>\n",
       "      <td>@mahmudurrahman2912</td>\n",
       "      <td>2024-10-17T20:48:35Z</td>\n",
       "      <td>0</td>\n",
       "      <td>Bhai kothao bhul hoise😢😢</td>\n",
       "      <td>True</td>\n",
       "    </tr>\n",
       "    <tr>\n",
       "      <th>3</th>\n",
       "      <td>Gzs-rqCuxTk</td>\n",
       "      <td>UgzcEB0mK8zCC8T3yJh4AaABAg</td>\n",
       "      <td>@CRAZYGAMER-yh3yj</td>\n",
       "      <td>2024-10-17T19:11:38Z</td>\n",
       "      <td>0</td>\n",
       "      <td>Commentator ke words ko sunkar dil me kuch kuc...</td>\n",
       "      <td>True</td>\n",
       "    </tr>\n",
       "    <tr>\n",
       "      <th>4</th>\n",
       "      <td>Gzs-rqCuxTk</td>\n",
       "      <td>UgxpM2it6wCTfLJUS1N4AaABAg</td>\n",
       "      <td>@yashchopade309</td>\n",
       "      <td>2024-10-17T15:34:29Z</td>\n",
       "      <td>0</td>\n",
       "      <td>Commentary 💀 match 💀 catch 💀</td>\n",
       "      <td>True</td>\n",
       "    </tr>\n",
       "  </tbody>\n",
       "</table>\n",
       "</div>"
      ],
      "text/plain": [
       "      video_id                  comment_id                     author  \\\n",
       "0  Gzs-rqCuxTk  Ugx4aAMCY9SQ3WksbV14AaABAg         @miteshvaghela1575   \n",
       "1  Gzs-rqCuxTk  Ugx1TlsDYYIhBxcTH0p4AaABAg  @sunnysumanthchowdary3946   \n",
       "2  Gzs-rqCuxTk  UgxpnagzLpasQxoFpox4AaABAg        @mahmudurrahman2912   \n",
       "3  Gzs-rqCuxTk  UgzcEB0mK8zCC8T3yJh4AaABAg          @CRAZYGAMER-yh3yj   \n",
       "4  Gzs-rqCuxTk  UgxpM2it6wCTfLJUS1N4AaABAg            @yashchopade309   \n",
       "\n",
       "           published_at like_count  \\\n",
       "0  2024-10-18T01:22:12Z          0   \n",
       "1  2024-10-17T22:13:55Z          0   \n",
       "2  2024-10-17T20:48:35Z          0   \n",
       "3  2024-10-17T19:11:38Z          0   \n",
       "4  2024-10-17T15:34:29Z          0   \n",
       "\n",
       "                                                text public  \n",
       "0                              Iconic moment of 2024   True  \n",
       "1                            He dies but voice lives   True  \n",
       "2                           Bhai kothao bhul hoise😢😢   True  \n",
       "3  Commentator ke words ko sunkar dil me kuch kuc...   True  \n",
       "4                       Commentary 💀 match 💀 catch 💀   True  "
      ]
     },
     "execution_count": 22,
     "metadata": {},
     "output_type": "execute_result"
    }
   ],
   "source": [
    "df_comments.head()"
   ]
  },
  {
   "cell_type": "code",
   "execution_count": 23,
   "id": "18cda188",
   "metadata": {},
   "outputs": [
    {
     "data": {
      "text/html": [
       "<div>\n",
       "<style scoped>\n",
       "    .dataframe tbody tr th:only-of-type {\n",
       "        vertical-align: middle;\n",
       "    }\n",
       "\n",
       "    .dataframe tbody tr th {\n",
       "        vertical-align: top;\n",
       "    }\n",
       "\n",
       "    .dataframe thead th {\n",
       "        text-align: right;\n",
       "    }\n",
       "</style>\n",
       "<table border=\"1\" class=\"dataframe\">\n",
       "  <thead>\n",
       "    <tr style=\"text-align: right;\">\n",
       "      <th></th>\n",
       "      <th>video_id</th>\n",
       "      <th>comment_id</th>\n",
       "      <th>author</th>\n",
       "      <th>published_at</th>\n",
       "      <th>like_count</th>\n",
       "      <th>text</th>\n",
       "      <th>public</th>\n",
       "    </tr>\n",
       "  </thead>\n",
       "  <tbody>\n",
       "    <tr>\n",
       "      <th>149565</th>\n",
       "      <td>DAyM36Cte1M</td>\n",
       "      <td>UgzkjhLDycQGNW5NetN4AaABAg</td>\n",
       "      <td>@SwapnilAgarwal-gi9mq</td>\n",
       "      <td>2024-02-01T07:58:17Z</td>\n",
       "      <td>3</td>\n",
       "      <td>He looks like marlon samuels 😅</td>\n",
       "      <td>True</td>\n",
       "    </tr>\n",
       "    <tr>\n",
       "      <th>149566</th>\n",
       "      <td>Se0pGoMXyL0</td>\n",
       "      <td>UgyHMHZDLumRlUQIh7x4AaABAg</td>\n",
       "      <td>@tarunpal8091</td>\n",
       "      <td>2024-01-26T15:47:13Z</td>\n",
       "      <td>0</td>\n",
       "      <td>Namibia 🇳🇦 is growing in cricket</td>\n",
       "      <td>True</td>\n",
       "    </tr>\n",
       "    <tr>\n",
       "      <th>149567</th>\n",
       "      <td>Se0pGoMXyL0</td>\n",
       "      <td>UgxwrMWEDy-JauvFJVl4AaABAg</td>\n",
       "      <td>@razapk1795</td>\n",
       "      <td>2024-01-25T18:48:17Z</td>\n",
       "      <td>0</td>\n",
       "      <td>Nice 😂😂</td>\n",
       "      <td>True</td>\n",
       "    </tr>\n",
       "    <tr>\n",
       "      <th>149568</th>\n",
       "      <td>Se0pGoMXyL0</td>\n",
       "      <td>Ugx2kGzyL1e_FMOWO0F4AaABAg</td>\n",
       "      <td>@parikalanyantra69</td>\n",
       "      <td>2024-01-25T11:32:43Z</td>\n",
       "      <td>0</td>\n",
       "      <td>😂</td>\n",
       "      <td>True</td>\n",
       "    </tr>\n",
       "    <tr>\n",
       "      <th>149569</th>\n",
       "      <td>Se0pGoMXyL0</td>\n",
       "      <td>Ugxq_0QloZROUEtBQQp4AaABAg</td>\n",
       "      <td>@xfrostyyyyy4638</td>\n",
       "      <td>2024-01-24T11:36:49Z</td>\n",
       "      <td>1</td>\n",
       "      <td>lol</td>\n",
       "      <td>True</td>\n",
       "    </tr>\n",
       "  </tbody>\n",
       "</table>\n",
       "</div>"
      ],
      "text/plain": [
       "           video_id                  comment_id                 author  \\\n",
       "149565  DAyM36Cte1M  UgzkjhLDycQGNW5NetN4AaABAg  @SwapnilAgarwal-gi9mq   \n",
       "149566  Se0pGoMXyL0  UgyHMHZDLumRlUQIh7x4AaABAg          @tarunpal8091   \n",
       "149567  Se0pGoMXyL0  UgxwrMWEDy-JauvFJVl4AaABAg            @razapk1795   \n",
       "149568  Se0pGoMXyL0  Ugx2kGzyL1e_FMOWO0F4AaABAg     @parikalanyantra69   \n",
       "149569  Se0pGoMXyL0  Ugxq_0QloZROUEtBQQp4AaABAg       @xfrostyyyyy4638   \n",
       "\n",
       "                published_at like_count                              text  \\\n",
       "149565  2024-02-01T07:58:17Z          3    He looks like marlon samuels 😅   \n",
       "149566  2024-01-26T15:47:13Z          0  Namibia 🇳🇦 is growing in cricket   \n",
       "149567  2024-01-25T18:48:17Z          0                           Nice 😂😂   \n",
       "149568  2024-01-25T11:32:43Z          0                                 😂   \n",
       "149569  2024-01-24T11:36:49Z          1                               lol   \n",
       "\n",
       "       public  \n",
       "149565   True  \n",
       "149566   True  \n",
       "149567   True  \n",
       "149568   True  \n",
       "149569   True  "
      ]
     },
     "execution_count": 23,
     "metadata": {},
     "output_type": "execute_result"
    }
   ],
   "source": [
    "df_comments.tail()"
   ]
  },
  {
   "cell_type": "code",
   "execution_count": 24,
   "id": "eef90389",
   "metadata": {},
   "outputs": [],
   "source": [
    "# save df_comments as a csv file\n",
    "df_comments.to_csv(\"../../Data/Raw/test_youtube_comments.csv\",index=False)"
   ]
  },
  {
   "cell_type": "code",
   "execution_count": null,
   "id": "396b2d3c",
   "metadata": {},
   "outputs": [],
   "source": []
  }
 ],
 "metadata": {
  "kernelspec": {
   "display_name": "Python 3 (ipykernel)",
   "language": "python",
   "name": "python3"
  },
  "language_info": {
   "codemirror_mode": {
    "name": "ipython",
    "version": 3
   },
   "file_extension": ".py",
   "mimetype": "text/x-python",
   "name": "python",
   "nbconvert_exporter": "python",
   "pygments_lexer": "ipython3",
   "version": "3.11.7"
  }
 },
 "nbformat": 4,
 "nbformat_minor": 5
}
