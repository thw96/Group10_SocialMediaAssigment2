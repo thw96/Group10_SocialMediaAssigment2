{
 "cells": [
  {
   "cell_type": "markdown",
   "metadata": {},
   "source": [
    "### Data Cleaning Data Structure"
   ]
  },
  {
   "cell_type": "code",
   "execution_count": 19,
   "metadata": {},
   "outputs": [],
   "source": [
    "import csv\n",
    "import pandas as pd"
   ]
  },
  {
   "cell_type": "code",
   "execution_count": 24,
   "metadata": {},
   "outputs": [],
   "source": [
    "class RedditPost:\n",
    "    def __init__(self) -> None:\n",
    "        self.post_title      = None\n",
    "        self.post_user_id    = None\n",
    "        self.post_id         = None\n",
    "        self.post_content    = None\n",
    "        self.post_vote       = None\n",
    "        self.created_date    = None\n",
    "        self.comment_user_id = None\n",
    "        self.comment_time    = None\n",
    "        self.comment         = None\n",
    "        self.comment_vote    = None\n",
    "        self.comment_id      = None\n",
    "    \n",
    "    def __str__(self) -> str:\n",
    "        return f\"{self.post_title}, {self.post_user_id}, {self.post_id}, {self.post_content}, {self.post_vote}, \\\n",
    "            {self.created_date}, {self.comment_user_id}, {self.comment_time}, {self.comment}, {self.comment_vote}, \\\n",
    "            {self.comment_id}\"\n",
    "\n",
    "# Converter function\n",
    "def convert_from_tst_csv(csv_file):\n",
    "    record_list = []\n",
    "    current_post_dtl = RedditPost()\n",
    "\n",
    "    is_header = True\n",
    "    header = []\n",
    "\n",
    "    for row in csv_file:\n",
    "        if is_header:\n",
    "            header = row\n",
    "            is_header = False\n",
    "        else:\n",
    "\n",
    "            record = RedditPost()\n",
    "\n",
    "            record.post_title      = row[0] if row[0].strip() != \"\" else current_post_dtl.post_title\n",
    "            record.post_user_id    = row[1] if row[1].strip() != \"\" else current_post_dtl.post_user_id\n",
    "            record.post_id         = row[2] if row[2].strip() != \"\" else current_post_dtl.post_id\n",
    "            record.post_content    = row[3] if row[3].strip() != \"\" else current_post_dtl.post_content\n",
    "            record.post_vote       = row[4] if row[4].strip() != \"\" else current_post_dtl.post_vote\n",
    "            record.created_date    = row[5] if row[5].strip() != \"\" else current_post_dtl.created_date\n",
    "            record.comment_user_id = row[6]\n",
    "            record.comment         = row[7]\n",
    "            record.comment_vote    = row[8]\n",
    "            record.comment_id      = row[9]\n",
    "            record.comment_time    = row[10]\n",
    "\n",
    "\n",
    "            if (row[2].strip() != \"\") and current_post_dtl.post_id != row[2]:\n",
    "                current_post_dtl.post_title      = row[0]\n",
    "                current_post_dtl.post_user_id    = row[1]\n",
    "                current_post_dtl.post_id         = row[2]\n",
    "                current_post_dtl.post_content    = row[3]\n",
    "                current_post_dtl.post_vote       = row[4]\n",
    "                current_post_dtl.created_date    = row[5]\n",
    "            else: # if there is post information, there is no comments\n",
    "                record_list.append(record)\n",
    "                \n",
    "    print(len(record_list))\n",
    "    return (header, record_list)\n",
    "    \n",
    "\n",
    "def convert_from_t20_csv(input):\n",
    "    pass\n",
    "\n",
    "def convert_from_odi_csv(input):\n",
    "    pass\n"
   ]
  },
  {
   "cell_type": "markdown",
   "metadata": {},
   "source": [
    "### File Import (execute your conversion here)"
   ]
  },
  {
   "cell_type": "markdown",
   "metadata": {},
   "source": [
    "##### Test"
   ]
  },
  {
   "cell_type": "code",
   "execution_count": 25,
   "metadata": {},
   "outputs": [
    {
     "name": "stdout",
     "output_type": "stream",
     "text": [
      "88370\n"
     ]
    }
   ],
   "source": [
    "reddit_test_header_list = []\n",
    "\n",
    "with open('../../Data/Raw/hot_reddit_data_cricket_TEST.csv') as f:\n",
    "    csv_file = csv.reader(f)\n",
    "\n",
    "    reddit_test_header_list = convert_from_tst_csv(csv_file)"
   ]
  },
  {
   "cell_type": "code",
   "execution_count": 27,
   "metadata": {},
   "outputs": [
    {
     "data": {
      "text/html": [
       "<div>\n",
       "<style scoped>\n",
       "    .dataframe tbody tr th:only-of-type {\n",
       "        vertical-align: middle;\n",
       "    }\n",
       "\n",
       "    .dataframe tbody tr th {\n",
       "        vertical-align: top;\n",
       "    }\n",
       "\n",
       "    .dataframe thead th {\n",
       "        text-align: right;\n",
       "    }\n",
       "</style>\n",
       "<table border=\"1\" class=\"dataframe\">\n",
       "  <thead>\n",
       "    <tr style=\"text-align: right;\">\n",
       "      <th></th>\n",
       "      <th>post_title</th>\n",
       "      <th>post_user_id</th>\n",
       "      <th>post_id</th>\n",
       "      <th>post_content</th>\n",
       "      <th>post_vote</th>\n",
       "      <th>created_date</th>\n",
       "      <th>comment_user_id</th>\n",
       "      <th>comment_time</th>\n",
       "      <th>comment</th>\n",
       "      <th>comment_vote</th>\n",
       "      <th>comment_id</th>\n",
       "    </tr>\n",
       "  </thead>\n",
       "  <tbody>\n",
       "    <tr>\n",
       "      <th>0</th>\n",
       "      <td>Bangladesh beats Pakistan for the first ever i...</td>\n",
       "      <td>NoQuestion4045</td>\n",
       "      <td>1f0syen</td>\n",
       "      <td></td>\n",
       "      <td>2445</td>\n",
       "      <td>1724580261.0</td>\n",
       "      <td>None</td>\n",
       "      <td>1724580448.0</td>\n",
       "      <td>Fort Rawalpindi, yet to be captured, by the ho...</td>\n",
       "      <td>1151</td>\n",
       "      <td>lju4ld6</td>\n",
       "    </tr>\n",
       "    <tr>\n",
       "      <th>1</th>\n",
       "      <td>Bangladesh beats Pakistan for the first ever i...</td>\n",
       "      <td>NoQuestion4045</td>\n",
       "      <td>1f0syen</td>\n",
       "      <td></td>\n",
       "      <td>2445</td>\n",
       "      <td>1724580261.0</td>\n",
       "      <td>mofucker20</td>\n",
       "      <td>1724583533.0</td>\n",
       "      <td>That stat is so ridiculous. What’s even the us...</td>\n",
       "      <td>289</td>\n",
       "      <td>lju9bzy</td>\n",
       "    </tr>\n",
       "    <tr>\n",
       "      <th>2</th>\n",
       "      <td>Bangladesh beats Pakistan for the first ever i...</td>\n",
       "      <td>NoQuestion4045</td>\n",
       "      <td>1f0syen</td>\n",
       "      <td></td>\n",
       "      <td>2445</td>\n",
       "      <td>1724580261.0</td>\n",
       "      <td>SquiffyRae</td>\n",
       "      <td>1724585057.0</td>\n",
       "      <td>Part of the problem is Pindi is such a highway...</td>\n",
       "      <td>173</td>\n",
       "      <td>ljubwki</td>\n",
       "    </tr>\n",
       "    <tr>\n",
       "      <th>3</th>\n",
       "      <td>Bangladesh beats Pakistan for the first ever i...</td>\n",
       "      <td>NoQuestion4045</td>\n",
       "      <td>1f0syen</td>\n",
       "      <td></td>\n",
       "      <td>2445</td>\n",
       "      <td>1724580261.0</td>\n",
       "      <td>None</td>\n",
       "      <td>1724602628.0</td>\n",
       "      <td>It's particularly risky for a team like Pakist...</td>\n",
       "      <td>48</td>\n",
       "      <td>ljvk09z</td>\n",
       "    </tr>\n",
       "    <tr>\n",
       "      <th>4</th>\n",
       "      <td>Bangladesh beats Pakistan for the first ever i...</td>\n",
       "      <td>NoQuestion4045</td>\n",
       "      <td>1f0syen</td>\n",
       "      <td></td>\n",
       "      <td>2445</td>\n",
       "      <td>1724580261.0</td>\n",
       "      <td>contrarianMammal</td>\n",
       "      <td>1724614339.0</td>\n",
       "      <td>Isn't multan the same? A thousand runs a match</td>\n",
       "      <td>11</td>\n",
       "      <td>ljwj1og</td>\n",
       "    </tr>\n",
       "  </tbody>\n",
       "</table>\n",
       "</div>"
      ],
      "text/plain": [
       "                                          post_title    post_user_id  post_id  \\\n",
       "0  Bangladesh beats Pakistan for the first ever i...  NoQuestion4045  1f0syen   \n",
       "1  Bangladesh beats Pakistan for the first ever i...  NoQuestion4045  1f0syen   \n",
       "2  Bangladesh beats Pakistan for the first ever i...  NoQuestion4045  1f0syen   \n",
       "3  Bangladesh beats Pakistan for the first ever i...  NoQuestion4045  1f0syen   \n",
       "4  Bangladesh beats Pakistan for the first ever i...  NoQuestion4045  1f0syen   \n",
       "\n",
       "  post_content post_vote  created_date   comment_user_id  comment_time  \\\n",
       "0                   2445  1724580261.0              None  1724580448.0   \n",
       "1                   2445  1724580261.0        mofucker20  1724583533.0   \n",
       "2                   2445  1724580261.0        SquiffyRae  1724585057.0   \n",
       "3                   2445  1724580261.0              None  1724602628.0   \n",
       "4                   2445  1724580261.0  contrarianMammal  1724614339.0   \n",
       "\n",
       "                                             comment comment_vote comment_id  \n",
       "0  Fort Rawalpindi, yet to be captured, by the ho...         1151    lju4ld6  \n",
       "1  That stat is so ridiculous. What’s even the us...          289    lju9bzy  \n",
       "2  Part of the problem is Pindi is such a highway...          173    ljubwki  \n",
       "3  It's particularly risky for a team like Pakist...           48    ljvk09z  \n",
       "4     Isn't multan the same? A thousand runs a match           11    ljwj1og  "
      ]
     },
     "execution_count": 27,
     "metadata": {},
     "output_type": "execute_result"
    }
   ],
   "source": [
    "test_data_frame = pd.DataFrame([vars(x) for x in reddit_test_header_list[1]])\n",
    "\n",
    "test_data_frame.head(5)"
   ]
  },
  {
   "cell_type": "markdown",
   "metadata": {},
   "source": [
    "##### ODI"
   ]
  },
  {
   "cell_type": "code",
   "execution_count": null,
   "metadata": {},
   "outputs": [],
   "source": []
  },
  {
   "cell_type": "markdown",
   "metadata": {},
   "source": [
    "##### T20"
   ]
  },
  {
   "cell_type": "code",
   "execution_count": null,
   "metadata": {},
   "outputs": [],
   "source": []
  },
  {
   "cell_type": "markdown",
   "metadata": {},
   "source": [
    "### Data Cleaning"
   ]
  },
  {
   "cell_type": "code",
   "execution_count": null,
   "metadata": {},
   "outputs": [],
   "source": [
    "def to_lower_case_lists(submissions:list[RedditPost]) -> list[RedditPost]:\n",
    "    \n",
    "    reddit_posts:list[RedditPost] = []\n",
    "\n",
    "    for submission in submissions:\n",
    "        reddit_posts.append(to_lower_case_post(submission))\n",
    "\n",
    "    return reddit_posts\n",
    "\n",
    "        \n",
    "def to_lower_case_post(submission: RedditPost) -> RedditPost:\n",
    "    result = RedditPost()\n",
    "\n",
    "    result.post_title      = submission.post_title.lower()\n",
    "    result.post_user_id    = submission.post_user_id\n",
    "    result.post_id         = submission.post_id\n",
    "    result.post_content    = submission.post_content.lower()\n",
    "    result.post_vote       = submission.post_vote\n",
    "    result.created_date    = submission.created_date\n",
    "\n",
    "    result.replies: list[RedditComment] = to_lower_case_comment(input.replies)\n",
    "\n",
    "    return result\n",
    "\n",
    "\n",
    "def to_lower_case_comment(replies: list[RedditComment]) -> RedditComment:\n",
    "\n",
    "    inputNewList: list[RedditComment] = []\n",
    "\n",
    "    for reply in replies:\n",
    "        inputNew = RedditComment()\n",
    "        inputNew.comment_user_id = reply.comment_user_id\n",
    "        inputNew.comment_time    = reply.comment_time\n",
    "        inputNew.comment         = reply.comment.lower()\n",
    "        inputNew.comment_vote    = reply.comment_vote\n",
    "        inputNew.comment_id      = reply.comment_id\n",
    "\n",
    "        inputNewList.append(inputNew)\n",
    "\n",
    "    return inputNewList"
   ]
  },
  {
   "cell_type": "code",
   "execution_count": null,
   "metadata": {},
   "outputs": [],
   "source": []
  },
  {
   "cell_type": "code",
   "execution_count": null,
   "metadata": {},
   "outputs": [],
   "source": []
  },
  {
   "cell_type": "code",
   "execution_count": null,
   "metadata": {},
   "outputs": [],
   "source": []
  },
  {
   "cell_type": "code",
   "execution_count": null,
   "metadata": {},
   "outputs": [],
   "source": []
  },
  {
   "cell_type": "code",
   "execution_count": null,
   "metadata": {},
   "outputs": [],
   "source": []
  },
  {
   "cell_type": "code",
   "execution_count": null,
   "metadata": {},
   "outputs": [],
   "source": []
  },
  {
   "cell_type": "code",
   "execution_count": null,
   "metadata": {},
   "outputs": [],
   "source": [
    "# Execute the data right here:\n",
    "# reddit_test_list = []\n",
    "reddit_odi_list = []\n",
    "reddit_t20_list = []\n",
    "\n",
    "# I did used the functional approach, and I would recommended to declare a new variable for the cleaning result\n",
    "# so that we can revert to the previous steps just in case if one of our steps has gone wrong.\n",
    "reddit_test_list_lower = to_lower_case_lists(reddit_test_list)\n",
    "reddit_odi_list_lower = to_lower_case_lists(reddit_odi_list)\n",
    "reddit_t20_list_lower = to_lower_case_lists(reddit_t20_list)"
   ]
  }
 ],
 "metadata": {
  "kernelspec": {
   "display_name": "Python 3 (ipykernel)",
   "language": "python",
   "name": "python3"
  },
  "language_info": {
   "codemirror_mode": {
    "name": "ipython",
    "version": 3
   },
   "file_extension": ".py",
   "mimetype": "text/x-python",
   "name": "python",
   "nbconvert_exporter": "python",
   "pygments_lexer": "ipython3",
   "version": "3.11.7"
  }
 },
 "nbformat": 4,
 "nbformat_minor": 4
}
