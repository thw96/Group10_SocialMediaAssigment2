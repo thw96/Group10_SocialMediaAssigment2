{
 "cells": [
  {
   "cell_type": "code",
   "execution_count": 1,
   "id": "75a9732a",
   "metadata": {},
   "outputs": [],
   "source": [
    "import pandas as pd"
   ]
  },
  {
   "cell_type": "code",
   "execution_count": 2,
   "id": "81ebf7e5",
   "metadata": {},
   "outputs": [],
   "source": [
    "t20_data = pd.read_csv(\"t20_youtube_comments.csv\")"
   ]
  },
  {
   "cell_type": "code",
   "execution_count": 3,
   "id": "754187c3",
   "metadata": {},
   "outputs": [
    {
     "data": {
      "text/html": [
       "<div>\n",
       "<style scoped>\n",
       "    .dataframe tbody tr th:only-of-type {\n",
       "        vertical-align: middle;\n",
       "    }\n",
       "\n",
       "    .dataframe tbody tr th {\n",
       "        vertical-align: top;\n",
       "    }\n",
       "\n",
       "    .dataframe thead th {\n",
       "        text-align: right;\n",
       "    }\n",
       "</style>\n",
       "<table border=\"1\" class=\"dataframe\">\n",
       "  <thead>\n",
       "    <tr style=\"text-align: right;\">\n",
       "      <th></th>\n",
       "      <th>video_id</th>\n",
       "      <th>comment_id</th>\n",
       "      <th>author</th>\n",
       "      <th>published_at</th>\n",
       "      <th>like_count</th>\n",
       "      <th>text</th>\n",
       "      <th>public</th>\n",
       "    </tr>\n",
       "  </thead>\n",
       "  <tbody>\n",
       "    <tr>\n",
       "      <th>0</th>\n",
       "      <td>OSTMKBLDoLg</td>\n",
       "      <td>UgwagGVPKB0G4L2QqN54AaABAg</td>\n",
       "      <td>@HelenBrown-s1j</td>\n",
       "      <td>2024-10-09T06:16:40Z</td>\n",
       "      <td>0</td>\n",
       "      <td>Lueilwitz Drives</td>\n",
       "      <td>True</td>\n",
       "    </tr>\n",
       "    <tr>\n",
       "      <th>1</th>\n",
       "      <td>OSTMKBLDoLg</td>\n",
       "      <td>Ugx40mbl8sayIpye0sR4AaABAg</td>\n",
       "      <td>@Millan1105</td>\n",
       "      <td>2024-10-09T05:03:07Z</td>\n",
       "      <td>0</td>\n",
       "      <td>Ramiz Raja tries his best to praise pakistan b...</td>\n",
       "      <td>True</td>\n",
       "    </tr>\n",
       "    <tr>\n",
       "      <th>2</th>\n",
       "      <td>OSTMKBLDoLg</td>\n",
       "      <td>UgyFeQrGkvr0N_TLARB4AaABAg</td>\n",
       "      <td>@USASPORTSNBA</td>\n",
       "      <td>2024-10-08T19:13:50Z</td>\n",
       "      <td>0</td>\n",
       "      <td>https://youtube.com/shorts/goHhbH1OGXs?si=l1Mw...</td>\n",
       "      <td>True</td>\n",
       "    </tr>\n",
       "    <tr>\n",
       "      <th>3</th>\n",
       "      <td>OSTMKBLDoLg</td>\n",
       "      <td>UgwaCP7CZSgqcVICjbl4AaABAg</td>\n",
       "      <td>@gauravrai452</td>\n",
       "      <td>2024-10-08T04:58:21Z</td>\n",
       "      <td>0</td>\n",
       "      <td>Chi chi chi chi chi pakistan bhikhario 😂😂😂😂😂</td>\n",
       "      <td>True</td>\n",
       "    </tr>\n",
       "    <tr>\n",
       "      <th>4</th>\n",
       "      <td>OSTMKBLDoLg</td>\n",
       "      <td>Ugz579po_veOZLQBWz14AaABAg</td>\n",
       "      <td>@yuvrajsinghdeora7774</td>\n",
       "      <td>2024-10-07T17:30:17Z</td>\n",
       "      <td>0</td>\n",
       "      <td>He can't play Netravalkar 😂</td>\n",
       "      <td>True</td>\n",
       "    </tr>\n",
       "  </tbody>\n",
       "</table>\n",
       "</div>"
      ],
      "text/plain": [
       "      video_id                  comment_id                 author  \\\n",
       "0  OSTMKBLDoLg  UgwagGVPKB0G4L2QqN54AaABAg        @HelenBrown-s1j   \n",
       "1  OSTMKBLDoLg  Ugx40mbl8sayIpye0sR4AaABAg            @Millan1105   \n",
       "2  OSTMKBLDoLg  UgyFeQrGkvr0N_TLARB4AaABAg          @USASPORTSNBA   \n",
       "3  OSTMKBLDoLg  UgwaCP7CZSgqcVICjbl4AaABAg          @gauravrai452   \n",
       "4  OSTMKBLDoLg  Ugz579po_veOZLQBWz14AaABAg  @yuvrajsinghdeora7774   \n",
       "\n",
       "           published_at  like_count  \\\n",
       "0  2024-10-09T06:16:40Z           0   \n",
       "1  2024-10-09T05:03:07Z           0   \n",
       "2  2024-10-08T19:13:50Z           0   \n",
       "3  2024-10-08T04:58:21Z           0   \n",
       "4  2024-10-07T17:30:17Z           0   \n",
       "\n",
       "                                                text  public  \n",
       "0                                   Lueilwitz Drives    True  \n",
       "1  Ramiz Raja tries his best to praise pakistan b...    True  \n",
       "2  https://youtube.com/shorts/goHhbH1OGXs?si=l1Mw...    True  \n",
       "3       Chi chi chi chi chi pakistan bhikhario 😂😂😂😂😂    True  \n",
       "4                        He can't play Netravalkar 😂    True  "
      ]
     },
     "execution_count": 3,
     "metadata": {},
     "output_type": "execute_result"
    }
   ],
   "source": [
    "t20_data.head()"
   ]
  },
  {
   "cell_type": "code",
   "execution_count": 4,
   "id": "748ded1a",
   "metadata": {},
   "outputs": [],
   "source": [
    "t20_videos = pd.read_csv(\"t20_youtube_videos.csv\")"
   ]
  },
  {
   "cell_type": "code",
   "execution_count": 5,
   "id": "5ee4b41d",
   "metadata": {},
   "outputs": [
    {
     "data": {
      "text/html": [
       "<div>\n",
       "<style scoped>\n",
       "    .dataframe tbody tr th:only-of-type {\n",
       "        vertical-align: middle;\n",
       "    }\n",
       "\n",
       "    .dataframe tbody tr th {\n",
       "        vertical-align: top;\n",
       "    }\n",
       "\n",
       "    .dataframe thead th {\n",
       "        text-align: right;\n",
       "    }\n",
       "</style>\n",
       "<table border=\"1\" class=\"dataframe\">\n",
       "  <thead>\n",
       "    <tr style=\"text-align: right;\">\n",
       "      <th></th>\n",
       "      <th>video_id</th>\n",
       "      <th>title</th>\n",
       "      <th>published_at</th>\n",
       "    </tr>\n",
       "  </thead>\n",
       "  <tbody>\n",
       "    <tr>\n",
       "      <th>0</th>\n",
       "      <td>OSTMKBLDoLg</td>\n",
       "      <td>The American fairytale continues as USA beat P...</td>\n",
       "      <td>2024-06-06T23:37:36Z</td>\n",
       "    </tr>\n",
       "    <tr>\n",
       "      <th>1</th>\n",
       "      <td>3yiWqnKl7lQ</td>\n",
       "      <td>The Epic Montage | T20 World Cup 2024 Final</td>\n",
       "      <td>2024-07-04T08:51:35Z</td>\n",
       "    </tr>\n",
       "    <tr>\n",
       "      <th>2</th>\n",
       "      <td>fVZQCdHUTsA</td>\n",
       "      <td>Virat Kohli 🤝 Rohit Sharma #cricket #cricketsh...</td>\n",
       "      <td>2024-06-30T01:45:47Z</td>\n",
       "    </tr>\n",
       "    <tr>\n",
       "      <th>3</th>\n",
       "      <td>89_E436SRos</td>\n",
       "      <td>Let the celebrations begin 🥳 #cricket #cricket...</td>\n",
       "      <td>2024-06-29T23:30:01Z</td>\n",
       "    </tr>\n",
       "    <tr>\n",
       "      <th>4</th>\n",
       "      <td>Gzs-rqCuxTk</td>\n",
       "      <td>Another iconic Ian Smith call 🗣️🎤 #CricketShor...</td>\n",
       "      <td>2024-07-02T06:58:32Z</td>\n",
       "    </tr>\n",
       "  </tbody>\n",
       "</table>\n",
       "</div>"
      ],
      "text/plain": [
       "      video_id                                              title  \\\n",
       "0  OSTMKBLDoLg  The American fairytale continues as USA beat P...   \n",
       "1  3yiWqnKl7lQ        The Epic Montage | T20 World Cup 2024 Final   \n",
       "2  fVZQCdHUTsA  Virat Kohli 🤝 Rohit Sharma #cricket #cricketsh...   \n",
       "3  89_E436SRos  Let the celebrations begin 🥳 #cricket #cricket...   \n",
       "4  Gzs-rqCuxTk  Another iconic Ian Smith call 🗣️🎤 #CricketShor...   \n",
       "\n",
       "           published_at  \n",
       "0  2024-06-06T23:37:36Z  \n",
       "1  2024-07-04T08:51:35Z  \n",
       "2  2024-06-30T01:45:47Z  \n",
       "3  2024-06-29T23:30:01Z  \n",
       "4  2024-07-02T06:58:32Z  "
      ]
     },
     "execution_count": 5,
     "metadata": {},
     "output_type": "execute_result"
    }
   ],
   "source": [
    "t20_videos.head()"
   ]
  },
  {
   "cell_type": "code",
   "execution_count": 6,
   "id": "4efb76dd",
   "metadata": {},
   "outputs": [
    {
     "name": "stdout",
     "output_type": "stream",
     "text": [
      "<class 'pandas.core.frame.DataFrame'>\n",
      "RangeIndex: 222869 entries, 0 to 222868\n",
      "Data columns (total 7 columns):\n",
      " #   Column        Non-Null Count   Dtype \n",
      "---  ------        --------------   ----- \n",
      " 0   video_id      222869 non-null  object\n",
      " 1   comment_id    222869 non-null  object\n",
      " 2   author        222852 non-null  object\n",
      " 3   published_at  222869 non-null  object\n",
      " 4   like_count    222869 non-null  int64 \n",
      " 5   text          222851 non-null  object\n",
      " 6   public        222869 non-null  bool  \n",
      "dtypes: bool(1), int64(1), object(5)\n",
      "memory usage: 10.4+ MB\n"
     ]
    }
   ],
   "source": [
    "t20_data.info()"
   ]
  },
  {
   "cell_type": "code",
   "execution_count": 7,
   "id": "d8c63ed7",
   "metadata": {},
   "outputs": [
    {
     "name": "stderr",
     "output_type": "stream",
     "text": [
      "C:\\Users\\sppag\\AppData\\Local\\Temp\\ipykernel_32776\\3853733955.py:2: DeprecationWarning: DataFrameGroupBy.apply operated on the grouping columns. This behavior is deprecated, and in a future version of pandas the grouping columns will be excluded from the operation. Either pass `include_groups=False` to exclude the groupings or explicitly select the grouping columns after groupby to silence this warning.\n",
      "  t20_data = t20_data.groupby('video_id').apply(lambda x: x.sort_values('like_count', ascending=False))\n"
     ]
    }
   ],
   "source": [
    "#grouping and sorting t20_data\n",
    "t20_data = t20_data.groupby('video_id').apply(lambda x: x.sort_values('like_count', ascending=False))\n",
    "t20_data = t20_data.reset_index(drop=True)"
   ]
  },
  {
   "cell_type": "code",
   "execution_count": 8,
   "id": "ae238e27",
   "metadata": {},
   "outputs": [
    {
     "data": {
      "text/html": [
       "<div>\n",
       "<style scoped>\n",
       "    .dataframe tbody tr th:only-of-type {\n",
       "        vertical-align: middle;\n",
       "    }\n",
       "\n",
       "    .dataframe tbody tr th {\n",
       "        vertical-align: top;\n",
       "    }\n",
       "\n",
       "    .dataframe thead th {\n",
       "        text-align: right;\n",
       "    }\n",
       "</style>\n",
       "<table border=\"1\" class=\"dataframe\">\n",
       "  <thead>\n",
       "    <tr style=\"text-align: right;\">\n",
       "      <th></th>\n",
       "      <th>video_id</th>\n",
       "      <th>comment_id</th>\n",
       "      <th>author</th>\n",
       "      <th>published_at</th>\n",
       "      <th>like_count</th>\n",
       "      <th>text</th>\n",
       "      <th>public</th>\n",
       "    </tr>\n",
       "  </thead>\n",
       "  <tbody>\n",
       "    <tr>\n",
       "      <th>0</th>\n",
       "      <td>-0jp9XK86Dw</td>\n",
       "      <td>UgxS0yKnpiVaaxU0Gu94AaABAg</td>\n",
       "      <td>@ruchirj4533</td>\n",
       "      <td>2024-03-30T12:18:41Z</td>\n",
       "      <td>731</td>\n",
       "      <td>Massive respect to Sachin Tendulkar but if Sur...</td>\n",
       "      <td>True</td>\n",
       "    </tr>\n",
       "    <tr>\n",
       "      <th>1</th>\n",
       "      <td>-0jp9XK86Dw</td>\n",
       "      <td>UgwOFSkSLrnwCqAA3tt4AaABAg</td>\n",
       "      <td>@ayush__635</td>\n",
       "      <td>2024-03-31T05:13:15Z</td>\n",
       "      <td>365</td>\n",
       "      <td>That day...2011 evening...\\nWednesday...\\nA Bi...</td>\n",
       "      <td>True</td>\n",
       "    </tr>\n",
       "    <tr>\n",
       "      <th>2</th>\n",
       "      <td>-0jp9XK86Dw</td>\n",
       "      <td>UgyQLpqNAjhHcm5ju8F4AaABAg</td>\n",
       "      <td>@Shagunyadav-d9e</td>\n",
       "      <td>2024-03-30T12:49:51Z</td>\n",
       "      <td>278</td>\n",
       "      <td>India have 11 player in team but when Sachin T...</td>\n",
       "      <td>True</td>\n",
       "    </tr>\n",
       "    <tr>\n",
       "      <th>3</th>\n",
       "      <td>-0jp9XK86Dw</td>\n",
       "      <td>UgxobcjUde9b6ol9Jul4AaABAg</td>\n",
       "      <td>@nandanaras2833</td>\n",
       "      <td>2024-03-30T14:03:46Z</td>\n",
       "      <td>163</td>\n",
       "      <td>2011 world cup. hidden star (gambir. Sachin. y...</td>\n",
       "      <td>True</td>\n",
       "    </tr>\n",
       "    <tr>\n",
       "      <th>4</th>\n",
       "      <td>-0jp9XK86Dw</td>\n",
       "      <td>UgzOE7CJW4X1XiEjv394AaABAg</td>\n",
       "      <td>@dasaradhd4910</td>\n",
       "      <td>2024-07-04T17:17:50Z</td>\n",
       "      <td>127</td>\n",
       "      <td>Every one used to talk about Gambhir and dhoni...</td>\n",
       "      <td>True</td>\n",
       "    </tr>\n",
       "  </tbody>\n",
       "</table>\n",
       "</div>"
      ],
      "text/plain": [
       "      video_id                  comment_id            author  \\\n",
       "0  -0jp9XK86Dw  UgxS0yKnpiVaaxU0Gu94AaABAg      @ruchirj4533   \n",
       "1  -0jp9XK86Dw  UgwOFSkSLrnwCqAA3tt4AaABAg       @ayush__635   \n",
       "2  -0jp9XK86Dw  UgyQLpqNAjhHcm5ju8F4AaABAg  @Shagunyadav-d9e   \n",
       "3  -0jp9XK86Dw  UgxobcjUde9b6ol9Jul4AaABAg   @nandanaras2833   \n",
       "4  -0jp9XK86Dw  UgzOE7CJW4X1XiEjv394AaABAg    @dasaradhd4910   \n",
       "\n",
       "           published_at  like_count  \\\n",
       "0  2024-03-30T12:18:41Z         731   \n",
       "1  2024-03-31T05:13:15Z         365   \n",
       "2  2024-03-30T12:49:51Z         278   \n",
       "3  2024-03-30T14:03:46Z         163   \n",
       "4  2024-07-04T17:17:50Z         127   \n",
       "\n",
       "                                                text  public  \n",
       "0  Massive respect to Sachin Tendulkar but if Sur...    True  \n",
       "1  That day...2011 evening...\\nWednesday...\\nA Bi...    True  \n",
       "2  India have 11 player in team but when Sachin T...    True  \n",
       "3  2011 world cup. hidden star (gambir. Sachin. y...    True  \n",
       "4  Every one used to talk about Gambhir and dhoni...    True  "
      ]
     },
     "execution_count": 8,
     "metadata": {},
     "output_type": "execute_result"
    }
   ],
   "source": [
    "t20_data.head()"
   ]
  },
  {
   "cell_type": "code",
   "execution_count": 9,
   "id": "c9ba7f65",
   "metadata": {},
   "outputs": [],
   "source": [
    "#check no of comments per each video\n",
    "group_counts = t20_data.groupby(\"video_id\").size()"
   ]
  },
  {
   "cell_type": "code",
   "execution_count": 10,
   "id": "496f3bb3",
   "metadata": {},
   "outputs": [],
   "source": [
    "#sorting group counts in descending order\n",
    "group_counts = group_counts.sort_values(ascending=False)"
   ]
  },
  {
   "cell_type": "code",
   "execution_count": 11,
   "id": "5b6f4a01",
   "metadata": {},
   "outputs": [
    {
     "name": "stdout",
     "output_type": "stream",
     "text": [
      "video_id\n",
      "boOWyGnGYxs    11835\n",
      "YqKYpgZ9FWU     9744\n",
      "Gzs-rqCuxTk     9603\n",
      "iMtkpSzOVqc     7956\n",
      "OSTMKBLDoLg     6370\n",
      "V8m8equTo3c     5609\n",
      "VQpTVVsNHQs     4090\n",
      "8rIgfe5xt2w     3842\n",
      "ijp5AyWVWds     3606\n",
      "XBvnLpTJ6Uk     3448\n",
      "3yiWqnKl7lQ     3391\n",
      "YphL3Whh5B0     3316\n",
      "Zf_xvZv4q7c     3046\n",
      "fVZQCdHUTsA     2948\n",
      "6rc1SPR6PbY     2737\n",
      "gTo-lPOGPdg     2690\n",
      "0j2CV-__V48     2603\n",
      "89_E436SRos     2560\n",
      "QXVcXQCpz_E     2366\n",
      "j20RXTDr2Q0     2231\n",
      "LgvbBhqRUQM     2168\n",
      "66aHdCoOKZQ     2125\n",
      "BHvvrv4AUFk     2101\n",
      "ICBMV8U6oCQ     2090\n",
      "glTy9dxHL6Q     2042\n",
      "WBC_imavsmQ     2019\n",
      "gl1nn9w_8zk     1959\n",
      "f-PfPPZglSM     1923\n",
      "1RnrJc0zNys     1917\n",
      "4iiLuQVMs-w     1916\n",
      "N22Vd0DY3Lw     1846\n",
      "OzsYsAvVaTk     1752\n",
      "xKMRx_upkRY     1743\n",
      "RR0yM5mG_8U     1696\n",
      "xxvYrKpI1-0     1598\n",
      "KVroGz3_wFU     1578\n",
      "bNLJEsqCFWM     1536\n",
      "GzW4qSM2bbk     1505\n",
      "tdiAhkOH6Sc     1486\n",
      "R9_YsawaSNc     1468\n",
      "BD608IJ3aCE     1408\n",
      "_bb33rYsAvI     1407\n",
      "-2fjXRxMh-c     1407\n",
      "RJcAz3rU2Zc     1386\n",
      "cc8RCrwioJA     1369\n",
      "X0neGlEYL2s     1358\n",
      "q06EcYMViwQ     1332\n",
      "_LegGXsy6pk     1322\n",
      "LD4RlAw1n1E     1292\n",
      "pEMePnorNDA     1231\n",
      "dtype: int64\n"
     ]
    }
   ],
   "source": [
    "print(group_counts.head(n=50))"
   ]
  },
  {
   "cell_type": "code",
   "execution_count": 12,
   "id": "6489db66",
   "metadata": {},
   "outputs": [
    {
     "data": {
      "text/plain": [
       "(56,)"
      ]
     },
     "execution_count": 12,
     "metadata": {},
     "output_type": "execute_result"
    }
   ],
   "source": [
    "# checking no of videos with more than 1000 comments\n",
    "group_counts[group_counts > 1000].shape"
   ]
  },
  {
   "cell_type": "code",
   "execution_count": 13,
   "id": "9c361e91",
   "metadata": {},
   "outputs": [
    {
     "name": "stdout",
     "output_type": "stream",
     "text": [
      "video_id\n",
      "KxXPiLz_mmI    10\n",
      "g2ma5wXXSes    10\n",
      "W0EFm0I1rDg    10\n",
      "s2tghBRyylo    10\n",
      "QCRqe4Zh4KU    10\n",
      "S4IV_OgnEQY    10\n",
      "bP0i3dvdoyk    10\n",
      "lnspXHK-HOY     9\n",
      "A0k66aYwKG4     9\n",
      "vJMRcp8x6HM     9\n",
      "vXs6uHSvDt0     9\n",
      "FJG3miEq9AQ     9\n",
      "mqLdayh9_wk     9\n",
      "JE959-VJYJA     9\n",
      "UISo7MfLrOs     9\n",
      "5IqNfkOR7Zg     9\n",
      "Fppj7nwFkjU     9\n",
      "rNYnO2ERNiw     8\n",
      "9h1e8gygytw     8\n",
      "1AkzAtcfKMM     8\n",
      "iKS5DAGn9NM     8\n",
      "0PnH6MSCPjM     8\n",
      "JB5cpZEO_FA     7\n",
      "iOg_oxs93PU     7\n",
      "SoiMJptmcKk     7\n",
      "Md58qgxARb4     7\n",
      "jF6M1lClWM4     7\n",
      "4stmNOSnGAI     7\n",
      "Wg-Hwt6A5GM     6\n",
      "EVeOzGYl6xA     6\n",
      "Rd43N0CgQDw     6\n",
      "nDo7n7V-jlo     6\n",
      "9yD6sfPvsxs     6\n",
      "pH80XssXni0     6\n",
      "yIWBdvKtcyc     5\n",
      "ckYhAnlcITY     5\n",
      "4RzpJ_3J6iU     4\n",
      "8btk8BvyYDI     4\n",
      "Y9BmC3hpcs4     4\n",
      "Lb_-WQijEXQ     3\n",
      "uyejiFYcACY     3\n",
      "L7Eh8oG7chk     3\n",
      "E9vAT8UAnp4     2\n",
      "1KbthIoQGGs     2\n",
      "hj_hgsU5d5I     2\n",
      "EE1gqMZnZo4     2\n",
      "eeLW4bIU14w     2\n",
      "YlnMjvGYrKI     2\n",
      "cbgqWvBF_TY     2\n",
      "qxrdHWl-VZw     1\n",
      "dtype: int64\n"
     ]
    }
   ],
   "source": [
    "print(group_counts.tail(n=50))"
   ]
  },
  {
   "cell_type": "code",
   "execution_count": 14,
   "id": "e708498f",
   "metadata": {},
   "outputs": [
    {
     "name": "stderr",
     "output_type": "stream",
     "text": [
      "C:\\Users\\sppag\\AppData\\Local\\Temp\\ipykernel_32776\\106807631.py:1: DeprecationWarning: DataFrameGroupBy.apply operated on the grouping columns. This behavior is deprecated, and in a future version of pandas the grouping columns will be excluded from the operation. Either pass `include_groups=False` to exclude the groupings or explicitly select the grouping columns after groupby to silence this warning.\n",
      "  filtered_t20_data = t20_data.groupby('video_id').apply(lambda x: x.head(1000)).reset_index(drop=True)\n"
     ]
    }
   ],
   "source": [
    "filtered_t20_data = t20_data.groupby('video_id').apply(lambda x: x.head(1000)).reset_index(drop=True)"
   ]
  },
  {
   "cell_type": "code",
   "execution_count": 15,
   "id": "80d3410b",
   "metadata": {},
   "outputs": [
    {
     "data": {
      "text/plain": [
       "(128469, 7)"
      ]
     },
     "execution_count": 15,
     "metadata": {},
     "output_type": "execute_result"
    }
   ],
   "source": [
    "filtered_t20_data.shape"
   ]
  },
  {
   "cell_type": "code",
   "execution_count": 16,
   "id": "81b1553f",
   "metadata": {},
   "outputs": [
    {
     "name": "stderr",
     "output_type": "stream",
     "text": [
      "C:\\Users\\sppag\\AppData\\Local\\Temp\\ipykernel_32776\\3420170617.py:1: DeprecationWarning: DataFrameGroupBy.apply operated on the grouping columns. This behavior is deprecated, and in a future version of pandas the grouping columns will be excluded from the operation. Either pass `include_groups=False` to exclude the groupings or explicitly select the grouping columns after groupby to silence this warning.\n",
      "  filtered_t20_data2 = t20_data.groupby('video_id').apply(lambda x: x.head(500)).reset_index(drop=True)\n"
     ]
    }
   ],
   "source": [
    "filtered_t20_data2 = t20_data.groupby('video_id').apply(lambda x: x.head(500)).reset_index(drop=True)"
   ]
  },
  {
   "cell_type": "code",
   "execution_count": 17,
   "id": "5c003e91",
   "metadata": {},
   "outputs": [
    {
     "data": {
      "text/plain": [
       "(91515, 7)"
      ]
     },
     "execution_count": 17,
     "metadata": {},
     "output_type": "execute_result"
    }
   ],
   "source": [
    "filtered_t20_data2.shape"
   ]
  },
  {
   "cell_type": "code",
   "execution_count": 18,
   "id": "64fd53dc",
   "metadata": {},
   "outputs": [
    {
     "data": {
      "text/plain": [
       "(103,)"
      ]
     },
     "execution_count": 18,
     "metadata": {},
     "output_type": "execute_result"
    }
   ],
   "source": [
    "# checking no of videos with more than 500 comments\n",
    "group_counts[group_counts > 500].shape"
   ]
  },
  {
   "cell_type": "code",
   "execution_count": 19,
   "id": "327eda29",
   "metadata": {},
   "outputs": [
    {
     "name": "stdout",
     "output_type": "stream",
     "text": [
      "The American fairytale continues as USA beat Pakistan in a massive upset at the #T20WorldCup 😍\n",
      "The Epic Montage | T20 World Cup 2024 Final\n",
      "Virat Kohli 🤝 Rohit Sharma #cricket #cricketshorts #ytshorts #T20WorldCup\n",
      "Let the celebrations begin 🥳 #cricket #cricketshorts #ytshorts #t20worldcup\n",
      "Another iconic Ian Smith call 🗣️🎤 #CricketShorts #YTShorts\n",
      "Australia claim maiden Men&#39;s T20 World Cup title | Match Highlights | T20WC 2021\n",
      "Unbelievable athleticism | The Best Catches of T20WC 2024\n",
      "Simply brilliant by Suryakumar Yadav 😮 #cricket #cricketshorts #ytshorts #T20WorldCup\n",
      "When you win, dance like everyone’s watching 😉 #T20WorldCup #cricket #cricketshorts #ytshorts\n",
      "Virat Kohli magic at the MCG 🪄 #cricket #t20worldcup #cricketshorts\n",
      "Every Jasprit Bumrah wicket at Cricket World Cup 2023\n",
      "Carnage with the ball | The Best Deliveries of T20WC 2024\n",
      "Lifting the World Cup trophy is always a special feeling 🙌 #cricket #cwc23 #cricketlover\n",
      "Sean Paul &amp; Kes - Out Of This World (Music Video) [ICC Men’s T20 World Cup 2024 Official Anthem]\n",
      "Ric Flair 🤝 Rohit Sharma #T20WorldCup #Cricket #cricketshorts #ytshorts\n",
      "Continuing a glorious 🇮🇳 Men&#39;s World Cup legacy 🏆#T20WorldCup\n",
      "Cricket World Cup 2023 Final: Australia v India | Match Highlights\n",
      "The euphoria of a #T20WorldCup trophy in your hands 🙌🏆\n",
      "ICC Men’s T20 World Cup 2024 Official Anthem Teaser ft. Sean Paul and Kes\n",
      "Rangana Herath runs through New Zealand with 5/3 in 2014 | T20 World Cup\n",
      "New York Pitch Update | T20 World Cup 2024\n",
      "Same batter. Same opposition. Same reactions 👀 #cwc23  #cricket  #ausvpak\n"
     ]
    }
   ],
   "source": [
    "# checking video title to confirm videos are about T20 \n",
    "for i,title in enumerate(t20_videos['title']):\n",
    "    print(title)\n",
    "    if i>20:\n",
    "        break"
   ]
  },
  {
   "cell_type": "code",
   "execution_count": 20,
   "id": "fc76d0ac",
   "metadata": {},
   "outputs": [],
   "source": [
    "t20_videos['Valid'] = t20_videos['title'].apply(lambda x: True if 'T20' in x or 't20' in x else False)"
   ]
  },
  {
   "cell_type": "code",
   "execution_count": 21,
   "id": "ff7d159d",
   "metadata": {},
   "outputs": [
    {
     "data": {
      "text/html": [
       "<div>\n",
       "<style scoped>\n",
       "    .dataframe tbody tr th:only-of-type {\n",
       "        vertical-align: middle;\n",
       "    }\n",
       "\n",
       "    .dataframe tbody tr th {\n",
       "        vertical-align: top;\n",
       "    }\n",
       "\n",
       "    .dataframe thead th {\n",
       "        text-align: right;\n",
       "    }\n",
       "</style>\n",
       "<table border=\"1\" class=\"dataframe\">\n",
       "  <thead>\n",
       "    <tr style=\"text-align: right;\">\n",
       "      <th></th>\n",
       "      <th>video_id</th>\n",
       "      <th>title</th>\n",
       "      <th>published_at</th>\n",
       "      <th>Valid</th>\n",
       "    </tr>\n",
       "  </thead>\n",
       "  <tbody>\n",
       "    <tr>\n",
       "      <th>0</th>\n",
       "      <td>OSTMKBLDoLg</td>\n",
       "      <td>The American fairytale continues as USA beat P...</td>\n",
       "      <td>2024-06-06T23:37:36Z</td>\n",
       "      <td>True</td>\n",
       "    </tr>\n",
       "    <tr>\n",
       "      <th>1</th>\n",
       "      <td>3yiWqnKl7lQ</td>\n",
       "      <td>The Epic Montage | T20 World Cup 2024 Final</td>\n",
       "      <td>2024-07-04T08:51:35Z</td>\n",
       "      <td>True</td>\n",
       "    </tr>\n",
       "    <tr>\n",
       "      <th>2</th>\n",
       "      <td>fVZQCdHUTsA</td>\n",
       "      <td>Virat Kohli 🤝 Rohit Sharma #cricket #cricketsh...</td>\n",
       "      <td>2024-06-30T01:45:47Z</td>\n",
       "      <td>True</td>\n",
       "    </tr>\n",
       "    <tr>\n",
       "      <th>3</th>\n",
       "      <td>89_E436SRos</td>\n",
       "      <td>Let the celebrations begin 🥳 #cricket #cricket...</td>\n",
       "      <td>2024-06-29T23:30:01Z</td>\n",
       "      <td>True</td>\n",
       "    </tr>\n",
       "    <tr>\n",
       "      <th>4</th>\n",
       "      <td>Gzs-rqCuxTk</td>\n",
       "      <td>Another iconic Ian Smith call 🗣️🎤 #CricketShor...</td>\n",
       "      <td>2024-07-02T06:58:32Z</td>\n",
       "      <td>False</td>\n",
       "    </tr>\n",
       "  </tbody>\n",
       "</table>\n",
       "</div>"
      ],
      "text/plain": [
       "      video_id                                              title  \\\n",
       "0  OSTMKBLDoLg  The American fairytale continues as USA beat P...   \n",
       "1  3yiWqnKl7lQ        The Epic Montage | T20 World Cup 2024 Final   \n",
       "2  fVZQCdHUTsA  Virat Kohli 🤝 Rohit Sharma #cricket #cricketsh...   \n",
       "3  89_E436SRos  Let the celebrations begin 🥳 #cricket #cricket...   \n",
       "4  Gzs-rqCuxTk  Another iconic Ian Smith call 🗣️🎤 #CricketShor...   \n",
       "\n",
       "           published_at  Valid  \n",
       "0  2024-06-06T23:37:36Z   True  \n",
       "1  2024-07-04T08:51:35Z   True  \n",
       "2  2024-06-30T01:45:47Z   True  \n",
       "3  2024-06-29T23:30:01Z   True  \n",
       "4  2024-07-02T06:58:32Z  False  "
      ]
     },
     "execution_count": 21,
     "metadata": {},
     "output_type": "execute_result"
    }
   ],
   "source": [
    "t20_videos.head()"
   ]
  },
  {
   "cell_type": "code",
   "execution_count": 22,
   "id": "7667406d",
   "metadata": {},
   "outputs": [],
   "source": [
    "invalid_videos = t20_videos[t20_videos['Valid'] == False]"
   ]
  },
  {
   "cell_type": "code",
   "execution_count": 23,
   "id": "44e66892",
   "metadata": {},
   "outputs": [
    {
     "name": "stdout",
     "output_type": "stream",
     "text": [
      "Another iconic Ian Smith call 🗣️🎤 #CricketShorts #YTShorts\n",
      "Every Jasprit Bumrah wicket at Cricket World Cup 2023\n",
      "Lifting the World Cup trophy is always a special feeling 🙌 #cricket #cwc23 #cricketlover\n",
      "Cricket World Cup 2023 Final: Australia v India | Match Highlights\n",
      "Same batter. Same opposition. Same reactions 👀 #cwc23  #cricket  #ausvpak\n",
      "How Hardik Pandya turned the tide in India’s favour 🤯 #cricket #cricketshorts #ytshorts\n",
      "Shubman Gill 🤜 🤛Stephan Pascal #U19WorldCup #Cricket\n",
      "India v Nepal | Match Highlights | U19 CWC 2024\n",
      "India ride the Moye Moye wave ahead of the #u19worldcup 🕺 #cricket\n",
      "Glenn Maxwell produces one of the greatest ODI knocks of all-time | CWC23\n",
      "Will #U19WorldCup history repeat for India against Australia in 2024? #cricket #cricketshorts\n",
      "Jasprit Bumrah is always on target 🎯 #CricketShorts #YTShorts\n",
      "Yuvraj Singh’s brilliant knock helps India to semi-finals | CWC 2011\n",
      "Some tough choices for the India #u19worldcup  captain. Who would you pick? #cricket\n",
      "Record Breakers: All 99 South Africa sixes at the Cricket World Cup 2023\n",
      "The Andre Russell impact 🏏🔥#CricketLover #AndreRussell #WestIndies\n",
      "Yuvraj Singh shines in the #CWC11 quarter-final 🌟 #cricket #ytshorts #cricketshorts\n",
      "All the best catches from Cricket World Cup 2023 😱\n",
      "A (Travis) Head above the rest 🙌 #YTShorts #CricketShorts\n",
      "Every unplayable delivery from Cricket World Cup 2023 💫\n",
      "International record tumbles in Samoa as 39 runs are scored in one over 😲\n",
      "Every Shubman Gill six at Cricket World Cup 2023\n"
     ]
    }
   ],
   "source": [
    "for i,title in enumerate(invalid_videos['title']):\n",
    "    print(title)\n",
    "    if i>20:\n",
    "        break"
   ]
  },
  {
   "cell_type": "code",
   "execution_count": 24,
   "id": "3d3fe5ec",
   "metadata": {},
   "outputs": [],
   "source": [
    "# Selecting the videos wit 'T20/t20 term in the title'\n",
    "v_t20_videos = t20_videos[t20_videos['Valid'] == True]"
   ]
  },
  {
   "cell_type": "code",
   "execution_count": 25,
   "id": "ad16c71d",
   "metadata": {},
   "outputs": [
    {
     "data": {
      "text/plain": [
       "(311, 4)"
      ]
     },
     "execution_count": 25,
     "metadata": {},
     "output_type": "execute_result"
    }
   ],
   "source": [
    "v_t20_videos.shape"
   ]
  },
  {
   "cell_type": "code",
   "execution_count": 26,
   "id": "291f5d9d",
   "metadata": {},
   "outputs": [],
   "source": [
    "v_t20_videos = v_t20_videos.drop(columns=['Valid'])"
   ]
  },
  {
   "cell_type": "code",
   "execution_count": 27,
   "id": "7887e97f",
   "metadata": {},
   "outputs": [],
   "source": [
    "v_t20_videos.columns = [\"video_id\",\"video_title\",\"video_published_at\"]"
   ]
  },
  {
   "cell_type": "code",
   "execution_count": 28,
   "id": "f8918318",
   "metadata": {},
   "outputs": [
    {
     "data": {
      "text/html": [
       "<div>\n",
       "<style scoped>\n",
       "    .dataframe tbody tr th:only-of-type {\n",
       "        vertical-align: middle;\n",
       "    }\n",
       "\n",
       "    .dataframe tbody tr th {\n",
       "        vertical-align: top;\n",
       "    }\n",
       "\n",
       "    .dataframe thead th {\n",
       "        text-align: right;\n",
       "    }\n",
       "</style>\n",
       "<table border=\"1\" class=\"dataframe\">\n",
       "  <thead>\n",
       "    <tr style=\"text-align: right;\">\n",
       "      <th></th>\n",
       "      <th>video_id</th>\n",
       "      <th>video_title</th>\n",
       "      <th>video_published_at</th>\n",
       "    </tr>\n",
       "  </thead>\n",
       "  <tbody>\n",
       "    <tr>\n",
       "      <th>0</th>\n",
       "      <td>OSTMKBLDoLg</td>\n",
       "      <td>The American fairytale continues as USA beat P...</td>\n",
       "      <td>2024-06-06T23:37:36Z</td>\n",
       "    </tr>\n",
       "    <tr>\n",
       "      <th>1</th>\n",
       "      <td>3yiWqnKl7lQ</td>\n",
       "      <td>The Epic Montage | T20 World Cup 2024 Final</td>\n",
       "      <td>2024-07-04T08:51:35Z</td>\n",
       "    </tr>\n",
       "    <tr>\n",
       "      <th>2</th>\n",
       "      <td>fVZQCdHUTsA</td>\n",
       "      <td>Virat Kohli 🤝 Rohit Sharma #cricket #cricketsh...</td>\n",
       "      <td>2024-06-30T01:45:47Z</td>\n",
       "    </tr>\n",
       "    <tr>\n",
       "      <th>3</th>\n",
       "      <td>89_E436SRos</td>\n",
       "      <td>Let the celebrations begin 🥳 #cricket #cricket...</td>\n",
       "      <td>2024-06-29T23:30:01Z</td>\n",
       "    </tr>\n",
       "    <tr>\n",
       "      <th>5</th>\n",
       "      <td>RJcAz3rU2Zc</td>\n",
       "      <td>Australia claim maiden Men&amp;#39;s T20 World Cup...</td>\n",
       "      <td>2024-05-14T01:52:11Z</td>\n",
       "    </tr>\n",
       "  </tbody>\n",
       "</table>\n",
       "</div>"
      ],
      "text/plain": [
       "      video_id                                        video_title  \\\n",
       "0  OSTMKBLDoLg  The American fairytale continues as USA beat P...   \n",
       "1  3yiWqnKl7lQ        The Epic Montage | T20 World Cup 2024 Final   \n",
       "2  fVZQCdHUTsA  Virat Kohli 🤝 Rohit Sharma #cricket #cricketsh...   \n",
       "3  89_E436SRos  Let the celebrations begin 🥳 #cricket #cricket...   \n",
       "5  RJcAz3rU2Zc  Australia claim maiden Men&#39;s T20 World Cup...   \n",
       "\n",
       "     video_published_at  \n",
       "0  2024-06-06T23:37:36Z  \n",
       "1  2024-07-04T08:51:35Z  \n",
       "2  2024-06-30T01:45:47Z  \n",
       "3  2024-06-29T23:30:01Z  \n",
       "5  2024-05-14T01:52:11Z  "
      ]
     },
     "execution_count": 28,
     "metadata": {},
     "output_type": "execute_result"
    }
   ],
   "source": [
    "v_t20_videos.head()"
   ]
  },
  {
   "cell_type": "code",
   "execution_count": 29,
   "id": "ccfd1ef9",
   "metadata": {},
   "outputs": [],
   "source": [
    "v_t20_videos = v_t20_videos.drop_duplicates(subset=['video_id'])"
   ]
  },
  {
   "cell_type": "code",
   "execution_count": 30,
   "id": "223e7ce4",
   "metadata": {},
   "outputs": [
    {
     "data": {
      "text/plain": [
       "(286, 3)"
      ]
     },
     "execution_count": 30,
     "metadata": {},
     "output_type": "execute_result"
    }
   ],
   "source": [
    "v_t20_videos.shape"
   ]
  },
  {
   "cell_type": "code",
   "execution_count": 31,
   "id": "49750959",
   "metadata": {},
   "outputs": [
    {
     "data": {
      "text/plain": [
       "(222869, 7)"
      ]
     },
     "execution_count": 31,
     "metadata": {},
     "output_type": "execute_result"
    }
   ],
   "source": [
    "t20_data.shape"
   ]
  },
  {
   "cell_type": "code",
   "execution_count": 32,
   "id": "9291f1d5",
   "metadata": {},
   "outputs": [],
   "source": [
    "# merging both dataframes to ignore comments for videos that doesn't related to T20\n",
    "merged_data = v_t20_videos.merge(t20_data,how='inner',on='video_id')"
   ]
  },
  {
   "cell_type": "code",
   "execution_count": 33,
   "id": "9bb913fd",
   "metadata": {},
   "outputs": [
    {
     "data": {
      "text/html": [
       "<div>\n",
       "<style scoped>\n",
       "    .dataframe tbody tr th:only-of-type {\n",
       "        vertical-align: middle;\n",
       "    }\n",
       "\n",
       "    .dataframe tbody tr th {\n",
       "        vertical-align: top;\n",
       "    }\n",
       "\n",
       "    .dataframe thead th {\n",
       "        text-align: right;\n",
       "    }\n",
       "</style>\n",
       "<table border=\"1\" class=\"dataframe\">\n",
       "  <thead>\n",
       "    <tr style=\"text-align: right;\">\n",
       "      <th></th>\n",
       "      <th>video_id</th>\n",
       "      <th>video_title</th>\n",
       "      <th>video_published_at</th>\n",
       "      <th>comment_id</th>\n",
       "      <th>author</th>\n",
       "      <th>published_at</th>\n",
       "      <th>like_count</th>\n",
       "      <th>text</th>\n",
       "      <th>public</th>\n",
       "    </tr>\n",
       "  </thead>\n",
       "  <tbody>\n",
       "    <tr>\n",
       "      <th>0</th>\n",
       "      <td>OSTMKBLDoLg</td>\n",
       "      <td>The American fairytale continues as USA beat P...</td>\n",
       "      <td>2024-06-06T23:37:36Z</td>\n",
       "      <td>UgxkuYq-k0GPZj6E3Eh4AaABAg</td>\n",
       "      <td>@sanamir160</td>\n",
       "      <td>2024-06-06T23:54:46Z</td>\n",
       "      <td>16860</td>\n",
       "      <td>Pakistan qualified for Karachi auto stand 😂😂😂😂</td>\n",
       "      <td>True</td>\n",
       "    </tr>\n",
       "    <tr>\n",
       "      <th>1</th>\n",
       "      <td>OSTMKBLDoLg</td>\n",
       "      <td>The American fairytale continues as USA beat P...</td>\n",
       "      <td>2024-06-06T23:37:36Z</td>\n",
       "      <td>UgySTRx28R1LzGKKYOp4AaABAg</td>\n",
       "      <td>@jakedias6123</td>\n",
       "      <td>2024-06-07T00:12:54Z</td>\n",
       "      <td>8994</td>\n",
       "      <td>2022 they lost to Zimbabwe \\n2023 they lost to...</td>\n",
       "      <td>True</td>\n",
       "    </tr>\n",
       "    <tr>\n",
       "      <th>2</th>\n",
       "      <td>OSTMKBLDoLg</td>\n",
       "      <td>The American fairytale continues as USA beat P...</td>\n",
       "      <td>2024-06-06T23:37:36Z</td>\n",
       "      <td>UgyEp42VPttQjexshWB4AaABAg</td>\n",
       "      <td>@habeebahmad6458</td>\n",
       "      <td>2024-06-06T23:47:30Z</td>\n",
       "      <td>7512</td>\n",
       "      <td>USA  cricket team turned into prim Australian ...</td>\n",
       "      <td>True</td>\n",
       "    </tr>\n",
       "    <tr>\n",
       "      <th>3</th>\n",
       "      <td>OSTMKBLDoLg</td>\n",
       "      <td>The American fairytale continues as USA beat P...</td>\n",
       "      <td>2024-06-06T23:37:36Z</td>\n",
       "      <td>UgyC_Zr3_f4QkPcFuBR4AaABAg</td>\n",
       "      <td>@imposter18zx</td>\n",
       "      <td>2024-06-07T00:59:24Z</td>\n",
       "      <td>6337</td>\n",
       "      <td>Indian players playing in USA took it personal...</td>\n",
       "      <td>True</td>\n",
       "    </tr>\n",
       "    <tr>\n",
       "      <th>4</th>\n",
       "      <td>OSTMKBLDoLg</td>\n",
       "      <td>The American fairytale continues as USA beat P...</td>\n",
       "      <td>2024-06-06T23:37:36Z</td>\n",
       "      <td>UgwtJcpQHY5sp6nwj6d4AaABAg</td>\n",
       "      <td>@larsporsena9529</td>\n",
       "      <td>2024-06-07T14:38:02Z</td>\n",
       "      <td>4122</td>\n",
       "      <td>as an American I know very little about cricke...</td>\n",
       "      <td>True</td>\n",
       "    </tr>\n",
       "  </tbody>\n",
       "</table>\n",
       "</div>"
      ],
      "text/plain": [
       "      video_id                                        video_title  \\\n",
       "0  OSTMKBLDoLg  The American fairytale continues as USA beat P...   \n",
       "1  OSTMKBLDoLg  The American fairytale continues as USA beat P...   \n",
       "2  OSTMKBLDoLg  The American fairytale continues as USA beat P...   \n",
       "3  OSTMKBLDoLg  The American fairytale continues as USA beat P...   \n",
       "4  OSTMKBLDoLg  The American fairytale continues as USA beat P...   \n",
       "\n",
       "     video_published_at                  comment_id            author  \\\n",
       "0  2024-06-06T23:37:36Z  UgxkuYq-k0GPZj6E3Eh4AaABAg       @sanamir160   \n",
       "1  2024-06-06T23:37:36Z  UgySTRx28R1LzGKKYOp4AaABAg     @jakedias6123   \n",
       "2  2024-06-06T23:37:36Z  UgyEp42VPttQjexshWB4AaABAg  @habeebahmad6458   \n",
       "3  2024-06-06T23:37:36Z  UgyC_Zr3_f4QkPcFuBR4AaABAg     @imposter18zx   \n",
       "4  2024-06-06T23:37:36Z  UgwtJcpQHY5sp6nwj6d4AaABAg  @larsporsena9529   \n",
       "\n",
       "           published_at  like_count  \\\n",
       "0  2024-06-06T23:54:46Z       16860   \n",
       "1  2024-06-07T00:12:54Z        8994   \n",
       "2  2024-06-06T23:47:30Z        7512   \n",
       "3  2024-06-07T00:59:24Z        6337   \n",
       "4  2024-06-07T14:38:02Z        4122   \n",
       "\n",
       "                                                text  public  \n",
       "0     Pakistan qualified for Karachi auto stand 😂😂😂😂    True  \n",
       "1  2022 they lost to Zimbabwe \\n2023 they lost to...    True  \n",
       "2  USA  cricket team turned into prim Australian ...    True  \n",
       "3  Indian players playing in USA took it personal...    True  \n",
       "4  as an American I know very little about cricke...    True  "
      ]
     },
     "execution_count": 33,
     "metadata": {},
     "output_type": "execute_result"
    }
   ],
   "source": [
    "merged_data.head()"
   ]
  },
  {
   "cell_type": "code",
   "execution_count": 34,
   "id": "38f57d8e",
   "metadata": {},
   "outputs": [],
   "source": [
    "merged_data = merged_data.drop(columns=['public'])"
   ]
  },
  {
   "cell_type": "code",
   "execution_count": 35,
   "id": "54a81fc4",
   "metadata": {},
   "outputs": [
    {
     "data": {
      "text/plain": [
       "(123739, 8)"
      ]
     },
     "execution_count": 35,
     "metadata": {},
     "output_type": "execute_result"
    }
   ],
   "source": [
    "merged_data.shape"
   ]
  },
  {
   "cell_type": "code",
   "execution_count": 36,
   "id": "96134e90",
   "metadata": {},
   "outputs": [],
   "source": [
    "#check no of comments per each video\n",
    "group_counts = merged_data.groupby(\"video_id\").size().sort_values(ascending=False)"
   ]
  },
  {
   "cell_type": "code",
   "execution_count": 37,
   "id": "4551b7fb",
   "metadata": {},
   "outputs": [
    {
     "data": {
      "text/plain": [
       "(31,)"
      ]
     },
     "execution_count": 37,
     "metadata": {},
     "output_type": "execute_result"
    }
   ],
   "source": [
    "group_counts[group_counts > 1000].shape"
   ]
  },
  {
   "cell_type": "code",
   "execution_count": 38,
   "id": "3d5a9f36",
   "metadata": {},
   "outputs": [
    {
     "data": {
      "text/plain": [
       "video_id\n",
       "boOWyGnGYxs    11835\n",
       "iMtkpSzOVqc     7956\n",
       "OSTMKBLDoLg     6370\n",
       "V8m8equTo3c     5609\n",
       "8rIgfe5xt2w     3842\n",
       "ijp5AyWVWds     3606\n",
       "3yiWqnKl7lQ     3391\n",
       "fVZQCdHUTsA     2948\n",
       "89_E436SRos     2560\n",
       "BHvvrv4AUFk     2101\n",
       "glTy9dxHL6Q     2042\n",
       "WBC_imavsmQ     2019\n",
       "gl1nn9w_8zk     1959\n",
       "f-PfPPZglSM     1923\n",
       "1RnrJc0zNys     1917\n",
       "4iiLuQVMs-w     1916\n",
       "xKMRx_upkRY     1743\n",
       "RR0yM5mG_8U     1696\n",
       "KVroGz3_wFU     1578\n",
       "bNLJEsqCFWM     1536\n",
       "R9_YsawaSNc     1468\n",
       "-2fjXRxMh-c     1407\n",
       "_bb33rYsAvI     1407\n",
       "RJcAz3rU2Zc     1386\n",
       "cc8RCrwioJA     1369\n",
       "_LegGXsy6pk     1322\n",
       "LD4RlAw1n1E     1292\n",
       "2TikWKtQ7no     1104\n",
       "8L3QSt6f3dM     1089\n",
       "kf6VxPc5m60     1063\n",
       "6uS3FFRBhuI     1038\n",
       "dtype: int64"
      ]
     },
     "execution_count": 38,
     "metadata": {},
     "output_type": "execute_result"
    }
   ],
   "source": [
    "group_counts[group_counts > 1000]"
   ]
  },
  {
   "cell_type": "code",
   "execution_count": 39,
   "id": "6ec5481d",
   "metadata": {},
   "outputs": [
    {
     "data": {
      "text/plain": [
       "video_id\n",
       "boOWyGnGYxs    11835\n",
       "iMtkpSzOVqc     7956\n",
       "OSTMKBLDoLg     6370\n",
       "V8m8equTo3c     5609\n",
       "8rIgfe5xt2w     3842\n",
       "ijp5AyWVWds     3606\n",
       "3yiWqnKl7lQ     3391\n",
       "fVZQCdHUTsA     2948\n",
       "89_E436SRos     2560\n",
       "BHvvrv4AUFk     2101\n",
       "glTy9dxHL6Q     2042\n",
       "WBC_imavsmQ     2019\n",
       "dtype: int64"
      ]
     },
     "execution_count": 39,
     "metadata": {},
     "output_type": "execute_result"
    }
   ],
   "source": [
    "most_commented = group_counts[group_counts > 2000]\n",
    "most_commented"
   ]
  },
  {
   "cell_type": "code",
   "execution_count": 40,
   "id": "8a981c65",
   "metadata": {},
   "outputs": [],
   "source": [
    "most_commented_videos = v_t20_videos[v_t20_videos['video_id'].isin(most_commented.index)]"
   ]
  },
  {
   "cell_type": "code",
   "execution_count": 41,
   "id": "f12d9315",
   "metadata": {},
   "outputs": [
    {
     "name": "stdout",
     "output_type": "stream",
     "text": [
      "The American fairytale continues as USA beat Pakistan in a massive upset at the #T20WorldCup 😍\n",
      "The Epic Montage | T20 World Cup 2024 Final\n",
      "Virat Kohli 🤝 Rohit Sharma #cricket #cricketshorts #ytshorts #T20WorldCup\n",
      "Let the celebrations begin 🥳 #cricket #cricketshorts #ytshorts #t20worldcup\n",
      "Simply brilliant by Suryakumar Yadav 😮 #cricket #cricketshorts #ytshorts #T20WorldCup\n",
      "Virat Kohli magic at the MCG 🪄 #cricket #t20worldcup #cricketshorts\n",
      "Sean Paul &amp; Kes - Out Of This World (Music Video) [ICC Men’s T20 World Cup 2024 Official Anthem]\n",
      "Ric Flair 🤝 Rohit Sharma #T20WorldCup #Cricket #cricketshorts #ytshorts\n",
      "The historic moment for Afghanistan #cricket #cricketshorts #ytshorts #t20worldcup\n",
      "A ruthless Rohit Sharma knock 👊#T20WorldCup #AUSvIND #ytshorts #cricketshorts\n",
      "So much semi-final emotion for Rohit Sharma 🥹 #cricket #cricketshorts #ytshorts #t20worldcup\n",
      "Jasprit Bumrah loves bowling to Mohammad Rizwan 💥 #cricket #t20worldcup #ytshorts #cricketshorts\n"
     ]
    }
   ],
   "source": [
    "for title in most_commented_videos['video_title']:\n",
    "    print(title)"
   ]
  },
  {
   "cell_type": "code",
   "execution_count": 42,
   "id": "7bb6a636",
   "metadata": {},
   "outputs": [
    {
     "data": {
      "text/html": [
       "<div>\n",
       "<style scoped>\n",
       "    .dataframe tbody tr th:only-of-type {\n",
       "        vertical-align: middle;\n",
       "    }\n",
       "\n",
       "    .dataframe tbody tr th {\n",
       "        vertical-align: top;\n",
       "    }\n",
       "\n",
       "    .dataframe thead th {\n",
       "        text-align: right;\n",
       "    }\n",
       "</style>\n",
       "<table border=\"1\" class=\"dataframe\">\n",
       "  <thead>\n",
       "    <tr style=\"text-align: right;\">\n",
       "      <th></th>\n",
       "      <th>video_id</th>\n",
       "      <th>video_title</th>\n",
       "      <th>video_published_at</th>\n",
       "    </tr>\n",
       "  </thead>\n",
       "  <tbody>\n",
       "    <tr>\n",
       "      <th>0</th>\n",
       "      <td>OSTMKBLDoLg</td>\n",
       "      <td>The American fairytale continues as USA beat P...</td>\n",
       "      <td>2024-06-06T23:37:36Z</td>\n",
       "    </tr>\n",
       "    <tr>\n",
       "      <th>1</th>\n",
       "      <td>3yiWqnKl7lQ</td>\n",
       "      <td>The Epic Montage | T20 World Cup 2024 Final</td>\n",
       "      <td>2024-07-04T08:51:35Z</td>\n",
       "    </tr>\n",
       "    <tr>\n",
       "      <th>2</th>\n",
       "      <td>fVZQCdHUTsA</td>\n",
       "      <td>Virat Kohli 🤝 Rohit Sharma #cricket #cricketsh...</td>\n",
       "      <td>2024-06-30T01:45:47Z</td>\n",
       "    </tr>\n",
       "    <tr>\n",
       "      <th>3</th>\n",
       "      <td>89_E436SRos</td>\n",
       "      <td>Let the celebrations begin 🥳 #cricket #cricket...</td>\n",
       "      <td>2024-06-29T23:30:01Z</td>\n",
       "    </tr>\n",
       "    <tr>\n",
       "      <th>7</th>\n",
       "      <td>iMtkpSzOVqc</td>\n",
       "      <td>Simply brilliant by Suryakumar Yadav 😮 #cricke...</td>\n",
       "      <td>2024-06-29T23:03:40Z</td>\n",
       "    </tr>\n",
       "    <tr>\n",
       "      <th>9</th>\n",
       "      <td>WBC_imavsmQ</td>\n",
       "      <td>Virat Kohli magic at the MCG 🪄 #cricket #t20wo...</td>\n",
       "      <td>2024-02-23T02:07:12Z</td>\n",
       "    </tr>\n",
       "    <tr>\n",
       "      <th>13</th>\n",
       "      <td>boOWyGnGYxs</td>\n",
       "      <td>Sean Paul &amp;amp; Kes - Out Of This World (Music...</td>\n",
       "      <td>2024-05-02T12:00:07Z</td>\n",
       "    </tr>\n",
       "    <tr>\n",
       "      <th>14</th>\n",
       "      <td>V8m8equTo3c</td>\n",
       "      <td>Ric Flair 🤝 Rohit Sharma #T20WorldCup #Cricket...</td>\n",
       "      <td>2024-06-30T02:46:48Z</td>\n",
       "    </tr>\n",
       "    <tr>\n",
       "      <th>23</th>\n",
       "      <td>ijp5AyWVWds</td>\n",
       "      <td>The historic moment for Afghanistan #cricket #...</td>\n",
       "      <td>2024-06-25T05:57:00Z</td>\n",
       "    </tr>\n",
       "    <tr>\n",
       "      <th>41</th>\n",
       "      <td>glTy9dxHL6Q</td>\n",
       "      <td>A ruthless Rohit Sharma knock 👊#T20WorldCup #A...</td>\n",
       "      <td>2024-06-24T19:16:35Z</td>\n",
       "    </tr>\n",
       "    <tr>\n",
       "      <th>69</th>\n",
       "      <td>8rIgfe5xt2w</td>\n",
       "      <td>So much semi-final emotion for Rohit Sharma 🥹 ...</td>\n",
       "      <td>2024-06-28T06:22:26Z</td>\n",
       "    </tr>\n",
       "    <tr>\n",
       "      <th>111</th>\n",
       "      <td>BHvvrv4AUFk</td>\n",
       "      <td>Jasprit Bumrah loves bowling to Mohammad Rizwa...</td>\n",
       "      <td>2024-06-10T04:42:59Z</td>\n",
       "    </tr>\n",
       "  </tbody>\n",
       "</table>\n",
       "</div>"
      ],
      "text/plain": [
       "        video_id                                        video_title  \\\n",
       "0    OSTMKBLDoLg  The American fairytale continues as USA beat P...   \n",
       "1    3yiWqnKl7lQ        The Epic Montage | T20 World Cup 2024 Final   \n",
       "2    fVZQCdHUTsA  Virat Kohli 🤝 Rohit Sharma #cricket #cricketsh...   \n",
       "3    89_E436SRos  Let the celebrations begin 🥳 #cricket #cricket...   \n",
       "7    iMtkpSzOVqc  Simply brilliant by Suryakumar Yadav 😮 #cricke...   \n",
       "9    WBC_imavsmQ  Virat Kohli magic at the MCG 🪄 #cricket #t20wo...   \n",
       "13   boOWyGnGYxs  Sean Paul &amp; Kes - Out Of This World (Music...   \n",
       "14   V8m8equTo3c  Ric Flair 🤝 Rohit Sharma #T20WorldCup #Cricket...   \n",
       "23   ijp5AyWVWds  The historic moment for Afghanistan #cricket #...   \n",
       "41   glTy9dxHL6Q  A ruthless Rohit Sharma knock 👊#T20WorldCup #A...   \n",
       "69   8rIgfe5xt2w  So much semi-final emotion for Rohit Sharma 🥹 ...   \n",
       "111  BHvvrv4AUFk  Jasprit Bumrah loves bowling to Mohammad Rizwa...   \n",
       "\n",
       "       video_published_at  \n",
       "0    2024-06-06T23:37:36Z  \n",
       "1    2024-07-04T08:51:35Z  \n",
       "2    2024-06-30T01:45:47Z  \n",
       "3    2024-06-29T23:30:01Z  \n",
       "7    2024-06-29T23:03:40Z  \n",
       "9    2024-02-23T02:07:12Z  \n",
       "13   2024-05-02T12:00:07Z  \n",
       "14   2024-06-30T02:46:48Z  \n",
       "23   2024-06-25T05:57:00Z  \n",
       "41   2024-06-24T19:16:35Z  \n",
       "69   2024-06-28T06:22:26Z  \n",
       "111  2024-06-10T04:42:59Z  "
      ]
     },
     "execution_count": 42,
     "metadata": {},
     "output_type": "execute_result"
    }
   ],
   "source": [
    "most_commented_videos"
   ]
  },
  {
   "cell_type": "code",
   "execution_count": 43,
   "id": "96ba6b36",
   "metadata": {},
   "outputs": [],
   "source": [
    "# identified less relevent videos\n",
    "ignore = ['boOWyGnGYxs','iMtkpSzOVqc','KVroGz3_wFU']"
   ]
  },
  {
   "cell_type": "code",
   "execution_count": 44,
   "id": "cc39629a",
   "metadata": {},
   "outputs": [],
   "source": [
    "merged_data = merged_data[~merged_data['video_id'].isin(ignore)]"
   ]
  },
  {
   "cell_type": "code",
   "execution_count": 45,
   "id": "0edd5476",
   "metadata": {},
   "outputs": [
    {
     "data": {
      "text/plain": [
       "(102370, 8)"
      ]
     },
     "execution_count": 45,
     "metadata": {},
     "output_type": "execute_result"
    }
   ],
   "source": [
    "merged_data.shape"
   ]
  },
  {
   "cell_type": "code",
   "execution_count": 46,
   "id": "fb4a4068",
   "metadata": {},
   "outputs": [
    {
     "name": "stderr",
     "output_type": "stream",
     "text": [
      "C:\\Users\\sppag\\AppData\\Local\\Temp\\ipykernel_32776\\3128723264.py:1: DeprecationWarning: DataFrameGroupBy.apply operated on the grouping columns. This behavior is deprecated, and in a future version of pandas the grouping columns will be excluded from the operation. Either pass `include_groups=False` to exclude the groupings or explicitly select the grouping columns after groupby to silence this warning.\n",
      "  final_data = merged_data.groupby('video_id').apply(lambda x: x.head(1000)).reset_index(drop=True)\n"
     ]
    },
    {
     "data": {
      "text/plain": [
       "(69247, 8)"
      ]
     },
     "execution_count": 46,
     "metadata": {},
     "output_type": "execute_result"
    }
   ],
   "source": [
    "final_data = merged_data.groupby('video_id').apply(lambda x: x.head(1000)).reset_index(drop=True)\n",
    "final_data.shape"
   ]
  },
  {
   "cell_type": "code",
   "execution_count": 47,
   "id": "3580a319",
   "metadata": {},
   "outputs": [],
   "source": [
    "final_data.to_csv(\"t20_youtube_comments_filtered.csv\",index=False)"
   ]
  },
  {
   "cell_type": "code",
   "execution_count": 48,
   "id": "ee95f8b0",
   "metadata": {},
   "outputs": [
    {
     "data": {
      "text/html": [
       "<div>\n",
       "<style scoped>\n",
       "    .dataframe tbody tr th:only-of-type {\n",
       "        vertical-align: middle;\n",
       "    }\n",
       "\n",
       "    .dataframe tbody tr th {\n",
       "        vertical-align: top;\n",
       "    }\n",
       "\n",
       "    .dataframe thead th {\n",
       "        text-align: right;\n",
       "    }\n",
       "</style>\n",
       "<table border=\"1\" class=\"dataframe\">\n",
       "  <thead>\n",
       "    <tr style=\"text-align: right;\">\n",
       "      <th></th>\n",
       "      <th>video_id</th>\n",
       "      <th>video_title</th>\n",
       "      <th>video_published_at</th>\n",
       "      <th>comment_id</th>\n",
       "      <th>author</th>\n",
       "      <th>published_at</th>\n",
       "      <th>like_count</th>\n",
       "      <th>text</th>\n",
       "    </tr>\n",
       "  </thead>\n",
       "  <tbody>\n",
       "    <tr>\n",
       "      <th>0</th>\n",
       "      <td>-2fjXRxMh-c</td>\n",
       "      <td>The euphoria of a #T20WorldCup trophy in your ...</td>\n",
       "      <td>2024-07-01T00:03:10Z</td>\n",
       "      <td>UgzEN6KIn3XOG3vyDkp4AaABAg</td>\n",
       "      <td>@Griffinatus</td>\n",
       "      <td>2024-07-01T01:58:37Z</td>\n",
       "      <td>9300</td>\n",
       "      <td>The innings by kohli.\\nThe innings by axar.\\nT...</td>\n",
       "    </tr>\n",
       "    <tr>\n",
       "      <th>1</th>\n",
       "      <td>-2fjXRxMh-c</td>\n",
       "      <td>The euphoria of a #T20WorldCup trophy in your ...</td>\n",
       "      <td>2024-07-01T00:03:10Z</td>\n",
       "      <td>UgzEFVkhnorEOn6Jhbh4AaABAg</td>\n",
       "      <td>@_Joyboy1</td>\n",
       "      <td>2024-07-01T00:41:02Z</td>\n",
       "      <td>3115</td>\n",
       "      <td>Happy retirement ROKO and sir jadeja🧎💐</td>\n",
       "    </tr>\n",
       "    <tr>\n",
       "      <th>2</th>\n",
       "      <td>-2fjXRxMh-c</td>\n",
       "      <td>The euphoria of a #T20WorldCup trophy in your ...</td>\n",
       "      <td>2024-07-01T00:03:10Z</td>\n",
       "      <td>UgwV1P6xqTATKEqD9v94AaABAg</td>\n",
       "      <td>@Champ_Akash</td>\n",
       "      <td>2024-07-01T00:05:50Z</td>\n",
       "      <td>2611</td>\n",
       "      <td>Happy retirement ROKO from T20I ❤❤\\nAnd we can...</td>\n",
       "    </tr>\n",
       "    <tr>\n",
       "      <th>3</th>\n",
       "      <td>-2fjXRxMh-c</td>\n",
       "      <td>The euphoria of a #T20WorldCup trophy in your ...</td>\n",
       "      <td>2024-07-01T00:03:10Z</td>\n",
       "      <td>UgyKudsaT_Rm_L_O4RN4AaABAg</td>\n",
       "      <td>@farellesmanff6072</td>\n",
       "      <td>2024-07-01T02:08:33Z</td>\n",
       "      <td>1211</td>\n",
       "      <td>*Nothing more satisfying than hearing a crowd ...</td>\n",
       "    </tr>\n",
       "    <tr>\n",
       "      <th>4</th>\n",
       "      <td>-2fjXRxMh-c</td>\n",
       "      <td>The euphoria of a #T20WorldCup trophy in your ...</td>\n",
       "      <td>2024-07-01T00:03:10Z</td>\n",
       "      <td>UgzJZCKBR4ItiNrDD154AaABAg</td>\n",
       "      <td>@diptiborthakurdas3275</td>\n",
       "      <td>2024-07-01T08:13:16Z</td>\n",
       "      <td>781</td>\n",
       "      <td>'Mummy ka magic' worked🥺🥺</td>\n",
       "    </tr>\n",
       "  </tbody>\n",
       "</table>\n",
       "</div>"
      ],
      "text/plain": [
       "      video_id                                        video_title  \\\n",
       "0  -2fjXRxMh-c  The euphoria of a #T20WorldCup trophy in your ...   \n",
       "1  -2fjXRxMh-c  The euphoria of a #T20WorldCup trophy in your ...   \n",
       "2  -2fjXRxMh-c  The euphoria of a #T20WorldCup trophy in your ...   \n",
       "3  -2fjXRxMh-c  The euphoria of a #T20WorldCup trophy in your ...   \n",
       "4  -2fjXRxMh-c  The euphoria of a #T20WorldCup trophy in your ...   \n",
       "\n",
       "     video_published_at                  comment_id                  author  \\\n",
       "0  2024-07-01T00:03:10Z  UgzEN6KIn3XOG3vyDkp4AaABAg            @Griffinatus   \n",
       "1  2024-07-01T00:03:10Z  UgzEFVkhnorEOn6Jhbh4AaABAg               @_Joyboy1   \n",
       "2  2024-07-01T00:03:10Z  UgwV1P6xqTATKEqD9v94AaABAg            @Champ_Akash   \n",
       "3  2024-07-01T00:03:10Z  UgyKudsaT_Rm_L_O4RN4AaABAg      @farellesmanff6072   \n",
       "4  2024-07-01T00:03:10Z  UgzJZCKBR4ItiNrDD154AaABAg  @diptiborthakurdas3275   \n",
       "\n",
       "           published_at  like_count  \\\n",
       "0  2024-07-01T01:58:37Z        9300   \n",
       "1  2024-07-01T00:41:02Z        3115   \n",
       "2  2024-07-01T00:05:50Z        2611   \n",
       "3  2024-07-01T02:08:33Z        1211   \n",
       "4  2024-07-01T08:13:16Z         781   \n",
       "\n",
       "                                                text  \n",
       "0  The innings by kohli.\\nThe innings by axar.\\nT...  \n",
       "1             Happy retirement ROKO and sir jadeja🧎💐  \n",
       "2  Happy retirement ROKO from T20I ❤❤\\nAnd we can...  \n",
       "3  *Nothing more satisfying than hearing a crowd ...  \n",
       "4                          'Mummy ka magic' worked🥺🥺  "
      ]
     },
     "execution_count": 48,
     "metadata": {},
     "output_type": "execute_result"
    }
   ],
   "source": [
    "final_data.head()"
   ]
  },
  {
   "cell_type": "code",
   "execution_count": 49,
   "id": "eafe9b1e",
   "metadata": {},
   "outputs": [],
   "source": [
    "v_t20_videos = v_t20_videos[~v_t20_videos['video_id'].isin(ignore)]"
   ]
  },
  {
   "cell_type": "code",
   "execution_count": 50,
   "id": "3bf5b871",
   "metadata": {},
   "outputs": [
    {
     "data": {
      "text/plain": [
       "(283, 3)"
      ]
     },
     "execution_count": 50,
     "metadata": {},
     "output_type": "execute_result"
    }
   ],
   "source": [
    "v_t20_videos.shape"
   ]
  },
  {
   "cell_type": "code",
   "execution_count": 51,
   "id": "b089bc8a",
   "metadata": {},
   "outputs": [],
   "source": [
    "v_t20_videos.to_csv(\"v_t20_youtube_videos.csv\",index=False)"
   ]
  },
  {
   "cell_type": "code",
   "execution_count": null,
   "id": "8978d6c2",
   "metadata": {},
   "outputs": [],
   "source": []
  }
 ],
 "metadata": {
  "kernelspec": {
   "display_name": "Python 3 (ipykernel)",
   "language": "python",
   "name": "python3"
  },
  "language_info": {
   "codemirror_mode": {
    "name": "ipython",
    "version": 3
   },
   "file_extension": ".py",
   "mimetype": "text/x-python",
   "name": "python",
   "nbconvert_exporter": "python",
   "pygments_lexer": "ipython3",
   "version": "3.11.7"
  }
 },
 "nbformat": 4,
 "nbformat_minor": 5
}
