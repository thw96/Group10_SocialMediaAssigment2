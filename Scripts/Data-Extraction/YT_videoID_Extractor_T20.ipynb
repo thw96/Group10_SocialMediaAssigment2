{
 "cells": [
  {
   "cell_type": "code",
   "execution_count": null,
   "id": "bd18667c",
   "metadata": {},
   "outputs": [],
   "source": [
    "#!pip install google-api-python-client"
   ]
  },
  {
   "cell_type": "code",
   "execution_count": 39,
   "id": "980984e5",
   "metadata": {},
   "outputs": [],
   "source": [
    "import googleapiclient.discovery\n",
    "import googleapiclient.errors\n",
    "import csv"
   ]
  },
  {
   "cell_type": "code",
   "execution_count": 2,
   "id": "31e122bb",
   "metadata": {},
   "outputs": [],
   "source": [
    "api_key = \"Replace with API key\""
   ]
  },
  {
   "cell_type": "code",
   "execution_count": 3,
   "id": "3d3a5525",
   "metadata": {},
   "outputs": [],
   "source": [
    "api_name = \"youtube\"\n",
    "api_version = \"v3\""
   ]
  },
  {
   "cell_type": "code",
   "execution_count": 4,
   "id": "a7497a84",
   "metadata": {},
   "outputs": [],
   "source": [
    "youtube = googleapiclient.discovery.build(api_name, api_version, developerKey=api_key)"
   ]
  },
  {
   "cell_type": "code",
   "execution_count": 10,
   "id": "07e9cfa6",
   "metadata": {},
   "outputs": [],
   "source": [
    "def search_videos(keyword, channel_id, published_after, published_before, max_results=50):\n",
    "\n",
    "    videos = []\n",
    "    next_page_token = None\n",
    "    request_count = 0\n",
    "\n",
    "    while request_count<50:\n",
    "        \n",
    "        try:\n",
    "            search_response = youtube.search().list(\n",
    "                part=\"snippet\",\n",
    "                q=keyword,\n",
    "                channelId=channel_id,  \n",
    "                type=\"video\",\n",
    "                maxResults=max_results,  \n",
    "                publishedAfter=published_after,\n",
    "                publishedBefore=published_before,\n",
    "                pageToken=next_page_token\n",
    "            ).execute()\n",
    "\n",
    "\n",
    "            request_count += 1\n",
    "            \n",
    "            for video in search_response['items']:\n",
    "                video_id = video['id']['videoId']\n",
    "                video_title = video['snippet']['title']\n",
    "                video_publishedAt = video['snippet']['publishedAt']\n",
    "                videos.append({'video_id': video_id, 'title': video_title,'published_at': video_publishedAt})\n",
    "\n",
    "                \n",
    "            print(f\"Request {request_count} completed. {len(videos)} videos collected so far.\")\n",
    "            \n",
    "            # Check for more results\n",
    "            next_page_token = search_response.get('nextPageToken')\n",
    "            if not next_page_token:\n",
    "                break\n",
    "        \n",
    "        except HttpError as e:\n",
    "            if e.resp.status == 403:\n",
    "                print(\"Quota limit reached.\")\n",
    "                break  \n",
    "            else:\n",
    "                print(f\"An error occurred: {e}\")\n",
    "                break  \n",
    "\n",
    "        except Exception as ex:\n",
    "            print(f\"An unexpected error occurred: {ex}\")\n",
    "            break \n",
    "            \n",
    "\n",
    "    return videos"
   ]
  },
  {
   "cell_type": "code",
   "execution_count": 11,
   "id": "17f4117a",
   "metadata": {},
   "outputs": [],
   "source": [
    "icc_channelID = \"UCt2JXOLNxqry7B_4rRZME3Q\""
   ]
  },
  {
   "cell_type": "code",
   "execution_count": 50,
   "id": "17512ae5",
   "metadata": {},
   "outputs": [],
   "source": [
    "keyword = \"T20\""
   ]
  },
  {
   "cell_type": "code",
   "execution_count": 12,
   "id": "20403f6d",
   "metadata": {},
   "outputs": [],
   "source": [
    "published_after = '2023-10-01T00:00:00Z'\n",
    "published_before = '2024-09-30T23:59:59Z'"
   ]
  },
  {
   "cell_type": "code",
   "execution_count": 13,
   "id": "cb6f34ee",
   "metadata": {},
   "outputs": [
    {
     "name": "stdout",
     "output_type": "stream",
     "text": [
      "Request 1 completed. 50 videos collected so far.\n",
      "Request 2 completed. 100 videos collected so far.\n",
      "Request 3 completed. 150 videos collected so far.\n",
      "Request 4 completed. 200 videos collected so far.\n",
      "Request 5 completed. 250 videos collected so far.\n",
      "Request 6 completed. 300 videos collected so far.\n",
      "Request 7 completed. 350 videos collected so far.\n",
      "Request 8 completed. 400 videos collected so far.\n",
      "Request 9 completed. 450 videos collected so far.\n",
      "Request 10 completed. 500 videos collected so far.\n",
      "Request 11 completed. 502 videos collected so far.\n"
     ]
    }
   ],
   "source": [
    "videos = search_videos(keyword, icc_channelID, published_after, published_before)"
   ]
  },
  {
   "cell_type": "code",
   "execution_count": 48,
   "id": "b65c2047",
   "metadata": {},
   "outputs": [],
   "source": [
    "def save_to_csv(videos, filename):\n",
    "\n",
    "\n",
    "    # headers\n",
    "    headers = ['video_id', 'title', 'published_at']\n",
    "\n",
    "\n",
    "    with open(filename, mode='w', newline='', encoding='utf-8') as file:\n",
    "        writer = csv.DictWriter(file, fieldnames=headers)\n",
    "\n",
    "        # wrting header\n",
    "        writer.writeheader()\n",
    "\n",
    "        # writing video data\n",
    "        for video in videos:\n",
    "            writer.writerow(video)\n",
    "\n",
    "    print(f\"Videos saved to {filename}\")"
   ]
  },
  {
   "cell_type": "code",
   "execution_count": 49,
   "id": "015fccd7",
   "metadata": {},
   "outputs": [
    {
     "name": "stdout",
     "output_type": "stream",
     "text": [
      "Videos saved to t20_youtube_videos.csv\n"
     ]
    }
   ],
   "source": [
    "save_to_csv(videos, 't20_youtube_videos.csv')"
   ]
  },
  {
   "cell_type": "code",
   "execution_count": null,
   "id": "d0d8dd0e",
   "metadata": {},
   "outputs": [],
   "source": []
  }
 ],
 "metadata": {
  "kernelspec": {
   "display_name": "Python 3 (ipykernel)",
   "language": "python",
   "name": "python3"
  },
  "language_info": {
   "codemirror_mode": {
    "name": "ipython",
    "version": 3
   },
   "file_extension": ".py",
   "mimetype": "text/x-python",
   "name": "python",
   "nbconvert_exporter": "python",
   "pygments_lexer": "ipython3",
   "version": "3.11.7"
  }
 },
 "nbformat": 4,
 "nbformat_minor": 5
}
