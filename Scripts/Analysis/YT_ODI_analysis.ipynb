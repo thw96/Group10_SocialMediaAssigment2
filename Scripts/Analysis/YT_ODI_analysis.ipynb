{
 "cells": [
  {
   "cell_type": "code",
   "execution_count": 1,
   "id": "8d4d25c3-58f2-4b7c-af5f-a9e759cc0e8b",
   "metadata": {},
   "outputs": [
    {
     "name": "stderr",
     "output_type": "stream",
     "text": [
      "[nltk_data] Downloading package stopwords to\n",
      "[nltk_data]     /Users/thorpanda/nltk_data...\n",
      "[nltk_data]   Package stopwords is already up-to-date!\n",
      "[nltk_data] Downloading package averaged_perceptron_tagger to\n",
      "[nltk_data]     /Users/thorpanda/nltk_data...\n",
      "[nltk_data]   Package averaged_perceptron_tagger is already up-to-\n",
      "[nltk_data]       date!\n",
      "[nltk_data] Downloading package universal_tagset to\n",
      "[nltk_data]     /Users/thorpanda/nltk_data...\n",
      "[nltk_data]   Package universal_tagset is already up-to-date!\n",
      "[nltk_data] Downloading package wordnet to\n",
      "[nltk_data]     /Users/thorpanda/nltk_data...\n",
      "[nltk_data]   Package wordnet is already up-to-date!\n"
     ]
    }
   ],
   "source": [
    "import sys\n",
    "import json\n",
    "import nltk\n",
    "import re\n",
    "from collections import Counter\n",
    "import string\n",
    "nltk.download('stopwords')\n",
    "nltk.download('averaged_perceptron_tagger')\n",
    "nltk.download('universal_tagset')\n",
    "nltk.download('wordnet')\n",
    "from nltk.stem import WordNetLemmatizer\n",
    "from nltk import pos_tag\n",
    "from datetime import datetime\n",
    "import pandas as pd\n",
    "import matplotlib.pyplot as plt\n",
    "from nltk import bigrams\n",
    "from nltk.sentiment.vader import SentimentIntensityAnalyzer\n",
    "#nltk.download('vader_lexicon')\n",
    "from tqdm.notebook import tqdm\n",
    "import numpy as np\n",
    "import math\n",
    "import statistics\n",
    "%load_ext autoreload\n",
    "%autoreload 1\n",
    "import re \n",
    "# we are importing RedditProcessing.py and its contents\n",
    "%aimport RedditProcessing\n",
    "import pyLDAvis\n",
    "import pyLDAvis.lda_model\n",
    "from wordcloud import WordCloud\n",
    "from nltk import pos_tag\n",
    "from nltk.corpus import words\n",
    "\n",
    "from sklearn.feature_extraction.text import CountVectorizer\n",
    "from sklearn.decomposition import LatentDirichletAllocation"
   ]
  },
  {
   "cell_type": "code",
   "execution_count": 2,
   "id": "fe7b64a3-781a-4908-a01c-99465f794277",
   "metadata": {},
   "outputs": [],
   "source": [
    "yt_odi = pd.read_csv(\"../../Data/Raw/ODI_youtube_comments_all.csv\")"
   ]
  },
  {
   "cell_type": "code",
   "execution_count": 3,
   "id": "2de27396-b9ae-48ba-8686-999ea9af2125",
   "metadata": {},
   "outputs": [
    {
     "data": {
      "text/html": [
       "<div>\n",
       "<style scoped>\n",
       "    .dataframe tbody tr th:only-of-type {\n",
       "        vertical-align: middle;\n",
       "    }\n",
       "\n",
       "    .dataframe tbody tr th {\n",
       "        vertical-align: top;\n",
       "    }\n",
       "\n",
       "    .dataframe thead th {\n",
       "        text-align: right;\n",
       "    }\n",
       "</style>\n",
       "<table border=\"1\" class=\"dataframe\">\n",
       "  <thead>\n",
       "    <tr style=\"text-align: right;\">\n",
       "      <th></th>\n",
       "      <th>video_id</th>\n",
       "      <th>comment_id</th>\n",
       "      <th>author</th>\n",
       "      <th>published_at</th>\n",
       "      <th>like_count</th>\n",
       "      <th>text</th>\n",
       "      <th>public</th>\n",
       "    </tr>\n",
       "  </thead>\n",
       "  <tbody>\n",
       "    <tr>\n",
       "      <th>0</th>\n",
       "      <td>VQpTVVsNHQs</td>\n",
       "      <td>Ugyg4bUKfvIHL3vy5PR4AaABAg</td>\n",
       "      <td>@athulkrishna1785</td>\n",
       "      <td>2024-10-13T05:17:46Z</td>\n",
       "      <td>1</td>\n",
       "      <td>Maxwell in t20wc 💀🗿\\nMaxwell in rcb 🤡☺️😭</td>\n",
       "      <td>True</td>\n",
       "    </tr>\n",
       "    <tr>\n",
       "      <th>1</th>\n",
       "      <td>VQpTVVsNHQs</td>\n",
       "      <td>UgyapSuEgdu-lwwdLnp4AaABAg</td>\n",
       "      <td>@MuktharK-u8g</td>\n",
       "      <td>2024-10-12T19:15:16Z</td>\n",
       "      <td>0</td>\n",
       "      <td>2\\n\\n7a</td>\n",
       "      <td>True</td>\n",
       "    </tr>\n",
       "    <tr>\n",
       "      <th>2</th>\n",
       "      <td>VQpTVVsNHQs</td>\n",
       "      <td>UgxdKI2pX0_hYoUdB9t4AaABAg</td>\n",
       "      <td>@aliarsal4082</td>\n",
       "      <td>2024-10-12T15:53:39Z</td>\n",
       "      <td>0</td>\n",
       "      <td>Thank God I watched this match live ball by ba...</td>\n",
       "      <td>True</td>\n",
       "    </tr>\n",
       "    <tr>\n",
       "      <th>3</th>\n",
       "      <td>VQpTVVsNHQs</td>\n",
       "      <td>Ugy8d8EsPlG2JgtqIwh4AaABAg</td>\n",
       "      <td>@onedirection3120</td>\n",
       "      <td>2024-10-12T12:09:17Z</td>\n",
       "      <td>0</td>\n",
       "      <td>Slap on Ajay Jadeja face who was mocking his l...</td>\n",
       "      <td>True</td>\n",
       "    </tr>\n",
       "    <tr>\n",
       "      <th>4</th>\n",
       "      <td>VQpTVVsNHQs</td>\n",
       "      <td>UgzLAwV1TEmCffWBPyB4AaABAg</td>\n",
       "      <td>@RaviSharen-q1r</td>\n",
       "      <td>2024-10-12T11:37:25Z</td>\n",
       "      <td>0</td>\n",
       "      <td>Aussies mindset☠️</td>\n",
       "      <td>True</td>\n",
       "    </tr>\n",
       "  </tbody>\n",
       "</table>\n",
       "</div>"
      ],
      "text/plain": [
       "      video_id                  comment_id             author  \\\n",
       "0  VQpTVVsNHQs  Ugyg4bUKfvIHL3vy5PR4AaABAg  @athulkrishna1785   \n",
       "1  VQpTVVsNHQs  UgyapSuEgdu-lwwdLnp4AaABAg      @MuktharK-u8g   \n",
       "2  VQpTVVsNHQs  UgxdKI2pX0_hYoUdB9t4AaABAg      @aliarsal4082   \n",
       "3  VQpTVVsNHQs  Ugy8d8EsPlG2JgtqIwh4AaABAg  @onedirection3120   \n",
       "4  VQpTVVsNHQs  UgzLAwV1TEmCffWBPyB4AaABAg    @RaviSharen-q1r   \n",
       "\n",
       "           published_at  like_count  \\\n",
       "0  2024-10-13T05:17:46Z           1   \n",
       "1  2024-10-12T19:15:16Z           0   \n",
       "2  2024-10-12T15:53:39Z           0   \n",
       "3  2024-10-12T12:09:17Z           0   \n",
       "4  2024-10-12T11:37:25Z           0   \n",
       "\n",
       "                                                text  public  \n",
       "0           Maxwell in t20wc 💀🗿\\nMaxwell in rcb 🤡☺️😭    True  \n",
       "1                                            2\\n\\n7a    True  \n",
       "2  Thank God I watched this match live ball by ba...    True  \n",
       "3  Slap on Ajay Jadeja face who was mocking his l...    True  \n",
       "4                                  Aussies mindset☠️    True  "
      ]
     },
     "execution_count": 3,
     "metadata": {},
     "output_type": "execute_result"
    }
   ],
   "source": [
    "yt_odi.head()"
   ]
  },
  {
   "cell_type": "code",
   "execution_count": 4,
   "id": "bd3a0bc2-772a-4319-ae5e-0bedefdaa615",
   "metadata": {},
   "outputs": [],
   "source": [
    "# defining a function to tokenize data\n",
    "def data_tokenizer(text, tokenizer):\n",
    "\n",
    "    token_list = tokenizer.tokenize(text)\n",
    "    token_list = [token.strip() for token in token_list]\n",
    "\n",
    "    return token_list"
   ]
  },
  {
   "cell_type": "code",
   "execution_count": 5,
   "id": "3f555ee3-ef91-4628-86a6-dd2135db91b5",
   "metadata": {},
   "outputs": [],
   "source": [
    "def lemmatization(texts, allowed_postags=[\"NOUN\", \"ADJ\", \"VERB\", \"ADV\"]):\n",
    "    nlp = spacy.load(\"en_core_web_sm\", disable=[\"parser\", \"ner\"])\n",
    "    texts_out = []\n",
    "    for text in texts:\n",
    "        doc = nlp(text)\n",
    "        new_text = []\n",
    "        for token in doc:\n",
    "            if token.pos_ in allowed_postags:\n",
    "                new_text.append(token.lemma_)\n",
    "        final = \" \".join(new_text)\n",
    "        texts_out.append(final)\n",
    "    return (texts_out)"
   ]
  },
  {
   "cell_type": "code",
   "execution_count": 6,
   "id": "079d95b4-d350-4ee5-aacc-66fde85d47db",
   "metadata": {},
   "outputs": [],
   "source": [
    "def lower_case(text):\n",
    "    return text.lower()"
   ]
  },
  {
   "cell_type": "code",
   "execution_count": 7,
   "id": "f2470dc7-497e-49d0-bc9d-85b51971a141",
   "metadata": {},
   "outputs": [],
   "source": [
    "def tokenizer_remove_spae(text,tokenizer):\n",
    "    # tokenise\n",
    "    lTokens = tokenizer.tokenize(text)\n",
    "    # strip whitespaces before and after\n",
    "    lTokens = [token.strip() for token in lTokens]\n",
    "    return lTokens"
   ]
  },
  {
   "cell_type": "code",
   "execution_count": 8,
   "id": "4170c43e-0859-4eea-b830-5717c761673b",
   "metadata": {},
   "outputs": [],
   "source": [
    "def filter_words(tokens):\n",
    "    pos_tags = pos_tag(tokens)\n",
    "    filtered_words = []\n",
    "    for token, tag in zip(tokens, pos_tags):\n",
    "        # Check if the word is in the English dictionary or if it is a noun\n",
    "        if token.lower() in english_words or (tag[1] == 'NN' or tag[1] == 'NNS'):  # 'NN' and 'NNS' are noun tags\n",
    "            filtered_words.append(token)\n",
    "    return filtered_words"
   ]
  },
  {
   "cell_type": "code",
   "execution_count": 9,
   "id": "444d3220-e07e-41ea-8fac-5f405f4a5a2e",
   "metadata": {},
   "outputs": [
    {
     "name": "stderr",
     "output_type": "stream",
     "text": [
      "<>:22: DeprecationWarning: invalid escape sequence '\\d'\n",
      "<>:22: DeprecationWarning: invalid escape sequence '\\d'\n",
      "/var/folders/6g/7khzkpj52_g5rbfvf4tck4zr0000gn/T/ipykernel_54489/1986752055.py:22: DeprecationWarning: invalid escape sequence '\\d'\n",
      "  text=re.sub('\\d',' ',text ) #remove numbers as words\n"
     ]
    }
   ],
   "source": [
    "def processText(text, tokenizer, stemmer, stopwords):\n",
    "    \"\"\"\n",
    "    Perform tokenisation, normalisation (lower case and stemming) and stopword and twitter keyword removal.\n",
    "\n",
    "    @param text: reddit submission or comment text\n",
    "    @param tokenizer: tokeniser used.\n",
    "    @param stemmer: stemmer used.\n",
    "    @param stopwords: list of stopwords used\n",
    "\n",
    "    @returns: a list of processed tokens\n",
    "    \"\"\"\n",
    "\n",
    "    # covert all to lower case\n",
    "    text = text.lower()\n",
    "    text = text.replace('\\n\\n', ' ') \n",
    "    text = re.sub(r\"http\\S+\",' ', text)   #remove urls\n",
    "\n",
    "    text=re.sub(r\"\\@\\S+\",' ',text)   #remove username\n",
    "    \n",
    "    text=re.sub(r'[^\\w\\s]','', text)  #remove punctuations\n",
    "    \n",
    "    text=re.sub('\\d',' ',text ) #remove numbers as words \n",
    "    \n",
    "    text=re.sub(' +',' ',text)  #Merge multiple spaces into one\n",
    "    # tokenise\n",
    "    lTokens = tokenizer.tokenize(text)\n",
    "    # strip whitespaces before and after\n",
    "    lTokens = [token.strip() for token in lTokens]\n",
    "    #remove non-english\n",
    "    \n",
    "    # remove stopwords, digits\n",
    "    stop_wordsrmv = [tok for tok in lTokens if tok not in stopwords and not tok.isdigit()]\n",
    "    # stem (we use set to remove duplicates)\n",
    "    lStemmedTokens = set([stemmer.stem(tok) for tok in stop_wordsrmv])\n",
    "    return lStemmedTokens"
   ]
  },
  {
   "cell_type": "code",
   "execution_count": 10,
   "id": "f9fd01e5-2437-4cd6-b536-ae9cc8653bfc",
   "metadata": {},
   "outputs": [],
   "source": [
    "# tweet to use\n",
    "postTokeniser = nltk.tokenize.TweetTokenizer()\n",
    "# use the punctuation symbols defined in string.punctuation\n",
    "lPunct = list(string.punctuation)\n",
    "# use stopwords from nltk and a few other twitter specific terms like 'rt' (retweet)\n",
    "lStopwords = nltk.corpus.stopwords.words('english') + lPunct + ['via']\n",
    "# we use the popular Porter stemmer\n",
    "postStemmer = nltk.stem.PorterStemmer()"
   ]
  },
  {
   "cell_type": "code",
   "execution_count": 11,
   "id": "8414c8d2-2366-428d-9d53-5f223894b88d",
   "metadata": {},
   "outputs": [],
   "source": [
    "#test\n",
    "test=yt_odi.copy()"
   ]
  },
  {
   "cell_type": "code",
   "execution_count": 12,
   "id": "c3d8d61f-a7a0-4547-9a7d-fe95bbef3b3f",
   "metadata": {},
   "outputs": [],
   "source": [
    "termFreqCounter = Counter()\n",
    "freqNum = 30"
   ]
  },
  {
   "cell_type": "code",
   "execution_count": 13,
   "id": "76e58227-7539-45a1-8192-f67efa92354b",
   "metadata": {},
   "outputs": [],
   "source": [
    "processed_title = []\n",
    "processed_content = []\n",
    "for i,row in test.iterrows():\n",
    "    all_content = str(row[\"text\"])\n",
    "    process_body = processText(text=all_content, tokenizer=postTokeniser, stemmer=postStemmer, stopwords=lStopwords)\n",
    "    processed_content.append(' '.join(process_body))\n",
    "    termFreqCounter.update(process_body)\n",
    "\n",
    "#test[\"processed_title\"] =processed_title\n",
    "test[\"Processed_1\"] = processed_content\n"
   ]
  },
  {
   "cell_type": "code",
   "execution_count": 14,
   "id": "02e33f2d-b4e6-4f8f-9020-4e976a519456",
   "metadata": {},
   "outputs": [],
   "source": [
    "# defining a pre-processor for vader\n",
    "def vader_pre_processor(text):\n",
    "    tokens = postTokeniser.tokenize(text)\n",
    "\n",
    "    # removing digits\n",
    "    digit_pattern = re.compile(r\"\\b\\d+(\\.\\d+)?\\b\")\n",
    "    # removing links\n",
    "    link_pattern = re.compile(r'^http.*|.*\\.com|^www.*')\n",
    "\n",
    "    # filtering tokens\n",
    "    tokens = [token.strip() for token in tokens if digit_pattern.match(token)==None and link_pattern.match(token)==None and token.strip()]\n",
    "\n",
    "    # joining tokens togeter\n",
    "    text = ' '.join(tokens)\n",
    "\n",
    "    return text"
   ]
  },
  {
   "cell_type": "code",
   "execution_count": 15,
   "id": "4afefff0-fb2d-432e-9961-56a7722172d8",
   "metadata": {},
   "outputs": [],
   "source": [
    "#apply vader preprocessing\n",
    "vader_tokens = []\n",
    "\n",
    "for i,row in test.iterrows():\n",
    "    body = str(row['text'])\n",
    "    temp_tokens = vader_pre_processor(body)\n",
    "    vader_tokens.append(temp_tokens)"
   ]
  },
  {
   "cell_type": "code",
   "execution_count": 16,
   "id": "0b5b4d4f-bc77-41e6-8e9d-120fde14e98c",
   "metadata": {},
   "outputs": [],
   "source": [
    "test.loc[:, 'Processed_2'] = vader_tokens"
   ]
  },
  {
   "cell_type": "code",
   "execution_count": 17,
   "id": "7f5c77a8-0e0a-4ad5-9a08-1cf6e14474a5",
   "metadata": {},
   "outputs": [
    {
     "data": {
      "text/html": [
       "<div>\n",
       "<style scoped>\n",
       "    .dataframe tbody tr th:only-of-type {\n",
       "        vertical-align: middle;\n",
       "    }\n",
       "\n",
       "    .dataframe tbody tr th {\n",
       "        vertical-align: top;\n",
       "    }\n",
       "\n",
       "    .dataframe thead th {\n",
       "        text-align: right;\n",
       "    }\n",
       "</style>\n",
       "<table border=\"1\" class=\"dataframe\">\n",
       "  <thead>\n",
       "    <tr style=\"text-align: right;\">\n",
       "      <th></th>\n",
       "      <th>video_id</th>\n",
       "      <th>comment_id</th>\n",
       "      <th>author</th>\n",
       "      <th>published_at</th>\n",
       "      <th>like_count</th>\n",
       "      <th>text</th>\n",
       "      <th>public</th>\n",
       "      <th>Processed_1</th>\n",
       "      <th>Processed_2</th>\n",
       "    </tr>\n",
       "  </thead>\n",
       "  <tbody>\n",
       "    <tr>\n",
       "      <th>0</th>\n",
       "      <td>VQpTVVsNHQs</td>\n",
       "      <td>Ugyg4bUKfvIHL3vy5PR4AaABAg</td>\n",
       "      <td>@athulkrishna1785</td>\n",
       "      <td>2024-10-13T05:17:46Z</td>\n",
       "      <td>1</td>\n",
       "      <td>Maxwell in t20wc 💀🗿\\nMaxwell in rcb 🤡☺️😭</td>\n",
       "      <td>True</td>\n",
       "      <td>rcb maxwel wc</td>\n",
       "      <td>Maxwell in t20wc 💀 🗿 Maxwell in rcb 🤡 ☺ ️ 😭</td>\n",
       "    </tr>\n",
       "    <tr>\n",
       "      <th>1</th>\n",
       "      <td>VQpTVVsNHQs</td>\n",
       "      <td>UgyapSuEgdu-lwwdLnp4AaABAg</td>\n",
       "      <td>@MuktharK-u8g</td>\n",
       "      <td>2024-10-12T19:15:16Z</td>\n",
       "      <td>0</td>\n",
       "      <td>2\\n\\n7a</td>\n",
       "      <td>True</td>\n",
       "      <td></td>\n",
       "      <td>7a</td>\n",
       "    </tr>\n",
       "    <tr>\n",
       "      <th>2</th>\n",
       "      <td>VQpTVVsNHQs</td>\n",
       "      <td>UgxdKI2pX0_hYoUdB9t4AaABAg</td>\n",
       "      <td>@aliarsal4082</td>\n",
       "      <td>2024-10-12T15:53:39Z</td>\n",
       "      <td>0</td>\n",
       "      <td>Thank God I watched this match live ball by ba...</td>\n",
       "      <td>True</td>\n",
       "      <td>watch match ball great experi god thank live</td>\n",
       "      <td>Thank God I watched this match live ball by ba...</td>\n",
       "    </tr>\n",
       "    <tr>\n",
       "      <th>3</th>\n",
       "      <td>VQpTVVsNHQs</td>\n",
       "      <td>Ugy8d8EsPlG2JgtqIwh4AaABAg</td>\n",
       "      <td>@onedirection3120</td>\n",
       "      <td>2024-10-12T12:09:17Z</td>\n",
       "      <td>0</td>\n",
       "      <td>Slap on Ajay Jadeja face who was mocking his l...</td>\n",
       "      <td>True</td>\n",
       "      <td>leg jadeja mock face injuri ajay slap</td>\n",
       "      <td>Slap on Ajay Jadeja face who was mocking his l...</td>\n",
       "    </tr>\n",
       "    <tr>\n",
       "      <th>4</th>\n",
       "      <td>VQpTVVsNHQs</td>\n",
       "      <td>UgzLAwV1TEmCffWBPyB4AaABAg</td>\n",
       "      <td>@RaviSharen-q1r</td>\n",
       "      <td>2024-10-12T11:37:25Z</td>\n",
       "      <td>0</td>\n",
       "      <td>Aussies mindset☠️</td>\n",
       "      <td>True</td>\n",
       "      <td>mindset aussi</td>\n",
       "      <td>Aussies mindset ☠ ️</td>\n",
       "    </tr>\n",
       "  </tbody>\n",
       "</table>\n",
       "</div>"
      ],
      "text/plain": [
       "      video_id                  comment_id             author  \\\n",
       "0  VQpTVVsNHQs  Ugyg4bUKfvIHL3vy5PR4AaABAg  @athulkrishna1785   \n",
       "1  VQpTVVsNHQs  UgyapSuEgdu-lwwdLnp4AaABAg      @MuktharK-u8g   \n",
       "2  VQpTVVsNHQs  UgxdKI2pX0_hYoUdB9t4AaABAg      @aliarsal4082   \n",
       "3  VQpTVVsNHQs  Ugy8d8EsPlG2JgtqIwh4AaABAg  @onedirection3120   \n",
       "4  VQpTVVsNHQs  UgzLAwV1TEmCffWBPyB4AaABAg    @RaviSharen-q1r   \n",
       "\n",
       "           published_at  like_count  \\\n",
       "0  2024-10-13T05:17:46Z           1   \n",
       "1  2024-10-12T19:15:16Z           0   \n",
       "2  2024-10-12T15:53:39Z           0   \n",
       "3  2024-10-12T12:09:17Z           0   \n",
       "4  2024-10-12T11:37:25Z           0   \n",
       "\n",
       "                                                text  public  \\\n",
       "0           Maxwell in t20wc 💀🗿\\nMaxwell in rcb 🤡☺️😭    True   \n",
       "1                                            2\\n\\n7a    True   \n",
       "2  Thank God I watched this match live ball by ba...    True   \n",
       "3  Slap on Ajay Jadeja face who was mocking his l...    True   \n",
       "4                                  Aussies mindset☠️    True   \n",
       "\n",
       "                                    Processed_1  \\\n",
       "0                                 rcb maxwel wc   \n",
       "1                                                 \n",
       "2  watch match ball great experi god thank live   \n",
       "3         leg jadeja mock face injuri ajay slap   \n",
       "4                                 mindset aussi   \n",
       "\n",
       "                                         Processed_2  \n",
       "0        Maxwell in t20wc 💀 🗿 Maxwell in rcb 🤡 ☺ ️ 😭  \n",
       "1                                                 7a  \n",
       "2  Thank God I watched this match live ball by ba...  \n",
       "3  Slap on Ajay Jadeja face who was mocking his l...  \n",
       "4                                Aussies mindset ☠ ️  "
      ]
     },
     "execution_count": 17,
     "metadata": {},
     "output_type": "execute_result"
    }
   ],
   "source": [
    "test.head()"
   ]
  },
  {
   "cell_type": "code",
   "execution_count": null,
   "id": "be8af859-0105-4bfa-a107-57c2f98761e3",
   "metadata": {},
   "outputs": [],
   "source": [
    "\n",
    "\n"
   ]
  },
  {
   "cell_type": "code",
   "execution_count": 18,
   "id": "64433857-927d-44dd-8df3-b5b73f56ebc9",
   "metadata": {},
   "outputs": [
    {
     "data": {
      "text/html": [
       "<div>\n",
       "<style scoped>\n",
       "    .dataframe tbody tr th:only-of-type {\n",
       "        vertical-align: middle;\n",
       "    }\n",
       "\n",
       "    .dataframe tbody tr th {\n",
       "        vertical-align: top;\n",
       "    }\n",
       "\n",
       "    .dataframe thead th {\n",
       "        text-align: right;\n",
       "    }\n",
       "</style>\n",
       "<table border=\"1\" class=\"dataframe\">\n",
       "  <thead>\n",
       "    <tr style=\"text-align: right;\">\n",
       "      <th></th>\n",
       "      <th>video_id</th>\n",
       "      <th>comment_id</th>\n",
       "      <th>author</th>\n",
       "      <th>published_at</th>\n",
       "      <th>like_count</th>\n",
       "      <th>text</th>\n",
       "      <th>public</th>\n",
       "      <th>Processed_1</th>\n",
       "      <th>Processed_2</th>\n",
       "    </tr>\n",
       "  </thead>\n",
       "  <tbody>\n",
       "    <tr>\n",
       "      <th>0</th>\n",
       "      <td>VQpTVVsNHQs</td>\n",
       "      <td>Ugyg4bUKfvIHL3vy5PR4AaABAg</td>\n",
       "      <td>@athulkrishna1785</td>\n",
       "      <td>2024-10-13T05:17:46Z</td>\n",
       "      <td>1</td>\n",
       "      <td>Maxwell in t20wc 💀🗿\\nMaxwell in rcb 🤡☺️😭</td>\n",
       "      <td>True</td>\n",
       "      <td>rcb maxwel wc</td>\n",
       "      <td>Maxwell in t20wc 💀 🗿 Maxwell in rcb 🤡 ☺ ️ 😭</td>\n",
       "    </tr>\n",
       "    <tr>\n",
       "      <th>1</th>\n",
       "      <td>VQpTVVsNHQs</td>\n",
       "      <td>UgyapSuEgdu-lwwdLnp4AaABAg</td>\n",
       "      <td>@MuktharK-u8g</td>\n",
       "      <td>2024-10-12T19:15:16Z</td>\n",
       "      <td>0</td>\n",
       "      <td>2\\n\\n7a</td>\n",
       "      <td>True</td>\n",
       "      <td></td>\n",
       "      <td>7a</td>\n",
       "    </tr>\n",
       "    <tr>\n",
       "      <th>2</th>\n",
       "      <td>VQpTVVsNHQs</td>\n",
       "      <td>UgxdKI2pX0_hYoUdB9t4AaABAg</td>\n",
       "      <td>@aliarsal4082</td>\n",
       "      <td>2024-10-12T15:53:39Z</td>\n",
       "      <td>0</td>\n",
       "      <td>Thank God I watched this match live ball by ba...</td>\n",
       "      <td>True</td>\n",
       "      <td>watch match ball great experi god thank live</td>\n",
       "      <td>Thank God I watched this match live ball by ba...</td>\n",
       "    </tr>\n",
       "    <tr>\n",
       "      <th>3</th>\n",
       "      <td>VQpTVVsNHQs</td>\n",
       "      <td>Ugy8d8EsPlG2JgtqIwh4AaABAg</td>\n",
       "      <td>@onedirection3120</td>\n",
       "      <td>2024-10-12T12:09:17Z</td>\n",
       "      <td>0</td>\n",
       "      <td>Slap on Ajay Jadeja face who was mocking his l...</td>\n",
       "      <td>True</td>\n",
       "      <td>leg jadeja mock face injuri ajay slap</td>\n",
       "      <td>Slap on Ajay Jadeja face who was mocking his l...</td>\n",
       "    </tr>\n",
       "    <tr>\n",
       "      <th>4</th>\n",
       "      <td>VQpTVVsNHQs</td>\n",
       "      <td>UgzLAwV1TEmCffWBPyB4AaABAg</td>\n",
       "      <td>@RaviSharen-q1r</td>\n",
       "      <td>2024-10-12T11:37:25Z</td>\n",
       "      <td>0</td>\n",
       "      <td>Aussies mindset☠️</td>\n",
       "      <td>True</td>\n",
       "      <td>mindset aussi</td>\n",
       "      <td>Aussies mindset ☠ ️</td>\n",
       "    </tr>\n",
       "  </tbody>\n",
       "</table>\n",
       "</div>"
      ],
      "text/plain": [
       "      video_id                  comment_id             author  \\\n",
       "0  VQpTVVsNHQs  Ugyg4bUKfvIHL3vy5PR4AaABAg  @athulkrishna1785   \n",
       "1  VQpTVVsNHQs  UgyapSuEgdu-lwwdLnp4AaABAg      @MuktharK-u8g   \n",
       "2  VQpTVVsNHQs  UgxdKI2pX0_hYoUdB9t4AaABAg      @aliarsal4082   \n",
       "3  VQpTVVsNHQs  Ugy8d8EsPlG2JgtqIwh4AaABAg  @onedirection3120   \n",
       "4  VQpTVVsNHQs  UgzLAwV1TEmCffWBPyB4AaABAg    @RaviSharen-q1r   \n",
       "\n",
       "           published_at  like_count  \\\n",
       "0  2024-10-13T05:17:46Z           1   \n",
       "1  2024-10-12T19:15:16Z           0   \n",
       "2  2024-10-12T15:53:39Z           0   \n",
       "3  2024-10-12T12:09:17Z           0   \n",
       "4  2024-10-12T11:37:25Z           0   \n",
       "\n",
       "                                                text  public  \\\n",
       "0           Maxwell in t20wc 💀🗿\\nMaxwell in rcb 🤡☺️😭    True   \n",
       "1                                            2\\n\\n7a    True   \n",
       "2  Thank God I watched this match live ball by ba...    True   \n",
       "3  Slap on Ajay Jadeja face who was mocking his l...    True   \n",
       "4                                  Aussies mindset☠️    True   \n",
       "\n",
       "                                    Processed_1  \\\n",
       "0                                 rcb maxwel wc   \n",
       "1                                                 \n",
       "2  watch match ball great experi god thank live   \n",
       "3         leg jadeja mock face injuri ajay slap   \n",
       "4                                 mindset aussi   \n",
       "\n",
       "                                         Processed_2  \n",
       "0        Maxwell in t20wc 💀 🗿 Maxwell in rcb 🤡 ☺ ️ 😭  \n",
       "1                                                 7a  \n",
       "2  Thank God I watched this match live ball by ba...  \n",
       "3  Slap on Ajay Jadeja face who was mocking his l...  \n",
       "4                                Aussies mindset ☠ ️  "
      ]
     },
     "execution_count": 18,
     "metadata": {},
     "output_type": "execute_result"
    }
   ],
   "source": [
    "test.head()\n"
   ]
  },
  {
   "cell_type": "code",
   "execution_count": 19,
   "id": "62ef2f42-1a8b-4cc3-bc5d-b22a077d50ac",
   "metadata": {},
   "outputs": [],
   "source": [
    "test.to_csv(\"YT-ODI-final.csv\")"
   ]
  },
  {
   "cell_type": "code",
   "execution_count": null,
   "id": "c6c467f6-3b41-444f-918b-ac92afb65207",
   "metadata": {},
   "outputs": [],
   "source": []
  },
  {
   "cell_type": "code",
   "execution_count": 20,
   "id": "874a27da-7edc-4373-bd2d-59b691e34ebc",
   "metadata": {},
   "outputs": [
    {
     "name": "stdout",
     "output_type": "stream",
     "text": [
      "india: 11341\n",
      "world: 7640\n",
      "cup: 7050\n",
      "team: 6413\n",
      "match: 6282\n",
      "final: 5300\n",
      "catch: 4854\n",
      "cricket: 4803\n",
      "hai: 4691\n",
      "australia: 4543\n",
      "rohit: 4440\n",
      "win: 4313\n",
      "indian: 4266\n",
      "best: 4189\n",
      "icc: 4164\n",
      "like: 3375\n",
      "love: 3336\n",
      "play: 3287\n",
      "one: 3187\n",
      "time: 3091\n",
      "pakistan: 2946\n",
      "wc: 2934\n",
      "ka: 2815\n",
      "player: 2575\n",
      "kohli: 2434\n",
      "ko: 2326\n",
      "sharma: 2237\n",
      "ke: 2167\n",
      "ball: 2159\n",
      "bhai: 2141\n"
     ]
    }
   ],
   "source": [
    "# print out most common terms\n",
    "for term, count in termFreqCounter.most_common(freqNum):\n",
    "    print(term + ': ' + str(count))"
   ]
  },
  {
   "cell_type": "code",
   "execution_count": 21,
   "id": "94e2c942-75a4-4fa2-a927-a170f9989b5d",
   "metadata": {},
   "outputs": [
    {
     "data": {
      "image/png": "[encoded data removed]",
      "text/plain": [
       "<Figure size 640x480 with 1 Axes>"
      ]
     },
     "metadata": {},
     "output_type": "display_data"
    }
   ],
   "source": [
    "#term freq unigram\n",
    "# construct the x and y values\n",
    "y = [count for tag, count in termFreqCounter.most_common(freqNum)]\n",
    "x = [tag for tag, count in termFreqCounter.most_common(freqNum)]\n",
    "\n",
    "# use matplotlib bar chat to plot this\n",
    "plt.bar(x, y)\n",
    "plt.title(\"Term frequency distribution\")\n",
    "plt.ylabel('# of words with term frequency')\n",
    "plt.xlabel('Term frequency')\n",
    "plt.xticks(rotation=90)\n",
    "\n",
    "plt.show()"
   ]
  },
  {
   "cell_type": "code",
   "execution_count": 22,
   "id": "06c1b6f0-46a9-4a70-87d4-db72b7cb05b8",
   "metadata": {},
   "outputs": [],
   "source": [
    "test[\"created_date\"] = pd.to_datetime(test[\"published_at\"])"
   ]
  },
  {
   "cell_type": "code",
   "execution_count": 23,
   "id": "48da7ef0-b31f-465b-93bf-ba940039820e",
   "metadata": {},
   "outputs": [
    {
     "data": {
      "text/html": [
       "<div>\n",
       "<style scoped>\n",
       "    .dataframe tbody tr th:only-of-type {\n",
       "        vertical-align: middle;\n",
       "    }\n",
       "\n",
       "    .dataframe tbody tr th {\n",
       "        vertical-align: top;\n",
       "    }\n",
       "\n",
       "    .dataframe thead th {\n",
       "        text-align: right;\n",
       "    }\n",
       "</style>\n",
       "<table border=\"1\" class=\"dataframe\">\n",
       "  <thead>\n",
       "    <tr style=\"text-align: right;\">\n",
       "      <th></th>\n",
       "      <th>video_id</th>\n",
       "      <th>comment_id</th>\n",
       "      <th>author</th>\n",
       "      <th>published_at</th>\n",
       "      <th>like_count</th>\n",
       "      <th>text</th>\n",
       "      <th>public</th>\n",
       "      <th>Processed_1</th>\n",
       "      <th>Processed_2</th>\n",
       "      <th>created_date</th>\n",
       "    </tr>\n",
       "  </thead>\n",
       "  <tbody>\n",
       "    <tr>\n",
       "      <th>0</th>\n",
       "      <td>VQpTVVsNHQs</td>\n",
       "      <td>Ugyg4bUKfvIHL3vy5PR4AaABAg</td>\n",
       "      <td>@athulkrishna1785</td>\n",
       "      <td>2024-10-13T05:17:46Z</td>\n",
       "      <td>1</td>\n",
       "      <td>Maxwell in t20wc 💀🗿\\nMaxwell in rcb 🤡☺️😭</td>\n",
       "      <td>True</td>\n",
       "      <td>rcb maxwel wc</td>\n",
       "      <td>Maxwell in t20wc 💀 🗿 Maxwell in rcb 🤡 ☺ ️ 😭</td>\n",
       "      <td>2024-10-13 05:17:46+00:00</td>\n",
       "    </tr>\n",
       "    <tr>\n",
       "      <th>1</th>\n",
       "      <td>VQpTVVsNHQs</td>\n",
       "      <td>UgyapSuEgdu-lwwdLnp4AaABAg</td>\n",
       "      <td>@MuktharK-u8g</td>\n",
       "      <td>2024-10-12T19:15:16Z</td>\n",
       "      <td>0</td>\n",
       "      <td>2\\n\\n7a</td>\n",
       "      <td>True</td>\n",
       "      <td></td>\n",
       "      <td>7a</td>\n",
       "      <td>2024-10-12 19:15:16+00:00</td>\n",
       "    </tr>\n",
       "    <tr>\n",
       "      <th>2</th>\n",
       "      <td>VQpTVVsNHQs</td>\n",
       "      <td>UgxdKI2pX0_hYoUdB9t4AaABAg</td>\n",
       "      <td>@aliarsal4082</td>\n",
       "      <td>2024-10-12T15:53:39Z</td>\n",
       "      <td>0</td>\n",
       "      <td>Thank God I watched this match live ball by ba...</td>\n",
       "      <td>True</td>\n",
       "      <td>watch match ball great experi god thank live</td>\n",
       "      <td>Thank God I watched this match live ball by ba...</td>\n",
       "      <td>2024-10-12 15:53:39+00:00</td>\n",
       "    </tr>\n",
       "    <tr>\n",
       "      <th>3</th>\n",
       "      <td>VQpTVVsNHQs</td>\n",
       "      <td>Ugy8d8EsPlG2JgtqIwh4AaABAg</td>\n",
       "      <td>@onedirection3120</td>\n",
       "      <td>2024-10-12T12:09:17Z</td>\n",
       "      <td>0</td>\n",
       "      <td>Slap on Ajay Jadeja face who was mocking his l...</td>\n",
       "      <td>True</td>\n",
       "      <td>leg jadeja mock face injuri ajay slap</td>\n",
       "      <td>Slap on Ajay Jadeja face who was mocking his l...</td>\n",
       "      <td>2024-10-12 12:09:17+00:00</td>\n",
       "    </tr>\n",
       "    <tr>\n",
       "      <th>4</th>\n",
       "      <td>VQpTVVsNHQs</td>\n",
       "      <td>UgzLAwV1TEmCffWBPyB4AaABAg</td>\n",
       "      <td>@RaviSharen-q1r</td>\n",
       "      <td>2024-10-12T11:37:25Z</td>\n",
       "      <td>0</td>\n",
       "      <td>Aussies mindset☠️</td>\n",
       "      <td>True</td>\n",
       "      <td>mindset aussi</td>\n",
       "      <td>Aussies mindset ☠ ️</td>\n",
       "      <td>2024-10-12 11:37:25+00:00</td>\n",
       "    </tr>\n",
       "    <tr>\n",
       "      <th>...</th>\n",
       "      <td>...</td>\n",
       "      <td>...</td>\n",
       "      <td>...</td>\n",
       "      <td>...</td>\n",
       "      <td>...</td>\n",
       "      <td>...</td>\n",
       "      <td>...</td>\n",
       "      <td>...</td>\n",
       "      <td>...</td>\n",
       "      <td>...</td>\n",
       "    </tr>\n",
       "    <tr>\n",
       "      <th>112759</th>\n",
       "      <td>GecN5krG7DA</td>\n",
       "      <td>Ugx0NkM107P6hLIluOt4AaABAg</td>\n",
       "      <td>@SatisfactionFactoryOfficial</td>\n",
       "      <td>2024-09-10T09:15:03Z</td>\n",
       "      <td>3</td>\n",
       "      <td>Pakistan 🇵🇰</td>\n",
       "      <td>True</td>\n",
       "      <td>pakistan</td>\n",
       "      <td>Pakistan 🇵🇰</td>\n",
       "      <td>2024-09-10 09:15:03+00:00</td>\n",
       "    </tr>\n",
       "    <tr>\n",
       "      <th>112760</th>\n",
       "      <td>GecN5krG7DA</td>\n",
       "      <td>UgyDzaOO4dziwDg0_OF4AaABAg</td>\n",
       "      <td>@Quickedits-v6i</td>\n",
       "      <td>2024-09-09T10:14:49Z</td>\n",
       "      <td>2</td>\n",
       "      <td>Love from  🇮🇳</td>\n",
       "      <td>True</td>\n",
       "      <td>love</td>\n",
       "      <td>Love from 🇮🇳</td>\n",
       "      <td>2024-09-09 10:14:49+00:00</td>\n",
       "    </tr>\n",
       "    <tr>\n",
       "      <th>112761</th>\n",
       "      <td>GecN5krG7DA</td>\n",
       "      <td>UgwclaZaR3StrgznsZh4AaABAg</td>\n",
       "      <td>@Ayushtripathi-t5q</td>\n",
       "      <td>2024-09-09T07:45:41Z</td>\n",
       "      <td>2</td>\n",
       "      <td>India 🇮🇳🇮🇳🇮🇳</td>\n",
       "      <td>True</td>\n",
       "      <td>india</td>\n",
       "      <td>India 🇮🇳 🇮🇳 🇮🇳</td>\n",
       "      <td>2024-09-09 07:45:41+00:00</td>\n",
       "    </tr>\n",
       "    <tr>\n",
       "      <th>112762</th>\n",
       "      <td>GecN5krG7DA</td>\n",
       "      <td>UgxPae42A-eOgBLAe4J4AaABAg</td>\n",
       "      <td>@aaravgupta7215</td>\n",
       "      <td>2024-09-09T06:54:54Z</td>\n",
       "      <td>0</td>\n",
       "      <td>Hi</td>\n",
       "      <td>True</td>\n",
       "      <td>hi</td>\n",
       "      <td>Hi</td>\n",
       "      <td>2024-09-09 06:54:54+00:00</td>\n",
       "    </tr>\n",
       "    <tr>\n",
       "      <th>112763</th>\n",
       "      <td>GecN5krG7DA</td>\n",
       "      <td>UgwYNYjJeJ1ihSX3r654AaABAg</td>\n",
       "      <td>@AaravSaini-Me</td>\n",
       "      <td>2024-09-09T06:22:55Z</td>\n",
       "      <td>3</td>\n",
       "      <td>Shotttt!!!!!!😮😮😮</td>\n",
       "      <td>True</td>\n",
       "      <td>shotttt</td>\n",
       "      <td>Shotttt ! ! ! 😮 😮 😮</td>\n",
       "      <td>2024-09-09 06:22:55+00:00</td>\n",
       "    </tr>\n",
       "  </tbody>\n",
       "</table>\n",
       "<p>112764 rows × 10 columns</p>\n",
       "</div>"
      ],
      "text/plain": [
       "           video_id                  comment_id                        author  \\\n",
       "0       VQpTVVsNHQs  Ugyg4bUKfvIHL3vy5PR4AaABAg             @athulkrishna1785   \n",
       "1       VQpTVVsNHQs  UgyapSuEgdu-lwwdLnp4AaABAg                 @MuktharK-u8g   \n",
       "2       VQpTVVsNHQs  UgxdKI2pX0_hYoUdB9t4AaABAg                 @aliarsal4082   \n",
       "3       VQpTVVsNHQs  Ugy8d8EsPlG2JgtqIwh4AaABAg             @onedirection3120   \n",
       "4       VQpTVVsNHQs  UgzLAwV1TEmCffWBPyB4AaABAg               @RaviSharen-q1r   \n",
       "...             ...                         ...                           ...   \n",
       "112759  GecN5krG7DA  Ugx0NkM107P6hLIluOt4AaABAg  @SatisfactionFactoryOfficial   \n",
       "112760  GecN5krG7DA  UgyDzaOO4dziwDg0_OF4AaABAg               @Quickedits-v6i   \n",
       "112761  GecN5krG7DA  UgwclaZaR3StrgznsZh4AaABAg            @Ayushtripathi-t5q   \n",
       "112762  GecN5krG7DA  UgxPae42A-eOgBLAe4J4AaABAg               @aaravgupta7215   \n",
       "112763  GecN5krG7DA  UgwYNYjJeJ1ihSX3r654AaABAg                @AaravSaini-Me   \n",
       "\n",
       "                published_at  like_count  \\\n",
       "0       2024-10-13T05:17:46Z           1   \n",
       "1       2024-10-12T19:15:16Z           0   \n",
       "2       2024-10-12T15:53:39Z           0   \n",
       "3       2024-10-12T12:09:17Z           0   \n",
       "4       2024-10-12T11:37:25Z           0   \n",
       "...                      ...         ...   \n",
       "112759  2024-09-10T09:15:03Z           3   \n",
       "112760  2024-09-09T10:14:49Z           2   \n",
       "112761  2024-09-09T07:45:41Z           2   \n",
       "112762  2024-09-09T06:54:54Z           0   \n",
       "112763  2024-09-09T06:22:55Z           3   \n",
       "\n",
       "                                                     text  public  \\\n",
       "0                Maxwell in t20wc 💀🗿\\nMaxwell in rcb 🤡☺️😭    True   \n",
       "1                                                 2\\n\\n7a    True   \n",
       "2       Thank God I watched this match live ball by ba...    True   \n",
       "3       Slap on Ajay Jadeja face who was mocking his l...    True   \n",
       "4                                       Aussies mindset☠️    True   \n",
       "...                                                   ...     ...   \n",
       "112759                                        Pakistan 🇵🇰    True   \n",
       "112760                                      Love from  🇮🇳    True   \n",
       "112761                                       India 🇮🇳🇮🇳🇮🇳    True   \n",
       "112762                                                 Hi    True   \n",
       "112763                                   Shotttt!!!!!!😮😮😮    True   \n",
       "\n",
       "                                         Processed_1  \\\n",
       "0                                      rcb maxwel wc   \n",
       "1                                                      \n",
       "2       watch match ball great experi god thank live   \n",
       "3              leg jadeja mock face injuri ajay slap   \n",
       "4                                      mindset aussi   \n",
       "...                                              ...   \n",
       "112759                                      pakistan   \n",
       "112760                                          love   \n",
       "112761                                         india   \n",
       "112762                                            hi   \n",
       "112763                                       shotttt   \n",
       "\n",
       "                                              Processed_2  \\\n",
       "0             Maxwell in t20wc 💀 🗿 Maxwell in rcb 🤡 ☺ ️ 😭   \n",
       "1                                                      7a   \n",
       "2       Thank God I watched this match live ball by ba...   \n",
       "3       Slap on Ajay Jadeja face who was mocking his l...   \n",
       "4                                     Aussies mindset ☠ ️   \n",
       "...                                                   ...   \n",
       "112759                                        Pakistan 🇵🇰   \n",
       "112760                                       Love from 🇮🇳   \n",
       "112761                                     India 🇮🇳 🇮🇳 🇮🇳   \n",
       "112762                                                 Hi   \n",
       "112763                                Shotttt ! ! ! 😮 😮 😮   \n",
       "\n",
       "                    created_date  \n",
       "0      2024-10-13 05:17:46+00:00  \n",
       "1      2024-10-12 19:15:16+00:00  \n",
       "2      2024-10-12 15:53:39+00:00  \n",
       "3      2024-10-12 12:09:17+00:00  \n",
       "4      2024-10-12 11:37:25+00:00  \n",
       "...                          ...  \n",
       "112759 2024-09-10 09:15:03+00:00  \n",
       "112760 2024-09-09 10:14:49+00:00  \n",
       "112761 2024-09-09 07:45:41+00:00  \n",
       "112762 2024-09-09 06:54:54+00:00  \n",
       "112763 2024-09-09 06:22:55+00:00  \n",
       "\n",
       "[112764 rows x 10 columns]"
      ]
     },
     "execution_count": 23,
     "metadata": {},
     "output_type": "execute_result"
    }
   ],
   "source": [
    "test"
   ]
  },
  {
   "cell_type": "code",
   "execution_count": 24,
   "id": "ac8de0f2-6e53-4333-9bba-dbedc7e1382e",
   "metadata": {},
   "outputs": [
    {
     "data": {
      "text/plain": [
       "0        2024-10-13 05:17:46+00:00\n",
       "1        2024-10-12 19:15:16+00:00\n",
       "2        2024-10-12 15:53:39+00:00\n",
       "3        2024-10-12 12:09:17+00:00\n",
       "4        2024-10-12 11:37:25+00:00\n",
       "                    ...           \n",
       "112759   2024-09-10 09:15:03+00:00\n",
       "112760   2024-09-09 10:14:49+00:00\n",
       "112761   2024-09-09 07:45:41+00:00\n",
       "112762   2024-09-09 06:54:54+00:00\n",
       "112763   2024-09-09 06:22:55+00:00\n",
       "Name: created_date, Length: 112764, dtype: datetime64[ns, UTC]"
      ]
     },
     "execution_count": 24,
     "metadata": {},
     "output_type": "execute_result"
    }
   ],
   "source": [
    "test[\"created_date\"]"
   ]
  },
  {
   "cell_type": "code",
   "execution_count": 25,
   "id": "05a71587-a917-4d77-9b48-d7b71aeae431",
   "metadata": {},
   "outputs": [
    {
     "data": {
      "text/html": [
       "<div>\n",
       "<style scoped>\n",
       "    .dataframe tbody tr th:only-of-type {\n",
       "        vertical-align: middle;\n",
       "    }\n",
       "\n",
       "    .dataframe tbody tr th {\n",
       "        vertical-align: top;\n",
       "    }\n",
       "\n",
       "    .dataframe thead th {\n",
       "        text-align: right;\n",
       "    }\n",
       "</style>\n",
       "<table border=\"1\" class=\"dataframe\">\n",
       "  <thead>\n",
       "    <tr style=\"text-align: right;\">\n",
       "      <th></th>\n",
       "      <th>D_created_date</th>\n",
       "      <th>comment_id</th>\n",
       "    </tr>\n",
       "  </thead>\n",
       "  <tbody>\n",
       "    <tr>\n",
       "      <th>0</th>\n",
       "      <td>24-01</td>\n",
       "      <td>6349</td>\n",
       "    </tr>\n",
       "    <tr>\n",
       "      <th>1</th>\n",
       "      <td>24-02</td>\n",
       "      <td>16474</td>\n",
       "    </tr>\n",
       "    <tr>\n",
       "      <th>2</th>\n",
       "      <td>24-03</td>\n",
       "      <td>8002</td>\n",
       "    </tr>\n",
       "    <tr>\n",
       "      <th>3</th>\n",
       "      <td>24-04</td>\n",
       "      <td>9693</td>\n",
       "    </tr>\n",
       "    <tr>\n",
       "      <th>4</th>\n",
       "      <td>24-05</td>\n",
       "      <td>8316</td>\n",
       "    </tr>\n",
       "    <tr>\n",
       "      <th>5</th>\n",
       "      <td>24-06</td>\n",
       "      <td>31361</td>\n",
       "    </tr>\n",
       "    <tr>\n",
       "      <th>6</th>\n",
       "      <td>24-07</td>\n",
       "      <td>19323</td>\n",
       "    </tr>\n",
       "    <tr>\n",
       "      <th>7</th>\n",
       "      <td>24-08</td>\n",
       "      <td>4969</td>\n",
       "    </tr>\n",
       "    <tr>\n",
       "      <th>8</th>\n",
       "      <td>24-09</td>\n",
       "      <td>5481</td>\n",
       "    </tr>\n",
       "    <tr>\n",
       "      <th>9</th>\n",
       "      <td>24-10</td>\n",
       "      <td>2796</td>\n",
       "    </tr>\n",
       "  </tbody>\n",
       "</table>\n",
       "</div>"
      ],
      "text/plain": [
       "  D_created_date  comment_id\n",
       "0          24-01        6349\n",
       "1          24-02       16474\n",
       "2          24-03        8002\n",
       "3          24-04        9693\n",
       "4          24-05        8316\n",
       "5          24-06       31361\n",
       "6          24-07       19323\n",
       "7          24-08        4969\n",
       "8          24-09        5481\n",
       "9          24-10        2796"
      ]
     },
     "execution_count": 25,
     "metadata": {},
     "output_type": "execute_result"
    }
   ],
   "source": [
    "test['D_created_date'] = test['created_date'].dt.strftime('%y-%m')\n",
    "new = test[['D_created_date','comment_id']].groupby('D_created_date').count().reset_index()\n",
    "new"
   ]
  },
  {
   "cell_type": "code",
   "execution_count": 48,
   "id": "af974f6f-48ad-4447-9db0-961e6be26bae",
   "metadata": {},
   "outputs": [
    {
     "data": {
      "image/png": "[encoded data removed]",
      "text/plain": [
       "<Figure size 640x480 with 1 Axes>"
      ]
     },
     "metadata": {},
     "output_type": "display_data"
    }
   ],
   "source": [
    "\n",
    "month_c = new[['D_created_date','comment_id']]\n",
    "# tell pandas that the date column is the one we use for indexing (or x-axis)\n",
    "month_c.set_index('D_created_date', inplace=True)\n",
    "# pandas makes a guess at the type of the columns, but to make sure it doesn't get it wrong, we set the sentiment\n",
    "# column to floats\n",
    "month_c['comment_id'] = month_c['comment_id'].apply(pd.to_numeric)\n",
    "month_c.rename(columns={'post_id': 'count'}, inplace=True)\n",
    "\n",
    "\n",
    "# this plots and shows the time series\n",
    "month_c.plot()\n",
    "plt.title(\"Youtube ODI user interactions/month\")\n",
    "plt.xlabel(\"Date\")\n",
    "plt.tight_layout()\n",
    "plt.grid(True)\n",
    "plt.show()"
   ]
  },
  {
   "cell_type": "code",
   "execution_count": 27,
   "id": "de4ba9ed-16c8-4417-8d40-4de4b4835819",
   "metadata": {},
   "outputs": [
    {
     "data": {
      "text/html": [
       "<div>\n",
       "<style scoped>\n",
       "    .dataframe tbody tr th:only-of-type {\n",
       "        vertical-align: middle;\n",
       "    }\n",
       "\n",
       "    .dataframe tbody tr th {\n",
       "        vertical-align: top;\n",
       "    }\n",
       "\n",
       "    .dataframe thead th {\n",
       "        text-align: right;\n",
       "    }\n",
       "</style>\n",
       "<table border=\"1\" class=\"dataframe\">\n",
       "  <thead>\n",
       "    <tr style=\"text-align: right;\">\n",
       "      <th></th>\n",
       "      <th>comment_id</th>\n",
       "    </tr>\n",
       "    <tr>\n",
       "      <th>D_created_date</th>\n",
       "      <th></th>\n",
       "    </tr>\n",
       "  </thead>\n",
       "  <tbody>\n",
       "    <tr>\n",
       "      <th>24-01</th>\n",
       "      <td>6349</td>\n",
       "    </tr>\n",
       "    <tr>\n",
       "      <th>24-02</th>\n",
       "      <td>16474</td>\n",
       "    </tr>\n",
       "    <tr>\n",
       "      <th>24-03</th>\n",
       "      <td>8002</td>\n",
       "    </tr>\n",
       "    <tr>\n",
       "      <th>24-04</th>\n",
       "      <td>9693</td>\n",
       "    </tr>\n",
       "    <tr>\n",
       "      <th>24-05</th>\n",
       "      <td>8316</td>\n",
       "    </tr>\n",
       "    <tr>\n",
       "      <th>24-06</th>\n",
       "      <td>31361</td>\n",
       "    </tr>\n",
       "    <tr>\n",
       "      <th>24-07</th>\n",
       "      <td>19323</td>\n",
       "    </tr>\n",
       "    <tr>\n",
       "      <th>24-08</th>\n",
       "      <td>4969</td>\n",
       "    </tr>\n",
       "    <tr>\n",
       "      <th>24-09</th>\n",
       "      <td>5481</td>\n",
       "    </tr>\n",
       "    <tr>\n",
       "      <th>24-10</th>\n",
       "      <td>2796</td>\n",
       "    </tr>\n",
       "  </tbody>\n",
       "</table>\n",
       "</div>"
      ],
      "text/plain": [
       "                comment_id\n",
       "D_created_date            \n",
       "24-01                 6349\n",
       "24-02                16474\n",
       "24-03                 8002\n",
       "24-04                 9693\n",
       "24-05                 8316\n",
       "24-06                31361\n",
       "24-07                19323\n",
       "24-08                 4969\n",
       "24-09                 5481\n",
       "24-10                 2796"
      ]
     },
     "execution_count": 27,
     "metadata": {},
     "output_type": "execute_result"
    }
   ],
   "source": [
    "month_c"
   ]
  },
  {
   "cell_type": "code",
   "execution_count": 28,
   "id": "9d92fffe-d9de-4bbd-a001-338b60999258",
   "metadata": {},
   "outputs": [],
   "source": [
    "## sentiment analysis"
   ]
  },
  {
   "cell_type": "code",
   "execution_count": 29,
   "id": "0b64dbda-c9d5-45cd-9c9e-16e59ab1801a",
   "metadata": {},
   "outputs": [],
   "source": [
    "vader_analyzer = SentimentIntensityAnalyzer()"
   ]
  },
  {
   "cell_type": "code",
   "execution_count": 30,
   "id": "c43095cd-269e-4ead-982f-1c9ad598ea91",
   "metadata": {},
   "outputs": [],
   "source": [
    "def vaderPrintTokens(lTokens, dSentimentScores):\n",
    "    \"\"\"\n",
    "    Print out the tokens and sentiment score.\n",
    "    \n",
    "    @param lTokens: List of tokens to print and colour.\n",
    "    @dSentimentScores: Dictionary of sentiment from Vader.\n",
    "\n",
    "    \"\"\"\n",
    "    print(*lTokens, sep=', ')\n",
    "    for cat,score in dSentimentScores.items():\n",
    "        print('{0}: {1}, '.format(cat, score), end='')\n",
    "    print()\n",
    "\n",
    "def vaderSentimentAnalysis(redd_df, bPrint, tweetProcessor):\n",
    "    \"\"\"\n",
    "    Use Vader lexicons instead of a raw positive and negative word count.\n",
    "\n",
    "    @param redd_df: name of input df containing a json formated tweet dump\n",
    "    @param bPrint: whether to print the stream of tokens and sentiment.  Uses colorama to highlight sentiment words.\n",
    "    @param tweetProcessor: TweetProcessing object, used to pre-process each tweet.\n",
    "\n",
    "    @returns: list of tweets, in the format of [date, sentiment]\n",
    "    \"\"\"\n",
    "\n",
    "    # this is the vader sentiment analyser, part of nltk\n",
    "    sentAnalyser = SentimentIntensityAnalyzer()\n",
    "\n",
    "\n",
    "    lSentiment = []\n",
    "    # open rows , one by one\n",
    "    for i,row in redd_df.iterrows():  \n",
    "            postText = row[\"Processed_2\"]\n",
    "            \n",
    "            # pre-process the post text\n",
    "            lTokens = redditProcessor.process(postText)\n",
    "\n",
    "            # this computes the sentiment scores (called polarity score in nltk, but mean same thing essentially)\n",
    "            # see workshop sheet for what dSentimentScores holds\n",
    "            dSentimentScores = sentAnalyser.polarity_scores(\" \".join(lTokens))\n",
    "\n",
    "            # save the  sentiment of each post (used for time series)\n",
    "            lSentiment.append( dSentimentScores['compound'])\n",
    "\n",
    "    \n",
    "            #if bPrint:\n",
    "                #print(row[\"Processed_2\"], dSentimentScores)\n",
    "                \n",
    "       \n",
    "                    \n",
    "                    \n",
    "    return lSentiment\n",
    "\n"
   ]
  },
  {
   "cell_type": "code",
   "execution_count": 31,
   "id": "cd0f9b63-7f56-4a5b-8629-648ffd49a426",
   "metadata": {},
   "outputs": [],
   "source": [
    "from nltk.tokenize import TweetTokenizer\n",
    "\n",
    "tweetTokenizer = TweetTokenizer()\n",
    "redditProcessor = RedditProcessing.RedditProcessing(tweetTokenizer, lStopwords)"
   ]
  },
  {
   "cell_type": "code",
   "execution_count": 141,
   "id": "6a263010-a3f7-4c43-b9dd-0c03d8ac5586",
   "metadata": {},
   "outputs": [],
   "source": [
    "test = test[(test['Processed_2'].str.len() > 20) & (test['Processed_2'].str.len() < 400)]"
   ]
  },
  {
   "cell_type": "code",
   "execution_count": 142,
   "id": "c87b8bf4-890c-4d5e-8d27-ec831c576627",
   "metadata": {},
   "outputs": [
    {
     "name": "stdout",
     "output_type": "stream",
     "text": [
      "<class 'pandas.core.frame.DataFrame'>\n",
      "Index: 82883 entries, 0 to 112758\n",
      "Data columns (total 12 columns):\n",
      " #   Column           Non-Null Count  Dtype              \n",
      "---  ------           --------------  -----              \n",
      " 0   video_id         82883 non-null  object             \n",
      " 1   comment_id       82883 non-null  object             \n",
      " 2   author           82877 non-null  object             \n",
      " 3   published_at     82883 non-null  object             \n",
      " 4   like_count       82883 non-null  int64              \n",
      " 5   text             82883 non-null  object             \n",
      " 6   public           82883 non-null  bool               \n",
      " 7   Processed_1      82883 non-null  object             \n",
      " 8   Processed_2      82883 non-null  object             \n",
      " 9   created_date     82883 non-null  datetime64[ns, UTC]\n",
      " 10  D_created_date   82883 non-null  object             \n",
      " 11  vadar_sentiment  82883 non-null  float64            \n",
      "dtypes: bool(1), datetime64[ns, UTC](1), float64(1), int64(1), object(8)\n",
      "memory usage: 7.7+ MB\n"
     ]
    }
   ],
   "source": [
    "test.info()"
   ]
  },
  {
   "cell_type": "code",
   "execution_count": 143,
   "id": "60fefb05-9465-42eb-af53-2fc7acaa53e0",
   "metadata": {},
   "outputs": [
    {
     "data": {
      "text/html": [
       "<div>\n",
       "<style scoped>\n",
       "    .dataframe tbody tr th:only-of-type {\n",
       "        vertical-align: middle;\n",
       "    }\n",
       "\n",
       "    .dataframe tbody tr th {\n",
       "        vertical-align: top;\n",
       "    }\n",
       "\n",
       "    .dataframe thead th {\n",
       "        text-align: right;\n",
       "    }\n",
       "</style>\n",
       "<table border=\"1\" class=\"dataframe\">\n",
       "  <thead>\n",
       "    <tr style=\"text-align: right;\">\n",
       "      <th></th>\n",
       "      <th>video_id</th>\n",
       "      <th>comment_id</th>\n",
       "      <th>author</th>\n",
       "      <th>published_at</th>\n",
       "      <th>like_count</th>\n",
       "      <th>text</th>\n",
       "      <th>public</th>\n",
       "      <th>Processed_1</th>\n",
       "      <th>Processed_2</th>\n",
       "      <th>created_date</th>\n",
       "      <th>D_created_date</th>\n",
       "      <th>vadar_sentiment</th>\n",
       "    </tr>\n",
       "  </thead>\n",
       "  <tbody>\n",
       "    <tr>\n",
       "      <th>0</th>\n",
       "      <td>VQpTVVsNHQs</td>\n",
       "      <td>Ugyg4bUKfvIHL3vy5PR4AaABAg</td>\n",
       "      <td>@athulkrishna1785</td>\n",
       "      <td>2024-10-13T05:17:46Z</td>\n",
       "      <td>1</td>\n",
       "      <td>Maxwell in t20wc 💀🗿\\nMaxwell in rcb 🤡☺️😭</td>\n",
       "      <td>True</td>\n",
       "      <td>rcb maxwel wc</td>\n",
       "      <td>Maxwell in t20wc 💀 🗿 Maxwell in rcb 🤡 ☺ ️ 😭</td>\n",
       "      <td>2024-10-13 05:17:46+00:00</td>\n",
       "      <td>24-10</td>\n",
       "      <td>0.0000</td>\n",
       "    </tr>\n",
       "    <tr>\n",
       "      <th>2</th>\n",
       "      <td>VQpTVVsNHQs</td>\n",
       "      <td>UgxdKI2pX0_hYoUdB9t4AaABAg</td>\n",
       "      <td>@aliarsal4082</td>\n",
       "      <td>2024-10-12T15:53:39Z</td>\n",
       "      <td>0</td>\n",
       "      <td>Thank God I watched this match live ball by ba...</td>\n",
       "      <td>True</td>\n",
       "      <td>watch match ball great experi god thank live</td>\n",
       "      <td>Thank God I watched this match live ball by ba...</td>\n",
       "      <td>2024-10-12 15:53:39+00:00</td>\n",
       "      <td>24-10</td>\n",
       "      <td>0.8271</td>\n",
       "    </tr>\n",
       "    <tr>\n",
       "      <th>3</th>\n",
       "      <td>VQpTVVsNHQs</td>\n",
       "      <td>Ugy8d8EsPlG2JgtqIwh4AaABAg</td>\n",
       "      <td>@onedirection3120</td>\n",
       "      <td>2024-10-12T12:09:17Z</td>\n",
       "      <td>0</td>\n",
       "      <td>Slap on Ajay Jadeja face who was mocking his l...</td>\n",
       "      <td>True</td>\n",
       "      <td>leg jadeja mock face injuri ajay slap</td>\n",
       "      <td>Slap on Ajay Jadeja face who was mocking his l...</td>\n",
       "      <td>2024-10-12 12:09:17+00:00</td>\n",
       "      <td>24-10</td>\n",
       "      <td>-0.5994</td>\n",
       "    </tr>\n",
       "    <tr>\n",
       "      <th>5</th>\n",
       "      <td>VQpTVVsNHQs</td>\n",
       "      <td>UgyQ_eN1WQld9DQzoBd4AaABAg</td>\n",
       "      <td>@SohilKhan-q9l7b</td>\n",
       "      <td>2024-10-12T10:18:17Z</td>\n",
       "      <td>1</td>\n",
       "      <td>English commentary ❤❤❤</td>\n",
       "      <td>True</td>\n",
       "      <td>commentari english</td>\n",
       "      <td>English commentary ❤ ❤ ❤</td>\n",
       "      <td>2024-10-12 10:18:17+00:00</td>\n",
       "      <td>24-10</td>\n",
       "      <td>0.0000</td>\n",
       "    </tr>\n",
       "    <tr>\n",
       "      <th>6</th>\n",
       "      <td>VQpTVVsNHQs</td>\n",
       "      <td>Ugyho-sMGQGagMp7CnV4AaABAg</td>\n",
       "      <td>@shaan891</td>\n",
       "      <td>2024-10-12T09:36:52Z</td>\n",
       "      <td>0</td>\n",
       "      <td>Absolutely best every odi innings. No doubt</td>\n",
       "      <td>True</td>\n",
       "      <td>doubt absolut odi inning everi best</td>\n",
       "      <td>Absolutely best every odi innings . No doubt</td>\n",
       "      <td>2024-10-12 09:36:52+00:00</td>\n",
       "      <td>24-10</td>\n",
       "      <td>0.4576</td>\n",
       "    </tr>\n",
       "  </tbody>\n",
       "</table>\n",
       "</div>"
      ],
      "text/plain": [
       "      video_id                  comment_id             author  \\\n",
       "0  VQpTVVsNHQs  Ugyg4bUKfvIHL3vy5PR4AaABAg  @athulkrishna1785   \n",
       "2  VQpTVVsNHQs  UgxdKI2pX0_hYoUdB9t4AaABAg      @aliarsal4082   \n",
       "3  VQpTVVsNHQs  Ugy8d8EsPlG2JgtqIwh4AaABAg  @onedirection3120   \n",
       "5  VQpTVVsNHQs  UgyQ_eN1WQld9DQzoBd4AaABAg   @SohilKhan-q9l7b   \n",
       "6  VQpTVVsNHQs  Ugyho-sMGQGagMp7CnV4AaABAg          @shaan891   \n",
       "\n",
       "           published_at  like_count  \\\n",
       "0  2024-10-13T05:17:46Z           1   \n",
       "2  2024-10-12T15:53:39Z           0   \n",
       "3  2024-10-12T12:09:17Z           0   \n",
       "5  2024-10-12T10:18:17Z           1   \n",
       "6  2024-10-12T09:36:52Z           0   \n",
       "\n",
       "                                                text  public  \\\n",
       "0           Maxwell in t20wc 💀🗿\\nMaxwell in rcb 🤡☺️😭    True   \n",
       "2  Thank God I watched this match live ball by ba...    True   \n",
       "3  Slap on Ajay Jadeja face who was mocking his l...    True   \n",
       "5                             English commentary ❤❤❤    True   \n",
       "6        Absolutely best every odi innings. No doubt    True   \n",
       "\n",
       "                                    Processed_1  \\\n",
       "0                                 rcb maxwel wc   \n",
       "2  watch match ball great experi god thank live   \n",
       "3         leg jadeja mock face injuri ajay slap   \n",
       "5                            commentari english   \n",
       "6           doubt absolut odi inning everi best   \n",
       "\n",
       "                                         Processed_2  \\\n",
       "0        Maxwell in t20wc 💀 🗿 Maxwell in rcb 🤡 ☺ ️ 😭   \n",
       "2  Thank God I watched this match live ball by ba...   \n",
       "3  Slap on Ajay Jadeja face who was mocking his l...   \n",
       "5                           English commentary ❤ ❤ ❤   \n",
       "6       Absolutely best every odi innings . No doubt   \n",
       "\n",
       "               created_date D_created_date  vadar_sentiment  \n",
       "0 2024-10-13 05:17:46+00:00          24-10           0.0000  \n",
       "2 2024-10-12 15:53:39+00:00          24-10           0.8271  \n",
       "3 2024-10-12 12:09:17+00:00          24-10          -0.5994  \n",
       "5 2024-10-12 10:18:17+00:00          24-10           0.0000  \n",
       "6 2024-10-12 09:36:52+00:00          24-10           0.4576  "
      ]
     },
     "execution_count": 143,
     "metadata": {},
     "output_type": "execute_result"
    }
   ],
   "source": [
    "test.head()"
   ]
  },
  {
   "cell_type": "code",
   "execution_count": 144,
   "id": "1b0a3ad4-6d44-4530-89ec-c29403af73c6",
   "metadata": {},
   "outputs": [
    {
     "name": "stderr",
     "output_type": "stream",
     "text": [
      "/opt/anaconda3/lib/python3.11/site-packages/ipywidgets/widgets/widget.py:438: DeprecationWarning: The `ipykernel.comm.Comm` class has been deprecated. Please use the `comm` module instead.For creating comms, use the function `from comm import create_comm`.\n",
      "  self.comm = Comm(**args)\n",
      "/opt/anaconda3/lib/python3.11/site-packages/ipywidgets/widgets/widget.py:438: DeprecationWarning: The `ipykernel.comm.Comm` class has been deprecated. Please use the `comm` module instead.For creating comms, use the function `from comm import create_comm`.\n",
      "  self.comm = Comm(**args)\n",
      "/opt/anaconda3/lib/python3.11/site-packages/ipywidgets/widgets/widget.py:438: DeprecationWarning: The `ipykernel.comm.Comm` class has been deprecated. Please use the `comm` module instead.For creating comms, use the function `from comm import create_comm`.\n",
      "  self.comm = Comm(**args)\n",
      "/opt/anaconda3/lib/python3.11/site-packages/ipywidgets/widgets/widget.py:438: DeprecationWarning: The `ipykernel.comm.Comm` class has been deprecated. Please use the `comm` module instead.For creating comms, use the function `from comm import create_comm`.\n",
      "  self.comm = Comm(**args)\n",
      "/opt/anaconda3/lib/python3.11/site-packages/ipywidgets/widgets/widget.py:438: DeprecationWarning: The `ipykernel.comm.Comm` class has been deprecated. Please use the `comm` module instead.For creating comms, use the function `from comm import create_comm`.\n",
      "  self.comm = Comm(**args)\n",
      "/opt/anaconda3/lib/python3.11/site-packages/ipywidgets/widgets/widget.py:438: DeprecationWarning: The `ipykernel.comm.Comm` class has been deprecated. Please use the `comm` module instead.For creating comms, use the function `from comm import create_comm`.\n",
      "  self.comm = Comm(**args)\n",
      "/opt/anaconda3/lib/python3.11/site-packages/ipywidgets/widgets/widget.py:438: DeprecationWarning: The `ipykernel.comm.Comm` class has been deprecated. Please use the `comm` module instead.For creating comms, use the function `from comm import create_comm`.\n",
      "  self.comm = Comm(**args)\n",
      "/opt/anaconda3/lib/python3.11/site-packages/ipywidgets/widgets/widget.py:438: DeprecationWarning: The `ipykernel.comm.Comm` class has been deprecated. Please use the `comm` module instead.For creating comms, use the function `from comm import create_comm`.\n",
      "  self.comm = Comm(**args)\n",
      "/opt/anaconda3/lib/python3.11/site-packages/ipywidgets/widgets/widget.py:438: DeprecationWarning: The `ipykernel.comm.Comm` class has been deprecated. Please use the `comm` module instead.For creating comms, use the function `from comm import create_comm`.\n",
      "  self.comm = Comm(**args)\n",
      "/opt/anaconda3/lib/python3.11/site-packages/ipywidgets/widgets/widget.py:438: DeprecationWarning: The `ipykernel.comm.Comm` class has been deprecated. Please use the `comm` module instead.For creating comms, use the function `from comm import create_comm`.\n",
      "  self.comm = Comm(**args)\n",
      "/opt/anaconda3/lib/python3.11/site-packages/ipywidgets/widgets/widget.py:438: DeprecationWarning: The `ipykernel.comm.Comm` class has been deprecated. Please use the `comm` module instead.For creating comms, use the function `from comm import create_comm`.\n",
      "  self.comm = Comm(**args)\n"
     ]
    },
    {
     "data": {
      "application/vnd.jupyter.widget-view+json": {
       "model_id": "00c2cbfb1aaf46f7aed90e3450ae14f1",
       "version_major": 2,
       "version_minor": 0
      },
      "text/plain": [
       "                                             |      | [  0%]   00:00 -> (? left)"
      ]
     },
     "metadata": {},
     "output_type": "display_data"
    },
    {
     "name": "stdout",
     "output_type": "stream",
     "text": [
      "Report youtube_ODI.html was generated! NOTEBOOK/COLAB USERS: the web browser MAY not pop up, regardless, the report IS saved in your notebook/colab files.\n"
     ]
    }
   ],
   "source": [
    "import sweetviz as sv\n",
    "my_report = sv.analyze(test)\n",
    "my_report.show_html(filepath=\"youtube_ODI.html\")"
   ]
  },
  {
   "cell_type": "code",
   "execution_count": 145,
   "id": "2f18be46-7636-4ef9-be1a-a40ffb8024fa",
   "metadata": {},
   "outputs": [],
   "source": [
    "lSentiment = []\n",
    "flagPrint = True\n",
    "lSentiment = vaderSentimentAnalysis(test, flagPrint, redditProcessor)"
   ]
  },
  {
   "cell_type": "code",
   "execution_count": 146,
   "id": "25e1f663-5118-4c37-9c9c-f4e445033587",
   "metadata": {},
   "outputs": [],
   "source": [
    "test[\"vadar_sentiment\"] = lSentiment"
   ]
  },
  {
   "cell_type": "code",
   "execution_count": null,
   "id": "b3bc2e42-bc07-4a14-b65b-9d78031267fc",
   "metadata": {},
   "outputs": [],
   "source": [
    "test[\"created_date\"] = test[\"created_date\"].dt.date\n"
   ]
  },
  {
   "cell_type": "code",
   "execution_count": 151,
   "id": "02b27b98-0167-41bc-aaaa-339c70338c55",
   "metadata": {},
   "outputs": [
    {
     "data": {
      "image/png": "[encoded data removed]",
      "text/plain": [
       "<Figure size 1600x600 with 1 Axes>"
      ]
     },
     "metadata": {},
     "output_type": "display_data"
    }
   ],
   "source": [
    "odi_sentiment_aggregated = test.groupby('created_date')['vadar_sentiment'].mean().reset_index()\n",
    "\n",
    "# plotting sentiment\n",
    "plt.figure(figsize=(16, 6))\n",
    "plt.plot(odi_sentiment_aggregated['created_date'],odi_sentiment_aggregated['vadar_sentiment'],linestyle='-')\n",
    "plt.title('Yoututbe Sentiment for ODI over time')\n",
    "plt.xlabel('Date and Time')\n",
    "plt.ylabel('Sentiment')\n",
    "plt.xticks(rotation=45)\n",
    "plt.grid(True)\n",
    "plt.tight_layout()\n",
    "plt.show()"
   ]
  },
  {
   "cell_type": "markdown",
   "id": "bdd6064a-d691-4375-b56d-96be8cfe5ec3",
   "metadata": {},
   "source": [
    "# topic modeling"
   ]
  },
  {
   "cell_type": "code",
   "execution_count": 124,
   "id": "237af362-989e-4f0e-a0e3-957acb9ae31a",
   "metadata": {},
   "outputs": [],
   "source": [
    "comment_text = test['Processed_1'].tolist()"
   ]
  },
  {
   "cell_type": "code",
   "execution_count": 125,
   "id": "ad7cb0aa-a6ae-49d7-819a-9c3a5056fd4d",
   "metadata": {},
   "outputs": [],
   "source": [
    "remove_words = ['hai','ko','ki','se','bhi','ki','tha','nahi','ka','nhi','kaha','khatam','kitna']\n",
    "comment_text = [word for word in comment_text if word not in remove_words]"
   ]
  },
  {
   "cell_type": "code",
   "execution_count": 126,
   "id": "1285bfbc-b5e3-4ed8-b873-57a237bcddd0",
   "metadata": {},
   "outputs": [],
   "source": [
    "# creating the count vectorzer object\n",
    "tfVectorizer = CountVectorizer(max_df=0.95, min_df=80, stop_words='english')\n",
    "# generating the count vector\n",
    "tf = tfVectorizer.fit_transform(comment_text)\n",
    "# list of words in count vector\n",
    "tfFeatureNames = tfVectorizer.get_feature_names_out()"
   ]
  },
  {
   "cell_type": "code",
   "execution_count": 127,
   "id": "c54e7784-2cbc-4183-8408-255e56ca6241",
   "metadata": {},
   "outputs": [
    {
     "data": {
      "text/plain": [
       "1057"
      ]
     },
     "execution_count": 127,
     "metadata": {},
     "output_type": "execute_result"
    }
   ],
   "source": [
    "len(tfFeatureNames)"
   ]
  },
  {
   "cell_type": "code",
   "execution_count": 128,
   "id": "43813b68-2bc9-4d41-ab88-7d7e8d56e01f",
   "metadata": {},
   "outputs": [
    {
     "data": {
      "text/plain": [
       "array(['aa', 'aag', 'aaj', ..., 'हत', 'हम', 'हर'], dtype=object)"
      ]
     },
     "execution_count": 128,
     "metadata": {},
     "output_type": "execute_result"
    }
   ],
   "source": [
    "tfFeatureNames"
   ]
  },
  {
   "cell_type": "code",
   "execution_count": 129,
   "id": "66874e5f-b39f-4696-80eb-0e74be388459",
   "metadata": {},
   "outputs": [],
   "source": [
    "#remove = {'hai','ko','ki','se','bhi','ki','tha','nahi','ka','nhi','kaha','khatam','kitna'}\n",
    "#tfFeatureNames = np.array([item for item in tfFeatureNames if item not in remove])\n"
   ]
  },
  {
   "cell_type": "code",
   "execution_count": 130,
   "id": "78fce239-32bb-4332-8a59-15dc61087f1a",
   "metadata": {},
   "outputs": [
    {
     "name": "stdout",
     "output_type": "stream",
     "text": [
      "Number of topics: 2, Perplexity: 460.95612086570685\n",
      "Number of topics: 3, Perplexity: 449.6373422691659\n",
      "Number of topics: 4, Perplexity: 465.7723561592024\n",
      "Number of topics: 5, Perplexity: 505.7550453073719\n",
      "Number of topics: 6, Perplexity: 580.4472178133138\n",
      "Number of topics: 7, Perplexity: 585.5797625367566\n",
      "Number of topics: 8, Perplexity: 589.376335861671\n",
      "Number of topics: 9, Perplexity: 583.0065071810451\n",
      "The best number of topics is: 3\n"
     ]
    }
   ],
   "source": [
    "#LDA tuning\n",
    "perplexity_scores = []\n",
    "topics_range = range(2, 10, 1)\n",
    "\n",
    "for n_topics in topics_range:\n",
    "    #Train the LDA model for each topic number\n",
    "    ldaModel = LatentDirichletAllocation(n_components=n_topics, max_iter=10, learning_method='online', random_state=42)\n",
    "    ldaModel.fit(tf)\n",
    "    \n",
    "    # Compute the perplexity score for the model\n",
    "    perplexity = ldaModel.perplexity(tf)\n",
    "    perplexity_scores.append(perplexity)\n",
    "    \n",
    "    print(f\"Number of topics: {n_topics}, Perplexity: {perplexity}\")\n",
    "\n",
    "#Find the number of topics that minimizes perplexity\n",
    "best_n_topics = topics_range[np.argmin(perplexity_scores)]\n",
    "print(f\"The best number of topics is: {best_n_topics}\")"
   ]
  },
  {
   "cell_type": "code",
   "execution_count": 131,
   "id": "69a1b9f7-19b6-4b2d-881f-0840fe34b46c",
   "metadata": {},
   "outputs": [],
   "source": [
    "best_n_topics = 3\n",
    "ldaModel = LatentDirichletAllocation(n_components =best_n_topics, max_iter=2, learning_method='online').fit(tf)"
   ]
  },
  {
   "cell_type": "code",
   "execution_count": 132,
   "id": "d8cf03b8-edad-4271-b5e4-575f2dba0621",
   "metadata": {},
   "outputs": [],
   "source": [
    "#visualize topics\n",
    "def display_topics(model, featureNames, numTopWords):\n",
    "    \"\"\"\n",
    "    Prints out the most associated words for each feature.\n",
    "\n",
    "    @param model: lda model.\n",
    "    @param featureNames: list of strings, representing the list of features/words.\n",
    "    @param numTopWords: number of words to print per topic.\n",
    "    \"\"\"\n",
    "\n",
    "    # print out the topic distributions\n",
    "    for topicId, lTopicDist in enumerate(model.components_):\n",
    "        print(\"Topic %d:\" % (topicId))\n",
    "        print(\" \".join([featureNames[i] for i in lTopicDist.argsort()[:-numTopWords - 1:-1]]))"
   ]
  },
  {
   "cell_type": "code",
   "execution_count": 133,
   "id": "cb714ed1-c84d-4394-a8ea-116aba0dd604",
   "metadata": {},
   "outputs": [],
   "source": [
    "wordNumToDisplay = 15\n"
   ]
  },
  {
   "cell_type": "code",
   "execution_count": 134,
   "id": "ba372722-a94b-4870-a938-13fd6f1fc21c",
   "metadata": {},
   "outputs": [
    {
     "name": "stdout",
     "output_type": "stream",
     "text": [
      "Topic 0:\n",
      "world cup best win like love play time ball watch match bowl surya bowler cricket\n",
      "Topic 1:\n",
      "india team rohit final indian catch pakistan cricket match wc icc kohli congratul australia afghanistan\n",
      "Topic 2:\n",
      "hai ka ko ke bhai bhi ki ye se tha nahi hi aur ne ra\n"
     ]
    }
   ],
   "source": [
    "display_topics(ldaModel, tfFeatureNames, wordNumToDisplay)"
   ]
  },
  {
   "cell_type": "code",
   "execution_count": 135,
   "id": "e6ff106d-9a9b-4b55-9f2c-114b4d081ea7",
   "metadata": {},
   "outputs": [
    {
     "data": {
      "text/html": [
       "\n",
       "<link rel=\"stylesheet\" type=\"text/css\" href=\"https://cdn.jsdelivr.net/gh/bmabey/pyLDAvis@3.4.0/pyLDAvis/js/ldavis.v1.0.0.css\">\n",
       "\n",
       "\n",
       "<div id=\"ldavis_el5448965866830564756222001\" style=\"background-color:white;\"></div>\n",
       "<script type=\"text/javascript\">\n",
       "\n",
       "var ldavis_el5448965866830564756222001_data = {\"mdsDat\": {\"x\": [51.28879928588867, -246.76129150390625, 75.1986312866211], \"y\": [116.21240234375, -82.27741241455078, -241.794189453125], \"topics\": [1, 2, 3], \"cluster\": [1, 1, 1], \"Freq\": [38.69764762842749, 35.53054502787037, 25.77180734370213]}, \"tinfo\": {\"Term\": [\"india\", \"hai\", \"world\", \"team\", \"cup\", \"ka\", \"best\", \"ko\", \"rohit\", \"like\", \"love\", \"ke\", \"indian\", \"win\", \"bhai\", \"bhi\", \"ki\", \"play\", \"ball\", \"ye\", \"se\", \"time\", \"tha\", \"wc\", \"pakistan\", \"kohli\", \"congratul\", \"afghanistan\", \"sharma\", \"nahi\", \"team\", \"afghanistan\", \"bangladesh\", \"wc\", \"virat\", \"indian\", \"africa\", \"south\", \"deserv\", \"vs\", \"congratul\", \"england\", \"west\", \"indi\", \"sky\", \"sharma\", \"make\", \"think\", \"new\", \"perform\", \"kohli\", \"pak\", \"emot\", \"guy\", \"batsman\", \"peopl\", \"good\", \"tournament\", \"need\", \"lost\", \"india\", \"rohit\", \"rememb\", \"dont\", \"know\", \"year\", \"come\", \"pakistan\", \"australia\", \"final\", \"alway\", \"catch\", \"trophi\", \"icc\", \"cricket\", \"player\", \"match\", \"pakistani\", \"best\", \"love\", \"bowl\", \"like\", \"man\", \"bumrah\", \"moment\", \"stoke\", \"world\", \"king\", \"look\", \"ben\", \"cummin\", \"hitman\", \"brother\", \"big\", \"greatest\", \"miss\", \"sri\", \"proud\", \"reason\", \"boundari\", \"end\", \"field\", \"kumar\", \"lanka\", \"seen\", \"inning\", \"chang\", \"champion\", \"cup\", \"ball\", \"watch\", \"everi\", \"better\", \"play\", \"dhoni\", \"time\", \"win\", \"bowler\", \"run\", \"wicket\", \"surya\", \"game\", \"match\", \"cricket\", \"bat\", \"hai\", \"ka\", \"ko\", \"ke\", \"bhi\", \"bhai\", \"ki\", \"se\", \"ye\", \"tha\", \"nahi\", \"hi\", \"aur\", \"ne\", \"ra\", \"ho\", \"nhi\", \"pe\", \"ek\", \"kya\", \"rabet\", \"pleas\", \"hain\", \"kar\", \"upload\", \"bro\", \"na\", \"mein\", \"bet\", \"toh\", \"jay\", \"ab\", \"thank\", \"live\", \"ipl\", \"match\"], \"Freq\": [8769.0, 5117.0, 6574.0, 6719.0, 5994.0, 3139.0, 3774.0, 2754.0, 4285.0, 3452.0, 3379.0, 2530.0, 3505.0, 4039.0, 2329.0, 2314.0, 2269.0, 3204.0, 2838.0, 1922.0, 1885.0, 3038.0, 1780.0, 2445.0, 3530.0, 2197.0, 2179.0, 2157.0, 2105.0, 1430.0, 6718.722107005929, 2156.977133586271, 2044.6193114948571, 2444.4090240703536, 1832.9119847161512, 3503.9969431983504, 1478.01212838405, 1441.4304533450038, 1322.8249580055724, 1157.03732496568, 2177.703013871263, 957.0753760088529, 912.3880741167576, 818.2284757447327, 874.8884317162224, 2103.46694807043, 936.7932511147377, 802.9309317223104, 771.3803037033873, 748.6756951406161, 2194.797917495036, 756.7072260743699, 730.5932464969768, 711.5869964592719, 860.9583939108051, 611.1604486187723, 1576.0351345320585, 670.4168867287231, 614.4782776496065, 768.8023839925027, 8654.767866044891, 4226.4789790285895, 1362.5241169336146, 1203.5626269980721, 944.8154632854519, 1006.1300719009047, 861.756355055533, 3255.682113970775, 2170.7658559999486, 3636.376986595912, 1270.7424289410485, 3282.4307357526404, 1613.2116990690797, 2439.209916723989, 2922.18998183426, 1907.18555943859, 2575.021551231896, 994.8467350258617, 3773.218750341256, 3378.5811938355555, 1863.7539379410161, 3450.6639665926346, 1355.1133307607827, 1399.344528544182, 1274.2332445201496, 1181.4472713787438, 6569.287166810283, 1051.8850932283328, 880.5345138474775, 880.6356331963242, 760.3515883559745, 888.7189115889616, 769.5739656215177, 768.8373036227773, 702.0259724990907, 825.0256779954724, 632.3258766973756, 700.8998714709725, 618.9643322799053, 633.4947934224032, 583.7027577002798, 606.9277205492342, 596.0221848773743, 525.0835235814169, 497.16553026118885, 918.4973708447138, 494.7266823455252, 1142.250864930471, 5973.866630184352, 2833.650672657241, 1903.7078133694913, 1041.3505073108518, 1062.0250045621194, 3120.4612232619024, 1097.3914404020993, 2873.2397509679568, 3768.853310414427, 1714.8521092400601, 1444.7206357499438, 1326.7938907947, 1823.3937353566353, 1384.7595184259674, 1890.0616720882028, 1676.3895199129904, 892.0826958104335, 5117.199990103881, 3138.3716822186475, 2753.3744657212865, 2529.9613470718873, 2313.6901958101103, 2329.183478786875, 2268.8123575833883, 1885.0267088818953, 1921.3613427718735, 1780.3163397601763, 1429.4566877440382, 1423.63965088499, 1381.3312649772818, 1377.315979611189, 1343.9083568523308, 1264.2925291130837, 1200.8310705632489, 1054.1876686321314, 880.6976186966411, 870.6856515460074, 796.4226204066927, 987.7903764896971, 777.2902499376784, 768.1762759103684, 731.6933456749266, 774.4279963974882, 663.8386103478857, 644.2825402610819, 754.8483462403287, 638.1242745313547, 664.7424414176686, 645.7684510390877, 970.4315196331535, 782.0012679358998, 981.952176877734, 1046.13709224383], \"Total\": [8769.0, 5117.0, 6574.0, 6719.0, 5994.0, 3139.0, 3774.0, 2754.0, 4285.0, 3452.0, 3379.0, 2530.0, 3505.0, 4039.0, 2329.0, 2314.0, 2269.0, 3204.0, 2838.0, 1922.0, 1885.0, 3038.0, 1780.0, 2445.0, 3530.0, 2197.0, 2179.0, 2157.0, 2105.0, 1430.0, 6719.559502375296, 2157.829291091386, 2045.510061502119, 2445.5221979660528, 1833.7655641315189, 3505.8550259128715, 1478.8285927692223, 1442.2314755877076, 1323.6483424639157, 1157.8253942490405, 2179.4046756491443, 957.9233585075675, 913.2012591990932, 819.0396875109542, 875.7977910531581, 2105.654467379276, 937.7704438132596, 803.7885964006633, 772.2137309180124, 749.5002255497955, 2197.2923966745916, 757.5856199323109, 731.451649724769, 712.4422970896999, 862.0499416494675, 611.9682168664592, 1578.1481315332787, 671.3387349083893, 615.3468519522428, 770.0293264070303, 8769.575321137663, 4285.761786671892, 1366.4790361770822, 1209.0226232895147, 950.3773822820582, 1014.8518470444608, 866.5352588165366, 3530.3296422295252, 2330.7785442543513, 4208.775028642096, 1330.1824932548611, 3890.4253182784937, 1803.816686425006, 3039.936168166828, 4604.680853118774, 2631.152699348461, 5511.220315563929, 1064.336469095603, 3774.1155746778873, 3379.4655167145556, 1864.5545989342297, 3452.3817038800134, 1355.9273316549277, 1400.1899574089618, 1275.0813283704745, 1182.3026275318334, 6574.158361732789, 1052.7278260545215, 881.3235366877569, 881.4723872947158, 761.1370376452913, 889.6448743081921, 770.4030821794819, 769.6706052033028, 702.7923210238109, 825.9716817580073, 633.0904243959103, 701.7582539423394, 619.7302542914442, 634.3286881770423, 584.5099816786299, 607.7745055014657, 596.8684086563017, 525.8491858330152, 497.9387946893415, 919.9573960797242, 495.5164751265453, 1144.129427803899, 5994.300273636477, 2838.900913483548, 1913.0986044820706, 1043.2012400368756, 1064.579555050054, 3204.6649263704817, 1111.218391724672, 3038.4808456463174, 4039.533290905499, 1809.152768523039, 1576.94693579215, 1455.2877292157837, 2154.6648007196627, 1729.2473949769956, 5511.220315563929, 4604.680853118774, 1362.9952274930486, 5117.872108973795, 3139.0483637657667, 2754.0514308869083, 2530.6355327640767, 2314.361779953602, 2329.8692158284684, 2269.488823613221, 1885.70092960111, 1922.0552535817728, 1780.9936746132173, 1430.1285145518893, 1424.3124968130521, 1382.0033919785797, 1377.9898949890714, 1344.5929716462201, 1264.9642924025347, 1201.50558178226, 1054.8545661329595, 881.3719639647105, 871.3581896316632, 797.104725336801, 988.6392391832943, 777.9584799690957, 768.8475395087917, 732.4266064194644, 775.2134104422229, 664.5120623683828, 644.9586025951144, 755.6408422899686, 638.7979233962142, 665.4813706842618, 646.454501522972, 1062.316393421916, 887.2271272055041, 1391.5631756838375, 5511.220315563929], \"Category\": [\"Default\", \"Default\", \"Default\", \"Default\", \"Default\", \"Default\", \"Default\", \"Default\", \"Default\", \"Default\", \"Default\", \"Default\", \"Default\", \"Default\", \"Default\", \"Default\", \"Default\", \"Default\", \"Default\", \"Default\", \"Default\", \"Default\", \"Default\", \"Default\", \"Default\", \"Default\", \"Default\", \"Default\", \"Default\", \"Default\", \"Topic1\", \"Topic1\", \"Topic1\", \"Topic1\", \"Topic1\", \"Topic1\", \"Topic1\", \"Topic1\", \"Topic1\", \"Topic1\", \"Topic1\", \"Topic1\", \"Topic1\", \"Topic1\", \"Topic1\", \"Topic1\", \"Topic1\", \"Topic1\", \"Topic1\", \"Topic1\", \"Topic1\", \"Topic1\", \"Topic1\", \"Topic1\", \"Topic1\", \"Topic1\", \"Topic1\", \"Topic1\", \"Topic1\", \"Topic1\", \"Topic1\", \"Topic1\", \"Topic1\", \"Topic1\", \"Topic1\", \"Topic1\", \"Topic1\", \"Topic1\", \"Topic1\", \"Topic1\", \"Topic1\", \"Topic1\", \"Topic1\", \"Topic1\", \"Topic1\", \"Topic1\", \"Topic1\", \"Topic1\", \"Topic2\", \"Topic2\", \"Topic2\", \"Topic2\", \"Topic2\", \"Topic2\", \"Topic2\", \"Topic2\", \"Topic2\", \"Topic2\", \"Topic2\", \"Topic2\", \"Topic2\", \"Topic2\", \"Topic2\", \"Topic2\", \"Topic2\", \"Topic2\", \"Topic2\", \"Topic2\", \"Topic2\", \"Topic2\", \"Topic2\", \"Topic2\", \"Topic2\", \"Topic2\", \"Topic2\", \"Topic2\", \"Topic2\", \"Topic2\", \"Topic2\", \"Topic2\", \"Topic2\", \"Topic2\", \"Topic2\", \"Topic2\", \"Topic2\", \"Topic2\", \"Topic2\", \"Topic2\", \"Topic2\", \"Topic2\", \"Topic2\", \"Topic2\", \"Topic2\", \"Topic2\", \"Topic2\", \"Topic3\", \"Topic3\", \"Topic3\", \"Topic3\", \"Topic3\", \"Topic3\", \"Topic3\", \"Topic3\", \"Topic3\", \"Topic3\", \"Topic3\", \"Topic3\", \"Topic3\", \"Topic3\", \"Topic3\", \"Topic3\", \"Topic3\", \"Topic3\", \"Topic3\", \"Topic3\", \"Topic3\", \"Topic3\", \"Topic3\", \"Topic3\", \"Topic3\", \"Topic3\", \"Topic3\", \"Topic3\", \"Topic3\", \"Topic3\", \"Topic3\", \"Topic3\", \"Topic3\", \"Topic3\", \"Topic3\", \"Topic3\"], \"logprob\": [30.0, 29.0, 28.0, 27.0, 26.0, 25.0, 24.0, 23.0, 22.0, 21.0, 20.0, 19.0, 18.0, 17.0, 16.0, 15.0, 14.0, 13.0, 12.0, 11.0, 10.0, 9.0, 8.0, 7.0, 6.0, 5.0, 4.0, 3.0, 2.0, 1.0, -3.1892, -4.3254, -4.3789, -4.2003, -4.4882, -3.8402, -4.7034, -4.7285, -4.8144, -4.9483, -4.3159, -5.138, -5.1858, -5.2948, -5.2278, -4.3506, -5.1594, -5.3136, -5.3537, -5.3836, -4.3081, -5.3729, -5.408, -5.4344, -5.2439, -5.5865, -4.6392, -5.494, -5.5811, -5.3571, -2.936, -3.6528, -4.7848, -4.9089, -5.1509, -5.088, -5.2429, -3.9137, -4.3191, -3.8032, -4.8545, -3.9056, -4.6159, -4.2025, -4.0218, -4.4485, -4.1483, -5.0993, -3.6808, -3.7913, -4.3862, -3.7702, -4.7049, -4.6728, -4.7664, -4.842, -3.1264, -4.9582, -5.136, -5.1359, -5.2827, -5.1267, -5.2707, -5.2716, -5.3625, -5.2011, -5.4671, -5.3642, -5.4885, -5.4653, -5.5471, -5.5081, -5.5262, -5.653, -5.7076, -5.0938, -5.7125, -4.8758, -3.2214, -3.9672, -4.365, -4.9682, -4.9486, -3.8708, -4.9158, -3.9533, -3.682, -4.4694, -4.6408, -4.726, -4.4081, -4.6832, -4.3722, -4.4921, -5.123, -3.055, -3.5439, -3.6748, -3.7594, -3.8488, -3.8421, -3.8684, -4.0537, -4.0346, -4.1109, -4.3304, -4.3344, -4.3646, -4.3675, -4.3921, -4.4531, -4.5046, -4.6349, -4.8147, -4.8261, -4.9153, -4.6999, -4.9396, -4.9514, -5.0, -4.9433, -5.0974, -5.1273, -4.9689, -5.1369, -5.096, -5.125, -4.7177, -4.9335, -4.7059, -4.6425], \"loglift\": [30.0, 29.0, 28.0, 27.0, 26.0, 25.0, 24.0, 23.0, 22.0, 21.0, 20.0, 19.0, 18.0, 17.0, 16.0, 15.0, 14.0, 13.0, 12.0, 11.0, 10.0, 9.0, 8.0, 7.0, 6.0, 5.0, 4.0, 3.0, 2.0, 1.0, 0.9493, 0.949, 0.949, 0.9489, 0.9489, 0.9489, 0.9488, 0.9488, 0.9488, 0.9487, 0.9486, 0.9485, 0.9485, 0.9484, 0.9484, 0.9484, 0.9483, 0.9483, 0.9483, 0.9483, 0.9483, 0.9482, 0.9482, 0.9482, 0.9481, 0.9481, 0.9481, 0.948, 0.948, 0.9478, 0.9362, 0.9355, 0.9465, 0.9449, 0.9435, 0.9408, 0.9439, 0.8684, 0.8783, 0.8032, 0.9037, 0.7795, 0.8377, 0.7292, 0.4947, 0.6276, 0.1885, 0.8819, 1.0345, 1.0345, 1.0343, 1.0343, 1.0342, 1.0342, 1.0341, 1.0341, 1.034, 1.034, 1.0339, 1.0338, 1.0337, 1.0337, 1.0337, 1.0337, 1.0337, 1.0336, 1.0336, 1.0336, 1.0335, 1.0335, 1.0334, 1.0334, 1.0334, 1.0333, 1.0332, 1.0332, 1.0332, 1.0331, 1.0314, 1.0329, 1.0299, 1.033, 1.0324, 1.0082, 1.0223, 0.9789, 0.9654, 0.9812, 0.9472, 0.9423, 0.8678, 0.8126, -0.0354, 0.0243, 0.6109, 1.3558, 1.3557, 1.3556, 1.3556, 1.3556, 1.3556, 1.3556, 1.3555, 1.3555, 1.3555, 1.3554, 1.3554, 1.3554, 1.3554, 1.3554, 1.3554, 1.3553, 1.3553, 1.3551, 1.3551, 1.355, 1.355, 1.355, 1.355, 1.3549, 1.3549, 1.3549, 1.3548, 1.3548, 1.3548, 1.3548, 1.3548, 1.2654, 1.2296, 1.0072, -0.3058]}, \"token.table\": {\"Topic\": [3, 1, 1, 1, 2, 3, 1, 2, 3, 2, 3, 1, 1, 2, 3, 1, 2, 3, 2, 2, 3, 1, 2, 3, 3, 2, 2, 2, 1, 2, 3, 2, 2, 1, 2, 3, 1, 2, 2, 1, 2, 1, 2, 1, 2, 3, 2, 1, 2, 3, 1, 1, 2, 1, 2, 3, 1, 2, 1, 1, 2, 2, 1, 2, 3, 1, 2, 3, 1, 2, 2, 1, 3, 3, 3, 2, 3, 3, 1, 3, 1, 1, 2, 3, 1, 2, 1, 2, 1, 2, 3, 3, 3, 3, 3, 3, 2, 1, 2, 3, 1, 2, 2, 3, 2, 1, 2, 1, 2, 3, 2, 1, 2, 2, 1, 3, 2, 1, 2, 3, 3, 2, 3, 2, 3, 3, 3, 1, 1, 3, 1, 1, 2, 3, 1, 2, 3, 3, 1, 1, 1, 2, 1, 2, 3, 3, 2, 3, 3, 2, 1, 2, 1, 2, 3, 1, 2, 3, 3, 2, 1, 2, 3, 1, 1, 2, 2, 1, 2, 3, 1, 3, 1, 2, 3, 1, 2, 3, 3, 1, 1, 2, 3, 3, 1, 1, 1, 2, 3, 1, 2, 1, 1, 2, 3, 1, 2, 1, 2, 3, 3, 1, 2], \"Freq\": [0.9992969319234358, 0.9996156827165106, 0.9994396965454457, 0.9555079896518215, 0.04435481619941579, 0.9992739583821548, 0.9314484232540133, 0.034752336381195334, 0.03389425400141274, 0.9982736581399264, 0.001761244986132545, 0.999750643366797, 0.31841637538104545, 0.6544410295850058, 0.027146096518660557, 0.998782040809076, 0.001160025599081389, 0.001160025599081389, 0.9994640929182529, 0.9997044142777789, 0.999151922111533, 0.0018786759434864073, 0.9975769259912822, 0.9996269250554652, 0.9998436804665825, 0.9991287114269803, 0.9979053632575554, 0.999702556881656, 0.051958022360234384, 0.9479575356149146, 0.9984347401297784, 0.9994767905414637, 0.9991501457336804, 0.8436095623221677, 0.08636587840958207, 0.069915234902995, 0.000874026990040324, 0.9981388226260499, 0.9989577034216403, 0.9947662154881838, 0.004616084526627303, 0.9993554773627684, 0.00045884089869732247, 0.63457166592141, 0.3639774510897615, 0.0013030219012759958, 0.9985061328130753, 0.0003336502858884459, 0.996613403948788, 0.003002852572996013, 0.9995101852636261, 0.011698870444200699, 0.9872046828683204, 0.9958457160414012, 0.004135571910470935, 0.9995779716397635, 0.9993825296245638, 0.9991275056121963, 0.9990360831068927, 0.0009585878175956266, 0.9978899181170473, 0.9987256696448189, 0.8639093264087119, 0.07365563563990668, 0.06225089205695338, 0.0034697175299661614, 0.8009264631671889, 0.19603904044308812, 0.9986388276928151, 0.0012673081569705776, 0.9988726100156349, 0.9993791818768949, 0.9998295953952687, 0.9987679548539226, 0.9997805981385747, 0.99927513289087, 0.0011240440189998538, 0.9992376919978482, 0.8023194781325917, 0.19737256534627104, 0.9987306017927974, 0.9869349065442773, 0.012543366807610687, 0.0005701530367095767, 0.9994708777461816, 0.0002852371226444582, 0.0010870068595147631, 0.9978722970345525, 0.2931954561096387, 0.0007186163139942125, 0.7056812203423166, 0.9992766579119009, 0.9996660249718138, 0.9988976494490271, 0.9997488643639716, 0.9997846106981735, 0.9993086284635894, 0.9943418452687227, 0.005261067964384776, 0.9996182239463227, 0.9989567175137634, 0.0009102111321309917, 0.9985450584354822, 0.9995889295172464, 0.9983851152461708, 0.00028965510936294626, 0.9995997824115275, 0.11609203195174916, 0.0022542142126553235, 0.8813977571482315, 0.999632896803173, 0.9986632633696781, 0.001298651837931961, 0.9998622513790263, 0.9991784302668714, 0.0010663590504449, 0.9993160904472691, 0.4672286449387782, 0.3429367529841906, 0.1897946262547425, 0.9985136990323763, 0.9988235895013505, 0.0012106952600016369, 0.9991519534115864, 0.9992294159920021, 0.999210899901368, 0.9992816384266161, 0.9978112312625477, 0.9984282448376443, 0.9995792097931747, 0.9992269917526111, 0.9222934768051074, 0.024077071722492058, 0.05381933679145283, 0.9348547464933527, 0.004697762545192727, 0.06013136057846691, 0.9991898730304669, 0.9984178641312176, 0.9993325878595587, 0.02621178872985519, 0.9735807242517641, 0.7247773952732659, 0.2736443233333778, 0.0015202462407409877, 0.9993534151205424, 0.9989194940877721, 0.9995589954293052, 0.998614077546292, 0.998821657831956, 0.9974540142329477, 0.0029272311496198024, 0.9860557376619152, 0.0004666614943974989, 0.013299852590328719, 0.0019024102408956491, 0.9163275993647377, 0.08180364035851291, 0.9996282922757755, 0.9981146383865769, 0.9987393623120987, 0.0009498234544099845, 0.00047491172720499225, 0.9990890693476188, 0.999146131804393, 0.998277616665975, 0.9988982283372297, 0.01949259113806097, 0.8460712772544082, 0.13459170071518287, 0.9999167352599381, 0.9994420672979464, 0.001882678279639113, 0.08472052258376009, 0.9130989656249698, 0.9990189007355981, 0.9455382955981354, 0.054303452409917276, 0.9987508985752929, 0.9980058726857584, 0.8942150342321167, 0.0011087601168408142, 0.10477783104145694, 0.9994175437979378, 0.9995825179911253, 0.9992871168199106, 0.0036589854718414245, 0.9952440483408674, 0.0010454244205261212, 0.9993775570848146, 0.0004089106207384675, 0.9986845624806225, 0.08108362190588049, 0.9118471717720629, 0.0075586427200397075, 0.06683940459356308, 0.9330285774560713, 0.00030422145162211284, 0.9992153578528296, 0.00030422145162211284, 0.9994509764587639, 0.9912776952909531, 0.007882924018218315], \"Term\": [\"ab\", \"afghanistan\", \"africa\", \"alway\", \"alway\", \"aur\", \"australia\", \"australia\", \"australia\", \"ball\", \"ball\", \"bangladesh\", \"bat\", \"bat\", \"bat\", \"batsman\", \"batsman\", \"batsman\", \"ben\", \"best\", \"bet\", \"better\", \"better\", \"bhai\", \"bhi\", \"big\", \"boundari\", \"bowl\", \"bowler\", \"bowler\", \"bro\", \"brother\", \"bumrah\", \"catch\", \"catch\", \"catch\", \"champion\", \"champion\", \"chang\", \"come\", \"come\", \"congratul\", \"congratul\", \"cricket\", \"cricket\", \"cricket\", \"cummin\", \"cup\", \"cup\", \"cup\", \"deserv\", \"dhoni\", \"dhoni\", \"dont\", \"dont\", \"ek\", \"emot\", \"end\", \"england\", \"everi\", \"everi\", \"field\", \"final\", \"final\", \"final\", \"game\", \"game\", \"game\", \"good\", \"good\", \"greatest\", \"guy\", \"hai\", \"hain\", \"hi\", \"hitman\", \"hitman\", \"ho\", \"icc\", \"icc\", \"indi\", \"india\", \"india\", \"india\", \"indian\", \"indian\", \"inning\", \"inning\", \"ipl\", \"ipl\", \"ipl\", \"jay\", \"ka\", \"kar\", \"ke\", \"ki\", \"king\", \"know\", \"know\", \"ko\", \"kohli\", \"kohli\", \"kumar\", \"kya\", \"lanka\", \"like\", \"like\", \"live\", \"live\", \"live\", \"look\", \"lost\", \"lost\", \"love\", \"make\", \"make\", \"man\", \"match\", \"match\", \"match\", \"mein\", \"miss\", \"miss\", \"moment\", \"na\", \"nahi\", \"ne\", \"need\", \"new\", \"nhi\", \"pak\", \"pakistan\", \"pakistan\", \"pakistan\", \"pakistani\", \"pakistani\", \"pakistani\", \"pe\", \"peopl\", \"perform\", \"play\", \"play\", \"player\", \"player\", \"player\", \"pleas\", \"proud\", \"ra\", \"rabet\", \"reason\", \"rememb\", \"rememb\", \"rohit\", \"rohit\", \"rohit\", \"run\", \"run\", \"run\", \"se\", \"seen\", \"sharma\", \"sharma\", \"sharma\", \"sky\", \"south\", \"sri\", \"stoke\", \"surya\", \"surya\", \"surya\", \"team\", \"tha\", \"thank\", \"thank\", \"thank\", \"think\", \"time\", \"time\", \"toh\", \"tournament\", \"trophi\", \"trophi\", \"trophi\", \"upload\", \"virat\", \"vs\", \"watch\", \"watch\", \"watch\", \"wc\", \"wc\", \"west\", \"wicket\", \"wicket\", \"wicket\", \"win\", \"win\", \"world\", \"world\", \"world\", \"ye\", \"year\", \"year\"]}, \"R\": 30, \"lambda.step\": 0.01, \"plot.opts\": {\"xlab\": \"PC1\", \"ylab\": \"PC2\"}, \"topic.order\": [2, 1, 3]};\n",
       "\n",
       "function LDAvis_load_lib(url, callback){\n",
       "  var s = document.createElement('script');\n",
       "  s.src = url;\n",
       "  s.async = true;\n",
       "  s.onreadystatechange = s.onload = callback;\n",
       "  s.onerror = function(){console.warn(\"failed to load library \" + url);};\n",
       "  document.getElementsByTagName(\"head\")[0].appendChild(s);\n",
       "}\n",
       "\n",
       "if(typeof(LDAvis) !== \"undefined\"){\n",
       "   // already loaded: just create the visualization\n",
       "   !function(LDAvis){\n",
       "       new LDAvis(\"#\" + \"ldavis_el5448965866830564756222001\", ldavis_el5448965866830564756222001_data);\n",
       "   }(LDAvis);\n",
       "}else if(typeof define === \"function\" && define.amd){\n",
       "   // require.js is available: use it to load d3/LDAvis\n",
       "   require.config({paths: {d3: \"https://d3js.org/d3.v5\"}});\n",
       "   require([\"d3\"], function(d3){\n",
       "      window.d3 = d3;\n",
       "      LDAvis_load_lib(\"https://cdn.jsdelivr.net/gh/bmabey/pyLDAvis@3.4.0/pyLDAvis/js/ldavis.v3.0.0.js\", function(){\n",
       "        new LDAvis(\"#\" + \"ldavis_el5448965866830564756222001\", ldavis_el5448965866830564756222001_data);\n",
       "      });\n",
       "    });\n",
       "}else{\n",
       "    // require.js not available: dynamically load d3 & LDAvis\n",
       "    LDAvis_load_lib(\"https://d3js.org/d3.v5.js\", function(){\n",
       "         LDAvis_load_lib(\"https://cdn.jsdelivr.net/gh/bmabey/pyLDAvis@3.4.0/pyLDAvis/js/ldavis.v3.0.0.js\", function(){\n",
       "                 new LDAvis(\"#\" + \"ldavis_el5448965866830564756222001\", ldavis_el5448965866830564756222001_data);\n",
       "            })\n",
       "         });\n",
       "}\n",
       "</script>"
      ],
      "text/plain": [
       "<IPython.core.display.HTML object>"
      ]
     },
     "execution_count": 135,
     "metadata": {},
     "output_type": "execute_result"
    }
   ],
   "source": [
    "# TODO: Add the pyLDAvis code here\n",
    "# note if you also implemented the word cloud, that will display first, then once you close that\n",
    "# file, then this will display\n",
    "# Answer to exercise 2\n",
    "panel = pyLDAvis.lda_model.prepare(ldaModel, tf, tfVectorizer, mds='tsne')\n",
    "pyLDAvis.display(panel)"
   ]
  },
  {
   "cell_type": "code",
   "execution_count": 79,
   "id": "331a9f43-d3ab-4e68-b7c8-832df6fcb566",
   "metadata": {},
   "outputs": [],
   "source": [
    "def displayWordcloud(model, featureNames):\n",
    "    \"\"\"\n",
    "    Displays the word cloud of the topic distributions, stored in model.\n",
    "\n",
    "    @param model: lda model.\n",
    "    @param featureNames: list of strings, representing the list of features/words.\n",
    "    \"\"\"\n",
    "\n",
    "    # this normalises each row/topic to sum to one\n",
    "    # use this normalisedComponents to display your wordclouds\n",
    "    normalisedComponents = model.components_ / model.components_.sum(axis=1)[:, np.newaxis]\n",
    "\n",
    "  \n",
    "    \n",
    "    topicNum = len(model.components_)\n",
    "    # number of wordclouds for each row\n",
    "    plotColNum = 3\n",
    "    # number of wordclouds for each column\n",
    "    plotRowNum = int(math.ceil(topicNum / plotColNum))\n",
    "\n",
    "    for topicId, lTopicDist in enumerate(normalisedComponents):\n",
    "        lWordProb = {featureNames[i] : wordProb for i,wordProb in enumerate(lTopicDist)}\n",
    "        wordcloud = WordCloud(background_color='black')\n",
    "        wordcloud.fit_words(frequencies=lWordProb)\n",
    "        plt.subplot(plotRowNum, plotColNum, topicId+1)\n",
    "        plt.title('Topic %d:' % (topicId+1))\n",
    "        plt.imshow(wordcloud, interpolation='bilinear')\n",
    "        plt.axis(\"off\")\n",
    "\n",
    "    plt.show(block=True)"
   ]
  },
  {
   "cell_type": "code",
   "execution_count": 81,
   "id": "f2f9ec0b-6b34-4aca-bb0b-e5b3602b1b0c",
   "metadata": {},
   "outputs": [],
   "source": [
    "#displayWordcloud(ldaModel,tfFeatureNames)"
   ]
  },
  {
   "cell_type": "markdown",
   "id": "9e8a974a-510e-4d1c-91a8-6bbe5b20f6cc",
   "metadata": {},
   "source": [
    "## topic distribution analysis"
   ]
  },
  {
   "cell_type": "code",
   "execution_count": 82,
   "id": "00caf0fc-2700-475c-8bad-6653ea77deb0",
   "metadata": {},
   "outputs": [],
   "source": [
    "topics_distribution = ldaModel.transform(tf)"
   ]
  },
  {
   "cell_type": "code",
   "execution_count": 83,
   "id": "0fbfae92-9af6-4518-8036-2ca1b9bd6ff9",
   "metadata": {},
   "outputs": [
    {
     "data": {
      "text/plain": [
       "(83469, 3)"
      ]
     },
     "execution_count": 83,
     "metadata": {},
     "output_type": "execute_result"
    }
   ],
   "source": [
    "topics_distribution.shape"
   ]
  },
  {
   "cell_type": "code",
   "execution_count": 84,
   "id": "a4b26130-ab06-4474-afbf-7d5484edcd41",
   "metadata": {},
   "outputs": [],
   "source": [
    "dominant_topic = np.argmax(topics_distribution, axis=1)\n",
    "#dominant_topic"
   ]
  },
  {
   "cell_type": "code",
   "execution_count": 85,
   "id": "68b07e97-fcd4-48f1-99ff-f6dd888e510a",
   "metadata": {},
   "outputs": [
    {
     "data": {
      "text/plain": [
       "(1045,)"
      ]
     },
     "execution_count": 85,
     "metadata": {},
     "output_type": "execute_result"
    }
   ],
   "source": [
    "tfFeatureNames.shape"
   ]
  },
  {
   "cell_type": "code",
   "execution_count": 93,
   "id": "bde3e4f4-a8d1-4fa7-90d0-592fe35348a0",
   "metadata": {},
   "outputs": [
    {
     "name": "stdout",
     "output_type": "stream",
     "text": [
      "<class 'pandas.core.frame.DataFrame'>\n",
      "Index: 83469 entries, 0 to 112758\n",
      "Data columns (total 2 columns):\n",
      " #   Column       Non-Null Count  Dtype \n",
      "---  ------       --------------  ----- \n",
      " 0   Processed_1  83469 non-null  object\n",
      " 1   comment_id   83469 non-null  object\n",
      "dtypes: object(2)\n",
      "memory usage: 1.9+ MB\n"
     ]
    }
   ],
   "source": [
    "uniq_topic_com = test[['Processed_1','comment_id']]\n",
    "uniq_topic_com.info()"
   ]
  },
  {
   "cell_type": "code",
   "execution_count": 94,
   "id": "e83033a4-8dea-4ac0-bbff-99422f3f3b7c",
   "metadata": {},
   "outputs": [
    {
     "name": "stderr",
     "output_type": "stream",
     "text": [
      "/var/folders/6g/7khzkpj52_g5rbfvf4tck4zr0000gn/T/ipykernel_54489/1710867386.py:1: SettingWithCopyWarning: \n",
      "A value is trying to be set on a copy of a slice from a DataFrame.\n",
      "Try using .loc[row_indexer,col_indexer] = value instead\n",
      "\n",
      "See the caveats in the documentation: https://pandas.pydata.org/pandas-docs/stable/user_guide/indexing.html#returning-a-view-versus-a-copy\n",
      "  uniq_topic_com[\"topic_id\"] = dominant_topic\n"
     ]
    },
    {
     "data": {
      "text/html": [
       "<div>\n",
       "<style scoped>\n",
       "    .dataframe tbody tr th:only-of-type {\n",
       "        vertical-align: middle;\n",
       "    }\n",
       "\n",
       "    .dataframe tbody tr th {\n",
       "        vertical-align: top;\n",
       "    }\n",
       "\n",
       "    .dataframe thead th {\n",
       "        text-align: right;\n",
       "    }\n",
       "</style>\n",
       "<table border=\"1\" class=\"dataframe\">\n",
       "  <thead>\n",
       "    <tr style=\"text-align: right;\">\n",
       "      <th></th>\n",
       "      <th>Processed_1</th>\n",
       "      <th>comment_id</th>\n",
       "      <th>topic_id</th>\n",
       "    </tr>\n",
       "  </thead>\n",
       "  <tbody>\n",
       "    <tr>\n",
       "      <th>0</th>\n",
       "      <td>rcb maxwel wc</td>\n",
       "      <td>Ugyg4bUKfvIHL3vy5PR4AaABAg</td>\n",
       "      <td>2</td>\n",
       "    </tr>\n",
       "    <tr>\n",
       "      <th>2</th>\n",
       "      <td>watch match ball great experi god thank live</td>\n",
       "      <td>UgxdKI2pX0_hYoUdB9t4AaABAg</td>\n",
       "      <td>0</td>\n",
       "    </tr>\n",
       "    <tr>\n",
       "      <th>3</th>\n",
       "      <td>leg jadeja mock face injuri ajay slap</td>\n",
       "      <td>Ugy8d8EsPlG2JgtqIwh4AaABAg</td>\n",
       "      <td>0</td>\n",
       "    </tr>\n",
       "    <tr>\n",
       "      <th>5</th>\n",
       "      <td>commentari english</td>\n",
       "      <td>UgyQ_eN1WQld9DQzoBd4AaABAg</td>\n",
       "      <td>0</td>\n",
       "    </tr>\n",
       "    <tr>\n",
       "      <th>6</th>\n",
       "      <td>doubt absolut odi inning everi best</td>\n",
       "      <td>Ugyho-sMGQGagMp7CnV4AaABAg</td>\n",
       "      <td>1</td>\n",
       "    </tr>\n",
       "    <tr>\n",
       "      <th>...</th>\n",
       "      <td>...</td>\n",
       "      <td>...</td>\n",
       "      <td>...</td>\n",
       "    </tr>\n",
       "    <tr>\n",
       "      <th>112750</th>\n",
       "      <td>bhi lomror kiya tha esa yorker kal hi ko</td>\n",
       "      <td>UgwAzLCpfGIH_onnk694AaABAg</td>\n",
       "      <td>2</td>\n",
       "    </tr>\n",
       "    <tr>\n",
       "      <th>112751</th>\n",
       "      <td>watch match icc ipl</td>\n",
       "      <td>UgzJ1CODUjKpBS43yft4AaABAg</td>\n",
       "      <td>0</td>\n",
       "    </tr>\n",
       "    <tr>\n",
       "      <th>112755</th>\n",
       "      <td>lagat hai ais sab shot</td>\n",
       "      <td>UgzGgBAhp-JLbV9Gkd54AaABAg</td>\n",
       "      <td>2</td>\n",
       "    </tr>\n",
       "    <tr>\n",
       "      <th>112757</th>\n",
       "      <td>video time player upload pakistan first icc</td>\n",
       "      <td>Ugzo5r_nZ46hBR1RvRt4AaABAg</td>\n",
       "      <td>0</td>\n",
       "    </tr>\n",
       "    <tr>\n",
       "      <th>112758</th>\n",
       "      <td>sea palestin river free</td>\n",
       "      <td>UgyjO6nMsopsThKGFA94AaABAg</td>\n",
       "      <td>2</td>\n",
       "    </tr>\n",
       "  </tbody>\n",
       "</table>\n",
       "<p>83469 rows × 3 columns</p>\n",
       "</div>"
      ],
      "text/plain": [
       "                                         Processed_1  \\\n",
       "0                                      rcb maxwel wc   \n",
       "2       watch match ball great experi god thank live   \n",
       "3              leg jadeja mock face injuri ajay slap   \n",
       "5                                 commentari english   \n",
       "6                doubt absolut odi inning everi best   \n",
       "...                                              ...   \n",
       "112750      bhi lomror kiya tha esa yorker kal hi ko   \n",
       "112751                           watch match icc ipl   \n",
       "112755                        lagat hai ais sab shot   \n",
       "112757   video time player upload pakistan first icc   \n",
       "112758                       sea palestin river free   \n",
       "\n",
       "                        comment_id  topic_id  \n",
       "0       Ugyg4bUKfvIHL3vy5PR4AaABAg         2  \n",
       "2       UgxdKI2pX0_hYoUdB9t4AaABAg         0  \n",
       "3       Ugy8d8EsPlG2JgtqIwh4AaABAg         0  \n",
       "5       UgyQ_eN1WQld9DQzoBd4AaABAg         0  \n",
       "6       Ugyho-sMGQGagMp7CnV4AaABAg         1  \n",
       "...                            ...       ...  \n",
       "112750  UgwAzLCpfGIH_onnk694AaABAg         2  \n",
       "112751  UgzJ1CODUjKpBS43yft4AaABAg         0  \n",
       "112755  UgzGgBAhp-JLbV9Gkd54AaABAg         2  \n",
       "112757  Ugzo5r_nZ46hBR1RvRt4AaABAg         0  \n",
       "112758  UgyjO6nMsopsThKGFA94AaABAg         2  \n",
       "\n",
       "[83469 rows x 3 columns]"
      ]
     },
     "execution_count": 94,
     "metadata": {},
     "output_type": "execute_result"
    }
   ],
   "source": [
    "uniq_topic_com[\"topic_id\"] = dominant_topic\n",
    "uniq_topic_com"
   ]
  },
  {
   "cell_type": "code",
   "execution_count": 97,
   "id": "cf08be16-4be2-4f5e-9766-d50fecec1154",
   "metadata": {},
   "outputs": [
    {
     "name": "stdout",
     "output_type": "stream",
     "text": [
      "<class 'pandas.core.frame.DataFrame'>\n",
      "Index: 83469 entries, 0 to 112758\n",
      "Data columns (total 12 columns):\n",
      " #   Column           Non-Null Count  Dtype              \n",
      "---  ------           --------------  -----              \n",
      " 0   video_id         83469 non-null  object             \n",
      " 1   comment_id       83469 non-null  object             \n",
      " 2   author           83463 non-null  object             \n",
      " 3   published_at     83469 non-null  object             \n",
      " 4   like_count       83469 non-null  int64              \n",
      " 5   text             83469 non-null  object             \n",
      " 6   public           83469 non-null  bool               \n",
      " 7   Processed_1      83469 non-null  object             \n",
      " 8   Processed_2      83469 non-null  object             \n",
      " 9   created_date     83469 non-null  datetime64[ns, UTC]\n",
      " 10  D_created_date   83469 non-null  object             \n",
      " 11  vadar_sentiment  83469 non-null  float64            \n",
      "dtypes: bool(1), datetime64[ns, UTC](1), float64(1), int64(1), object(8)\n",
      "memory usage: 7.7+ MB\n"
     ]
    }
   ],
   "source": [
    "test.info()"
   ]
  },
  {
   "cell_type": "code",
   "execution_count": 99,
   "id": "967cefd7-0f0c-48d8-8a56-636af0d572ce",
   "metadata": {},
   "outputs": [
    {
     "name": "stdout",
     "output_type": "stream",
     "text": [
      "<class 'pandas.core.frame.DataFrame'>\n",
      "RangeIndex: 83469 entries, 0 to 83468\n",
      "Data columns (total 14 columns):\n",
      " #   Column           Non-Null Count  Dtype              \n",
      "---  ------           --------------  -----              \n",
      " 0   video_id         83469 non-null  object             \n",
      " 1   comment_id       83469 non-null  object             \n",
      " 2   author           83463 non-null  object             \n",
      " 3   published_at     83469 non-null  object             \n",
      " 4   like_count       83469 non-null  int64              \n",
      " 5   text             83469 non-null  object             \n",
      " 6   public           83469 non-null  bool               \n",
      " 7   Processed_1_x    83469 non-null  object             \n",
      " 8   Processed_2      83469 non-null  object             \n",
      " 9   created_date     83469 non-null  datetime64[ns, UTC]\n",
      " 10  D_created_date   83469 non-null  object             \n",
      " 11  vadar_sentiment  83469 non-null  float64            \n",
      " 12  Processed_1_y    83469 non-null  object             \n",
      " 13  topic_id         83469 non-null  int64              \n",
      "dtypes: bool(1), datetime64[ns, UTC](1), float64(1), int64(2), object(9)\n",
      "memory usage: 8.4+ MB\n"
     ]
    }
   ],
   "source": [
    "comb_tit = pd.merge(test, uniq_topic_com[[\"Processed_1\",\"topic_id\",\"comment_id\"]], on='comment_id', how='left')\n",
    "comb_tit.info()"
   ]
  },
  {
   "cell_type": "markdown",
   "id": "f5c0af15-11ce-4c58-837f-26f5d566b95c",
   "metadata": {},
   "source": [
    "# topic 1"
   ]
  },
  {
   "cell_type": "code",
   "execution_count": 114,
   "id": "aa6cc5fe-f7a1-4a82-8e9d-495a2e34f2d5",
   "metadata": {},
   "outputs": [
    {
     "name": "stdout",
     "output_type": "stream",
     "text": [
      "Best best best best best best best best best best best best best best best best best best best best best nice nice nice nice nice nice nice nice nice nice nice nice nice nice nice nice nice nice nice nice nice nice nice nice nice nice nice nice nice nice nice nice 👍👍👍👍👍👍👍👍👍👍👍👍👍👍👍👍👍👍👍👍👍👍👍👍👍👍👍 👍👍👍👍👍👍👍👍👍👍👍👍 INDIA IS GREAT ❤❤❤❤❤❤❤❤❤❤❤❤❤❤❤❤❤❤❤❤❤❤❤❤❤❤❤❤❤❤❤❤❤EAST OR WEST INDIA IS THE BEST NICE MOVEMENT OF OUR COUNTRY PEOPLE ❤R❤V❤B❤S❤H❤J❤and all others players best' wishes to all❤❤❤❤❤❤❤❤\n"
     ]
    }
   ],
   "source": [
    "filtered1 = comb_tit[comb_tit[\"topic_id\"]==0]\n",
    "max_value = filtered1['vadar_sentiment'].max()\n",
    "content = filtered1[\"text\"][filtered1[\"vadar_sentiment\"]==max_value]\n",
    "print(content.values[0]) "
   ]
  },
  {
   "cell_type": "code",
   "execution_count": 115,
   "id": "c698cd85-223a-42b8-9918-a5eb8fb83680",
   "metadata": {},
   "outputs": [
    {
     "name": "stdout",
     "output_type": "stream",
     "text": [
      "It appalls me that there are so many dumb Indians in the chat here and in other videos that accuse England of cheating in this final.\n",
      "\n",
      "I have lost count how many stupid Indian fans i have argued with over the past few years calling England cheaters with absolutely no evidence to back it up.\n",
      "\n",
      "The sad  thing is though that I have never spoken to a single NZ fan, Australian fan, SA fan, West Indian fan, Pakistan fan, Sri Lanka fan, Bangladesh fan or any other cricket fan that accused England of cheating it’s always the dumb Indians.\n",
      "\n",
      "Maybe they should concentrate more on having a go at their own white ball cricketers than calling out England after all they haven’t won a major ICC trophy in over 10years and make a mockery of the WTC because they flatly refuse to ever play test cricket against Pakistan. (It’s been 17 years now)\n",
      "\n",
      "The WC is an ICC run tournament and NEVER a locally run cricket board tournament so they make up the rules of the tournament and as far as I know both sides agreed to  the rules before the start of the game and we’re both happy with them.\n",
      "\n",
      "Maybe they want to complain because they didn’t make the finals and when it came to the crunch had the opportunity to knock England out of the tournament in the group stage but failed, or maybe they are just sad and bitter, I don’t know.\n",
      "\n",
      "All I know is they are the only (so called) cricket fans that accuse England of cheating and even 5 years after the match finished they are still doing it.\n",
      "\n",
      "It’s really sad that they can’t get over it and get on with life.\n"
     ]
    }
   ],
   "source": [
    "max_value = filtered1['vadar_sentiment'].min()\n",
    "content = filtered1[\"text\"][filtered1[\"vadar_sentiment\"]==max_value]\n",
    "print(content.values[0]) "
   ]
  },
  {
   "cell_type": "code",
   "execution_count": 116,
   "id": "76a52582-e8fb-47b7-b8cf-93191e2277da",
   "metadata": {},
   "outputs": [
    {
     "name": "stderr",
     "output_type": "stream",
     "text": [
      "/var/folders/6g/7khzkpj52_g5rbfvf4tck4zr0000gn/T/ipykernel_54489/4265865160.py:6: SettingWithCopyWarning: \n",
      "A value is trying to be set on a copy of a slice from a DataFrame.\n",
      "Try using .loc[row_indexer,col_indexer] = value instead\n",
      "\n",
      "See the caveats in the documentation: https://pandas.pydata.org/pandas-docs/stable/user_guide/indexing.html#returning-a-view-versus-a-copy\n",
      "  series_v[['vadar_sentiment']] = series_v[['vadar_sentiment']].apply(pd.to_numeric)\n",
      "/var/folders/6g/7khzkpj52_g5rbfvf4tck4zr0000gn/T/ipykernel_54489/4265865160.py:10: FutureWarning: 'H' is deprecated and will be removed in a future version, please use 'h' instead.\n",
      "  vadarSeries = series_v.resample('1H').mean()\n"
     ]
    },
    {
     "data": {
      "image/png": "[encoded data removed]",
      "text/plain": [
       "<Figure size 640x480 with 1 Axes>"
      ]
     },
     "metadata": {},
     "output_type": "display_data"
    }
   ],
   "source": [
    "# we are using pandas for this, but first we need to get it into a pandas data frame structure\n",
    "series_v = filtered1[['created_date','vadar_sentiment']]\n",
    "# tell pandas that the date column is the one we use for indexing (or x-axis)\n",
    "series_v.set_index('created_date', inplace=True)\n",
    "\n",
    "series_v[['vadar_sentiment']] = series_v[['vadar_sentiment']].apply(pd.to_numeric)\n",
    "\n",
    "\n",
    "\n",
    "vadarSeries = series_v.resample('1H').mean()\n",
    "# this plots and shows the time series\n",
    "vadarSeries.plot()\n",
    "plt.axhline(y=0, color='r', linestyle='-')\n",
    "plt.title(\"Topic 1\")\n",
    "\n",
    "plt.show()"
   ]
  },
  {
   "cell_type": "markdown",
   "id": "a770b401-f7a2-45eb-a759-47e779752ed6",
   "metadata": {},
   "source": [
    "## topic 2"
   ]
  },
  {
   "cell_type": "code",
   "execution_count": 117,
   "id": "efda88b4-85b1-47e8-bbc0-8dc635c8fb4a",
   "metadata": {},
   "outputs": [
    {
     "name": "stdout",
     "output_type": "stream",
     "text": [
      "Congratulations 2 Australia Mens' Seniors National Cricket Team, they are the champions of the 2023 International Cricket Council One Day Internationals World Cup as they win this WC in India. A close final in this match as both sides struggled with the bat but Australia did enuf en they beat the Indians eventually. Tournament sports are hard because u have a few chances 2 play so both sides played well 2 reach the big stage which is the final but you can't measure success u earn this. Maybe u myt have thought the aindians were going 2 be successful en surprise Australia but they lost. Maybe u wud have also predicted Australia wud b dominant and play well like they usually do en maybe put a bet on this match but it wasn't a classic n it's a historic Cricket ODI World Cup final. Australi did a good job at the end so they feel happy they feel gud they won en now this is sum history and a special time now as they celebrate winning another ICC ODI Cricket World Cup. Well done boys, the coach is happy, the captain is happy so enjoy and celebrate every part of this triumph in India!\n"
     ]
    }
   ],
   "source": [
    "filtered1 = comb_tit[comb_tit[\"topic_id\"]==1]\n",
    "max_value = filtered1['vadar_sentiment'].max()\n",
    "content = filtered1[\"text\"][filtered1[\"vadar_sentiment\"]==max_value]\n",
    "print(content.values[0]) "
   ]
  },
  {
   "cell_type": "code",
   "execution_count": 118,
   "id": "59c6b0b2-7de0-437c-9ae3-13e9f047da1f",
   "metadata": {},
   "outputs": [
    {
     "name": "stdout",
     "output_type": "stream",
     "text": [
      "India is cheater India is cheating India is cheater India's cheater India's cheater cheater India cheater India cheater 🖕🖕🖕🖕🖕🖕🖕🖕🖕🖕\n"
     ]
    }
   ],
   "source": [
    "max_value = filtered1['vadar_sentiment'].min()\n",
    "content = filtered1[\"text\"][filtered1[\"vadar_sentiment\"]==max_value]\n",
    "print(content.values[0]) "
   ]
  },
  {
   "cell_type": "code",
   "execution_count": 119,
   "id": "a0cac845-bc53-4849-aaec-1933b537e840",
   "metadata": {},
   "outputs": [
    {
     "name": "stderr",
     "output_type": "stream",
     "text": [
      "/var/folders/6g/7khzkpj52_g5rbfvf4tck4zr0000gn/T/ipykernel_54489/522533479.py:6: SettingWithCopyWarning: \n",
      "A value is trying to be set on a copy of a slice from a DataFrame.\n",
      "Try using .loc[row_indexer,col_indexer] = value instead\n",
      "\n",
      "See the caveats in the documentation: https://pandas.pydata.org/pandas-docs/stable/user_guide/indexing.html#returning-a-view-versus-a-copy\n",
      "  series_v[['vadar_sentiment']] = series_v[['vadar_sentiment']].apply(pd.to_numeric)\n",
      "/var/folders/6g/7khzkpj52_g5rbfvf4tck4zr0000gn/T/ipykernel_54489/522533479.py:10: FutureWarning: 'H' is deprecated and will be removed in a future version, please use 'h' instead.\n",
      "  vadarSeries = series_v.resample('1H').mean()\n"
     ]
    },
    {
     "data": {
      "image/png": "[encoded data removed]",
      "text/plain": [
       "<Figure size 640x480 with 1 Axes>"
      ]
     },
     "metadata": {},
     "output_type": "display_data"
    }
   ],
   "source": [
    "# we are using pandas for this, but first we need to get it into a pandas data frame structure\n",
    "series_v = filtered1[['created_date','vadar_sentiment']]\n",
    "# tell pandas that the date column is the one we use for indexing (or x-axis)\n",
    "series_v.set_index('created_date', inplace=True)\n",
    "\n",
    "series_v[['vadar_sentiment']] = series_v[['vadar_sentiment']].apply(pd.to_numeric)\n",
    "\n",
    "\n",
    "\n",
    "vadarSeries = series_v.resample('1H').mean()\n",
    "# this plots and shows the time series\n",
    "vadarSeries.plot()\n",
    "plt.axhline(y=0, color='r', linestyle='-')\n",
    "plt.title(\"Topic 2\")\n",
    "\n",
    "plt.show()"
   ]
  },
  {
   "cell_type": "markdown",
   "id": "ba56370e-0481-4e01-9324-4e497e07ed69",
   "metadata": {},
   "source": [
    "## topic 3"
   ]
  },
  {
   "cell_type": "code",
   "execution_count": 120,
   "id": "f0b57d20-f094-40e0-b2bd-df53e6847b4e",
   "metadata": {},
   "outputs": [
    {
     "name": "stdout",
     "output_type": "stream",
     "text": [
      "Match pehle se fix ha india ko world cup dena ha toh ye acting kyo kr rhe ho bhai sb players ko pta ha ki cricket  kaise work krta ha icc khud involved ha isme mera comment pin krdena india world cup jeetegi africa bik jaegi finale ye log duniya ko chutiya bnate ha harte bhi fixing se ha aur jeette bhi fixing se ha 140 ki pitch pe eng ne 170 pitwa diye jo bilkul impossible the moeen ali se bowling nhi krwai butler ne jbki spin track tha rohit sharma ro isliye rha ha kyonki icc ne utne salo tk india ko cup nhi jitwaya kyonki india pe hamesha bhut paisa lgta tha isliye harwa dete ha pr iss baar cup india ko milna ha isliye emotional ho rha aur jo nhi mante cricket me fixing nhi hoti toh captain ki shirt me mic lgwao pta chl jaega ki bowlers ko kya msg deta ha bowling krte waqt duniya bhi toh sune ki kaise ye mens and womens pure cricket lovers ko bewkoof bnate ha dug out sme upar se msg aate ha aage woh drinks boy ke threw playero tk jate ha aaj nhi toh kl inki sachai khulegi jarur kaise ye logo ke enotions ke sath khelte ha\n"
     ]
    }
   ],
   "source": [
    "filtered1 = comb_tit[comb_tit[\"topic_id\"]==2]\n",
    "max_value = filtered1['vadar_sentiment'].max()\n",
    "content = filtered1[\"text\"][filtered1[\"vadar_sentiment\"]==max_value]\n",
    "print(content.values[0]) "
   ]
  },
  {
   "cell_type": "code",
   "execution_count": 121,
   "id": "31037f9c-1758-4fd8-a3a5-96d83fc525bb",
   "metadata": {},
   "outputs": [
    {
     "name": "stdout",
     "output_type": "stream",
     "text": [
      "Aur 2023 wc ghar me hote hue nhi jit pya... To bki wc jeet jyega lgtah ai... Shame on Indian cricket team... Coach ... Selector.......cricket khelne ke layak hi nhi hai indian team.... Ghar me nhi jit pya chii chii chii. 😏😏😏🤬🤬.. Aur cricket fans bhi bss jhuth muth ka crowd lgate hai aur ye log hmehsa disappoint krta hai sab indian fans.....  .. 2014 20 wc final loat 2015 wc sf lost... 2016 t20 wc sf lost. 2017 ct final  lost.2019 wc sf lost.. ... 2021 wtc final lost. 2021 t20 wc group stage lost by pak by 10 wicket..... 2022 wc sf lost... 2023 wtc final lost.... Aur phir 2023 wc final lost also... 🤬🤬🤬🤬🤬🤬  kam se kam ak me to jeet lia hota besharm indian cricket..... Sab me fisadi... Jaisa haal hai phir lgtah ia 2024 wc me bhi sf ya final me harega ye log 😏😏😏😏\n"
     ]
    }
   ],
   "source": [
    "max_value = filtered1['vadar_sentiment'].min()\n",
    "content = filtered1[\"text\"][filtered1[\"vadar_sentiment\"]==max_value]\n",
    "print(content.values[0]) "
   ]
  },
  {
   "cell_type": "code",
   "execution_count": 122,
   "id": "4ffcfaaa-aed4-4397-b9aa-7b6cc8b3b8c2",
   "metadata": {},
   "outputs": [
    {
     "name": "stderr",
     "output_type": "stream",
     "text": [
      "/var/folders/6g/7khzkpj52_g5rbfvf4tck4zr0000gn/T/ipykernel_54489/3122202422.py:6: SettingWithCopyWarning: \n",
      "A value is trying to be set on a copy of a slice from a DataFrame.\n",
      "Try using .loc[row_indexer,col_indexer] = value instead\n",
      "\n",
      "See the caveats in the documentation: https://pandas.pydata.org/pandas-docs/stable/user_guide/indexing.html#returning-a-view-versus-a-copy\n",
      "  series_v[['vadar_sentiment']] = series_v[['vadar_sentiment']].apply(pd.to_numeric)\n",
      "/var/folders/6g/7khzkpj52_g5rbfvf4tck4zr0000gn/T/ipykernel_54489/3122202422.py:10: FutureWarning: 'H' is deprecated and will be removed in a future version, please use 'h' instead.\n",
      "  vadarSeries = series_v.resample('1H').mean()\n"
     ]
    },
    {
     "data": {
      "image/png": "[encoded data removed]",
      "text/plain": [
       "<Figure size 640x480 with 1 Axes>"
      ]
     },
     "metadata": {},
     "output_type": "display_data"
    }
   ],
   "source": [
    "# we are using pandas for this, but first we need to get it into a pandas data frame structure\n",
    "series_v = filtered1[['created_date','vadar_sentiment']]\n",
    "# tell pandas that the date column is the one we use for indexing (or x-axis)\n",
    "series_v.set_index('created_date', inplace=True)\n",
    "\n",
    "series_v[['vadar_sentiment']] = series_v[['vadar_sentiment']].apply(pd.to_numeric)\n",
    "\n",
    "\n",
    "\n",
    "vadarSeries = series_v.resample('1H').mean()\n",
    "# this plots and shows the time series\n",
    "vadarSeries.plot()\n",
    "plt.axhline(y=0, color='r', linestyle='-')\n",
    "plt.title(\"Topic 3\")\n",
    "\n",
    "plt.show()"
   ]
  },
  {
   "cell_type": "code",
   "execution_count": 172,
   "id": "3f2153c8-c4da-4b22-97a0-079e4ac551e4",
   "metadata": {},
   "outputs": [
    {
     "data": {
      "text/html": [
       "<div>\n",
       "<style scoped>\n",
       "    .dataframe tbody tr th:only-of-type {\n",
       "        vertical-align: middle;\n",
       "    }\n",
       "\n",
       "    .dataframe tbody tr th {\n",
       "        vertical-align: top;\n",
       "    }\n",
       "\n",
       "    .dataframe thead th {\n",
       "        text-align: right;\n",
       "    }\n",
       "</style>\n",
       "<table border=\"1\" class=\"dataframe\">\n",
       "  <thead>\n",
       "    <tr style=\"text-align: right;\">\n",
       "      <th></th>\n",
       "      <th>Post_id</th>\n",
       "      <th>Time</th>\n",
       "      <th>Author</th>\n",
       "      <th>Score</th>\n",
       "      <th>No_comments</th>\n",
       "      <th>Body</th>\n",
       "      <th>Type</th>\n",
       "      <th>Processed_1</th>\n",
       "      <th>Processed_2</th>\n",
       "      <th>Count_sentiment</th>\n",
       "      <th>created_date</th>\n",
       "      <th>vadar_sentiment</th>\n",
       "    </tr>\n",
       "  </thead>\n",
       "  <tbody>\n",
       "    <tr>\n",
       "      <th>0</th>\n",
       "      <td>181eyfx</td>\n",
       "      <td>2023-11-23 04:42:32</td>\n",
       "      <td>FondantAggravating68</td>\n",
       "      <td>67</td>\n",
       "      <td>45.0</td>\n",
       "      <td>Hey everyone I did a post on who were the [sta...</td>\n",
       "      <td>Post</td>\n",
       "      <td>baristow ganguli sohail tendulkar tier order h...</td>\n",
       "      <td>Hey everyone I did a post on who were the [ st...</td>\n",
       "      <td>0.9894</td>\n",
       "      <td>2023-11-23 04:42:32</td>\n",
       "      <td>0.9894</td>\n",
       "    </tr>\n",
       "    <tr>\n",
       "      <th>1</th>\n",
       "      <td>kadb2o0</td>\n",
       "      <td>2023-11-23 10:34:00</td>\n",
       "      <td>Fidelius_Rex</td>\n",
       "      <td>63</td>\n",
       "      <td>NaN</td>\n",
       "      <td>Really liking these posts op, but this still d...</td>\n",
       "      <td>Comment</td>\n",
       "      <td>op doesnt post like mwaugh fix still watson re...</td>\n",
       "      <td>Really liking these posts op , but this still ...</td>\n",
       "      <td>0.4201</td>\n",
       "      <td>2023-11-23 10:34:00</td>\n",
       "      <td>0.4201</td>\n",
       "    </tr>\n",
       "    <tr>\n",
       "      <th>2</th>\n",
       "      <td>kadq4v1</td>\n",
       "      <td>2023-11-23 12:25:37</td>\n",
       "      <td>NaN</td>\n",
       "      <td>32</td>\n",
       "      <td>NaN</td>\n",
       "      <td>Crazy that Sachin's strike rate is higher than...</td>\n",
       "      <td>Comment</td>\n",
       "      <td>volum strike huge rate crazi higher run sachin...</td>\n",
       "      <td>Crazy that Sachin's strike rate is higher than...</td>\n",
       "      <td>-0.5943</td>\n",
       "      <td>2023-11-23 12:25:37</td>\n",
       "      <td>-0.5943</td>\n",
       "    </tr>\n",
       "    <tr>\n",
       "      <th>3</th>\n",
       "      <td>kaelxd1</td>\n",
       "      <td>2023-11-23 16:46:45</td>\n",
       "      <td>hot-cuppa-chai</td>\n",
       "      <td>14</td>\n",
       "      <td>NaN</td>\n",
       "      <td>Yikes! I didn't know that there was SUCH a big...</td>\n",
       "      <td>Comment</td>\n",
       "      <td>idea srtganguli partnership gap run seri best ...</td>\n",
       "      <td>Yikes ! I didn't know that there was SUCH a bi...</td>\n",
       "      <td>0.7096</td>\n",
       "      <td>2023-11-23 16:46:45</td>\n",
       "      <td>0.7096</td>\n",
       "    </tr>\n",
       "    <tr>\n",
       "      <th>4</th>\n",
       "      <td>kad9r8r</td>\n",
       "      <td>2023-11-23 10:24:21</td>\n",
       "      <td>anchorschmidt8</td>\n",
       "      <td>9</td>\n",
       "      <td>NaN</td>\n",
       "      <td>Fantastic</td>\n",
       "      <td>Comment</td>\n",
       "      <td>fantast</td>\n",
       "      <td>Fantastic</td>\n",
       "      <td>0.5574</td>\n",
       "      <td>2023-11-23 10:24:21</td>\n",
       "      <td>0.5574</td>\n",
       "    </tr>\n",
       "  </tbody>\n",
       "</table>\n",
       "</div>"
      ],
      "text/plain": [
       "   Post_id                Time                Author  Score  No_comments  \\\n",
       "0  181eyfx 2023-11-23 04:42:32  FondantAggravating68     67         45.0   \n",
       "1  kadb2o0 2023-11-23 10:34:00          Fidelius_Rex     63          NaN   \n",
       "2  kadq4v1 2023-11-23 12:25:37                   NaN     32          NaN   \n",
       "3  kaelxd1 2023-11-23 16:46:45        hot-cuppa-chai     14          NaN   \n",
       "4  kad9r8r 2023-11-23 10:24:21        anchorschmidt8      9          NaN   \n",
       "\n",
       "                                                Body     Type  \\\n",
       "0  Hey everyone I did a post on who were the [sta...     Post   \n",
       "1  Really liking these posts op, but this still d...  Comment   \n",
       "2  Crazy that Sachin's strike rate is higher than...  Comment   \n",
       "3  Yikes! I didn't know that there was SUCH a big...  Comment   \n",
       "4                                          Fantastic  Comment   \n",
       "\n",
       "                                         Processed_1  \\\n",
       "0  baristow ganguli sohail tendulkar tier order h...   \n",
       "1  op doesnt post like mwaugh fix still watson re...   \n",
       "2  volum strike huge rate crazi higher run sachin...   \n",
       "3  idea srtganguli partnership gap run seri best ...   \n",
       "4                                            fantast   \n",
       "\n",
       "                                         Processed_2  Count_sentiment  \\\n",
       "0  Hey everyone I did a post on who were the [ st...           0.9894   \n",
       "1  Really liking these posts op , but this still ...           0.4201   \n",
       "2  Crazy that Sachin's strike rate is higher than...          -0.5943   \n",
       "3  Yikes ! I didn't know that there was SUCH a bi...           0.7096   \n",
       "4                                          Fantastic           0.5574   \n",
       "\n",
       "         created_date  vadar_sentiment  \n",
       "0 2023-11-23 04:42:32           0.9894  \n",
       "1 2023-11-23 10:34:00           0.4201  \n",
       "2 2023-11-23 12:25:37          -0.5943  \n",
       "3 2023-11-23 16:46:45           0.7096  \n",
       "4 2023-11-23 10:24:21           0.5574  "
      ]
     },
     "execution_count": 172,
     "metadata": {},
     "output_type": "execute_result"
    }
   ],
   "source": [
    "df_renamed.head()"
   ]
  },
  {
   "cell_type": "code",
   "execution_count": null,
   "id": "30b8657c-3adb-4840-9411-c46042054b33",
   "metadata": {},
   "outputs": [],
   "source": []
  }
 ],
 "metadata": {
  "kernelspec": {
   "display_name": "Python 3 (ipykernel)",
   "language": "python",
   "name": "python3"
  },
  "language_info": {
   "codemirror_mode": {
    "name": "ipython",
    "version": 3
   },
   "file_extension": ".py",
   "mimetype": "text/x-python",
   "name": "python",
   "nbconvert_exporter": "python",
   "pygments_lexer": "ipython3",
   "version": "3.11.7"
  }
 },
 "nbformat": 4,
 "nbformat_minor": 5
}
