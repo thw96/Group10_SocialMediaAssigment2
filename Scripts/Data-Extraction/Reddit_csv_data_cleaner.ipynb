{
 "cells": [
  {
   "cell_type": "markdown",
   "metadata": {},
   "source": [
    "### Data Cleaning Data Structure"
   ]
  },
  {
   "cell_type": "code",
   "execution_count": 2,
   "metadata": {},
   "outputs": [],
   "source": [
    "import csv"
   ]
  },
  {
   "cell_type": "code",
   "execution_count": 3,
   "metadata": {},
   "outputs": [],
   "source": [
    "class RedditComment:\n",
    "    def __init__(self) -> None:\n",
    "        self.comment_user_id = None\n",
    "        self.comment_time    = None\n",
    "        self.comment         = None\n",
    "        self.comment_vote    = None\n",
    "        self.comment_id      = None\n",
    "\n",
    "class RedditPost:\n",
    "    def __init__(self) -> None:\n",
    "        self.post_title      = None\n",
    "        self.post_user_id    = None\n",
    "        self.post_id         = None\n",
    "        self.post_content    = None\n",
    "        self.post_vote       = None\n",
    "        self.created_date    = None\n",
    "        self.replies: list[RedditComment] = []\n",
    "\n",
    "# Converter function\n",
    "def convert_from_tst_csv(csv_file):\n",
    "    for row in csv_file:\n",
    "        print(row)\n",
    "    \n",
    "\n",
    "def convert_from_t20_csv(input):\n",
    "    pass\n",
    "\n",
    "def convert_from_odi_csv(input):\n",
    "    pass\n"
   ]
  },
  {
   "cell_type": "markdown",
   "metadata": {},
   "source": [
    "### File Import (execute your conversion here)"
   ]
  },
  {
   "cell_type": "markdown",
   "metadata": {},
   "source": [
    "##### Test"
   ]
  },
  {
   "cell_type": "code",
   "execution_count": 11,
   "metadata": {},
   "outputs": [
    {
     "ename": "FileNotFoundError",
     "evalue": "[Errno 2] No such file or directory: '\\\\Data\\\\Raw\\\\hot_reddit_data_cricket_TEST.csv'",
     "output_type": "error",
     "traceback": [
      "\u001b[1;31m---------------------------------------------------------------------------\u001b[0m",
      "\u001b[1;31mFileNotFoundError\u001b[0m                         Traceback (most recent call last)",
      "Cell \u001b[1;32mIn[11], line 3\u001b[0m\n\u001b[0;32m      1\u001b[0m reddit_test_list \u001b[38;5;241m=\u001b[39m []\n\u001b[1;32m----> 3\u001b[0m \u001b[38;5;28;01mwith\u001b[39;00m \u001b[38;5;28mopen\u001b[39m(\u001b[38;5;124m'\u001b[39m\u001b[38;5;130;01m\\\\\u001b[39;00m\u001b[38;5;124mData\u001b[39m\u001b[38;5;130;01m\\\\\u001b[39;00m\u001b[38;5;124mRaw\u001b[39m\u001b[38;5;130;01m\\\\\u001b[39;00m\u001b[38;5;124mhot_reddit_data_cricket_TEST.csv\u001b[39m\u001b[38;5;124m'\u001b[39m) \u001b[38;5;28;01mas\u001b[39;00m f:\n\u001b[0;32m      4\u001b[0m     csv_file \u001b[38;5;241m=\u001b[39m csv\u001b[38;5;241m.\u001b[39mreader(f)\n\u001b[0;32m      6\u001b[0m     reddit_test_list \u001b[38;5;241m=\u001b[39m convert_from_tst_csv()\n",
      "File \u001b[1;32mc:\\ProgramData\\anaconda3\\Lib\\site-packages\\IPython\\core\\interactiveshell.py:310\u001b[0m, in \u001b[0;36m_modified_open\u001b[1;34m(file, *args, **kwargs)\u001b[0m\n\u001b[0;32m    303\u001b[0m \u001b[38;5;28;01mif\u001b[39;00m file \u001b[38;5;129;01min\u001b[39;00m {\u001b[38;5;241m0\u001b[39m, \u001b[38;5;241m1\u001b[39m, \u001b[38;5;241m2\u001b[39m}:\n\u001b[0;32m    304\u001b[0m     \u001b[38;5;28;01mraise\u001b[39;00m \u001b[38;5;167;01mValueError\u001b[39;00m(\n\u001b[0;32m    305\u001b[0m         \u001b[38;5;124mf\u001b[39m\u001b[38;5;124m\"\u001b[39m\u001b[38;5;124mIPython won\u001b[39m\u001b[38;5;124m'\u001b[39m\u001b[38;5;124mt let you open fd=\u001b[39m\u001b[38;5;132;01m{\u001b[39;00mfile\u001b[38;5;132;01m}\u001b[39;00m\u001b[38;5;124m by default \u001b[39m\u001b[38;5;124m\"\u001b[39m\n\u001b[0;32m    306\u001b[0m         \u001b[38;5;124m\"\u001b[39m\u001b[38;5;124mas it is likely to crash IPython. If you know what you are doing, \u001b[39m\u001b[38;5;124m\"\u001b[39m\n\u001b[0;32m    307\u001b[0m         \u001b[38;5;124m\"\u001b[39m\u001b[38;5;124myou can use builtins\u001b[39m\u001b[38;5;124m'\u001b[39m\u001b[38;5;124m open.\u001b[39m\u001b[38;5;124m\"\u001b[39m\n\u001b[0;32m    308\u001b[0m     )\n\u001b[1;32m--> 310\u001b[0m \u001b[38;5;28;01mreturn\u001b[39;00m io_open(file, \u001b[38;5;241m*\u001b[39margs, \u001b[38;5;241m*\u001b[39m\u001b[38;5;241m*\u001b[39mkwargs)\n",
      "\u001b[1;31mFileNotFoundError\u001b[0m: [Errno 2] No such file or directory: '\\\\Data\\\\Raw\\\\hot_reddit_data_cricket_TEST.csv'"
     ]
    }
   ],
   "source": [
    "reddit_test_list = []\n",
    "\n",
    "with open('\\\\Data\\\\Raw\\\\hot_reddit_data_cricket_TEST.csv') as f:\n",
    "    csv_file = csv.reader(f)\n",
    "\n",
    "    reddit_test_list = convert_from_tst_csv()\n"
   ]
  },
  {
   "cell_type": "markdown",
   "metadata": {},
   "source": [
    "##### ODI"
   ]
  },
  {
   "cell_type": "code",
   "execution_count": null,
   "metadata": {},
   "outputs": [],
   "source": []
  },
  {
   "cell_type": "markdown",
   "metadata": {},
   "source": [
    "##### T20"
   ]
  },
  {
   "cell_type": "code",
   "execution_count": null,
   "metadata": {},
   "outputs": [],
   "source": []
  },
  {
   "cell_type": "markdown",
   "metadata": {},
   "source": [
    "### Data Cleaning"
   ]
  },
  {
   "cell_type": "code",
   "execution_count": null,
   "metadata": {},
   "outputs": [],
   "source": [
    "def to_lower_case_lists(submissions:list[RedditPost]) -> list[RedditPost]:\n",
    "    \n",
    "    reddit_posts:list[RedditPost] = []\n",
    "\n",
    "    for submission in submissions:\n",
    "        reddit_posts.append(to_lower_case_post(submission))\n",
    "\n",
    "    return reddit_posts\n",
    "\n",
    "        \n",
    "def to_lower_case_post(submission: RedditPost) -> RedditPost:\n",
    "    result = RedditPost()\n",
    "\n",
    "    result.post_title      = submission.post_title.lower()\n",
    "    result.post_user_id    = submission.post_user_id\n",
    "    result.post_id         = submission.post_id\n",
    "    result.post_content    = submission.post_content.lower()\n",
    "    result.post_vote       = submission.post_vote\n",
    "    result.created_date    = submission.created_date\n",
    "\n",
    "    result.replies: list[RedditComment] = to_lower_case_comment(input.replies)\n",
    "\n",
    "    return result\n",
    "\n",
    "\n",
    "def to_lower_case_comment(replies: list[RedditComment]) -> RedditComment:\n",
    "\n",
    "    inputNewList: list[RedditComment] = []\n",
    "\n",
    "    for reply in replies:\n",
    "        inputNew = RedditComment()\n",
    "        inputNew.comment_user_id = reply.comment_user_id\n",
    "        inputNew.comment_time    = reply.comment_time\n",
    "        inputNew.comment         = reply.comment.lower()\n",
    "        inputNew.comment_vote    = reply.comment_vote\n",
    "        inputNew.comment_id      = reply.comment_id\n",
    "\n",
    "        inputNewList.append(inputNew)\n",
    "\n",
    "    return inputNewList"
   ]
  },
  {
   "cell_type": "code",
   "execution_count": null,
   "metadata": {},
   "outputs": [],
   "source": []
  },
  {
   "cell_type": "code",
   "execution_count": null,
   "metadata": {},
   "outputs": [],
   "source": []
  },
  {
   "cell_type": "code",
   "execution_count": null,
   "metadata": {},
   "outputs": [],
   "source": []
  },
  {
   "cell_type": "code",
   "execution_count": null,
   "metadata": {},
   "outputs": [],
   "source": []
  },
  {
   "cell_type": "code",
   "execution_count": null,
   "metadata": {},
   "outputs": [],
   "source": []
  },
  {
   "cell_type": "code",
   "execution_count": null,
   "metadata": {},
   "outputs": [],
   "source": []
  },
  {
   "cell_type": "code",
   "execution_count": null,
   "metadata": {},
   "outputs": [],
   "source": [
    "# Execute the data right here:\n",
    "# reddit_test_list = []\n",
    "reddit_odi_list = []\n",
    "reddit_t20_list = []\n",
    "\n",
    "# I did used the functional approach, and I would recommended to declare a new variable for the cleaning result\n",
    "# so that we can revert to the previous steps just in case if one of our steps has gone wrong.\n",
    "reddit_test_list_lower = to_lower_case_lists(reddit_test_list)\n",
    "reddit_odi_list_lower = to_lower_case_lists(reddit_odi_list)\n",
    "reddit_t20_list_lower = to_lower_case_lists(reddit_t20_list)"
   ]
  }
 ],
 "metadata": {
  "kernelspec": {
   "display_name": "Python 3 (ipykernel)",
   "language": "python",
   "name": "python3"
  },
  "language_info": {
   "codemirror_mode": {
    "name": "ipython",
    "version": 3
   },
   "file_extension": ".py",
   "mimetype": "text/x-python",
   "name": "python",
   "nbconvert_exporter": "python",
   "pygments_lexer": "ipython3",
   "version": "3.11.7"
  }
 },
 "nbformat": 4,
 "nbformat_minor": 4
}
