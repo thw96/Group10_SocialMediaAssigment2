{
 "cells": [
  {
   "cell_type": "code",
   "execution_count": 1,
   "id": "5669c442",
   "metadata": {},
   "outputs": [],
   "source": [
    "import googleapiclient.discovery\n",
    "import pandas as pd\n",
    "import csv\n",
    "from tqdm import tqdm"
   ]
  },
  {
   "cell_type": "code",
   "execution_count": 18,
   "id": "0ecd065b",
   "metadata": {},
   "outputs": [],
   "source": [
    "api_key = \"Replace with the api key\""
   ]
  },
  {
   "cell_type": "code",
   "execution_count": 3,
   "id": "3151be63",
   "metadata": {},
   "outputs": [],
   "source": [
    "api_name = \"youtube\"\n",
    "api_version = \"v3\""
   ]
  },
  {
   "cell_type": "code",
   "execution_count": 4,
   "id": "11de23d4",
   "metadata": {},
   "outputs": [],
   "source": [
    "youtube = googleapiclient.discovery.build(api_name, api_version, developerKey=api_key)"
   ]
  },
  {
   "cell_type": "code",
   "execution_count": 5,
   "id": "01614511",
   "metadata": {},
   "outputs": [],
   "source": [
    "video_data = pd.read_csv(\"t20_youtube_videos.csv\")"
   ]
  },
  {
   "cell_type": "code",
   "execution_count": 6,
   "id": "79bcc7ec",
   "metadata": {},
   "outputs": [
    {
     "data": {
      "text/html": [
       "<div>\n",
       "<style scoped>\n",
       "    .dataframe tbody tr th:only-of-type {\n",
       "        vertical-align: middle;\n",
       "    }\n",
       "\n",
       "    .dataframe tbody tr th {\n",
       "        vertical-align: top;\n",
       "    }\n",
       "\n",
       "    .dataframe thead th {\n",
       "        text-align: right;\n",
       "    }\n",
       "</style>\n",
       "<table border=\"1\" class=\"dataframe\">\n",
       "  <thead>\n",
       "    <tr style=\"text-align: right;\">\n",
       "      <th></th>\n",
       "      <th>video_id</th>\n",
       "      <th>title</th>\n",
       "      <th>published_at</th>\n",
       "    </tr>\n",
       "  </thead>\n",
       "  <tbody>\n",
       "    <tr>\n",
       "      <th>0</th>\n",
       "      <td>OSTMKBLDoLg</td>\n",
       "      <td>The American fairytale continues as USA beat P...</td>\n",
       "      <td>2024-06-06T23:37:36Z</td>\n",
       "    </tr>\n",
       "    <tr>\n",
       "      <th>1</th>\n",
       "      <td>3yiWqnKl7lQ</td>\n",
       "      <td>The Epic Montage | T20 World Cup 2024 Final</td>\n",
       "      <td>2024-07-04T08:51:35Z</td>\n",
       "    </tr>\n",
       "    <tr>\n",
       "      <th>2</th>\n",
       "      <td>fVZQCdHUTsA</td>\n",
       "      <td>Virat Kohli 🤝 Rohit Sharma #cricket #cricketsh...</td>\n",
       "      <td>2024-06-30T01:45:47Z</td>\n",
       "    </tr>\n",
       "    <tr>\n",
       "      <th>3</th>\n",
       "      <td>89_E436SRos</td>\n",
       "      <td>Let the celebrations begin 🥳 #cricket #cricket...</td>\n",
       "      <td>2024-06-29T23:30:01Z</td>\n",
       "    </tr>\n",
       "    <tr>\n",
       "      <th>4</th>\n",
       "      <td>Gzs-rqCuxTk</td>\n",
       "      <td>Another iconic Ian Smith call 🗣️🎤 #CricketShor...</td>\n",
       "      <td>2024-07-02T06:58:32Z</td>\n",
       "    </tr>\n",
       "  </tbody>\n",
       "</table>\n",
       "</div>"
      ],
      "text/plain": [
       "      video_id                                              title  \\\n",
       "0  OSTMKBLDoLg  The American fairytale continues as USA beat P...   \n",
       "1  3yiWqnKl7lQ        The Epic Montage | T20 World Cup 2024 Final   \n",
       "2  fVZQCdHUTsA  Virat Kohli 🤝 Rohit Sharma #cricket #cricketsh...   \n",
       "3  89_E436SRos  Let the celebrations begin 🥳 #cricket #cricket...   \n",
       "4  Gzs-rqCuxTk  Another iconic Ian Smith call 🗣️🎤 #CricketShor...   \n",
       "\n",
       "           published_at  \n",
       "0  2024-06-06T23:37:36Z  \n",
       "1  2024-07-04T08:51:35Z  \n",
       "2  2024-06-30T01:45:47Z  \n",
       "3  2024-06-29T23:30:01Z  \n",
       "4  2024-07-02T06:58:32Z  "
      ]
     },
     "execution_count": 6,
     "metadata": {},
     "output_type": "execute_result"
    }
   ],
   "source": [
    "video_data.head()"
   ]
  },
  {
   "cell_type": "code",
   "execution_count": 7,
   "id": "2d83312b",
   "metadata": {},
   "outputs": [
    {
     "data": {
      "text/plain": [
       "(502, 3)"
      ]
     },
     "execution_count": 7,
     "metadata": {},
     "output_type": "execute_result"
    }
   ],
   "source": [
    "video_data.shape"
   ]
  },
  {
   "cell_type": "code",
   "execution_count": 8,
   "id": "2af67603",
   "metadata": {},
   "outputs": [],
   "source": [
    "# get all comments and comment replies from a video\n",
    "def get_comments(video_id, youtube):\n",
    "\n",
    "    comments = []\n",
    "    next_page_token = None\n",
    "\n",
    "    while True:\n",
    "        \n",
    "        # Request to get top-level comments\n",
    "        request = youtube.commentThreads().list(\n",
    "            part=\"snippet\",\n",
    "            videoId=video_id,\n",
    "            maxResults=100,\n",
    "            pageToken=next_page_token \n",
    "        )\n",
    "\n",
    "        # Execute the request\n",
    "        response = request.execute()\n",
    "\n",
    "        # Get comments\n",
    "        for item in response['items']:\n",
    "            comment = item['snippet']['topLevelComment']['snippet']\n",
    "            public = item['snippet'].get('isPublic', True)\n",
    "\n",
    "            # Append top-level comment details\n",
    "            comments.append([\n",
    "                video_id,\n",
    "                item['id'],\n",
    "                comment['authorDisplayName'],\n",
    "                comment['publishedAt'],\n",
    "                comment['likeCount'],\n",
    "                comment['textOriginal'],  \n",
    "                public, \n",
    "            ])\n",
    "\n",
    "        # Check for next page\n",
    "        next_page_token = response.get('nextPageToken')\n",
    "        if not next_page_token:\n",
    "            break\n",
    "    \n",
    "    return comments"
   ]
  },
  {
   "cell_type": "code",
   "execution_count": 9,
   "id": "beed6e4a",
   "metadata": {},
   "outputs": [],
   "source": [
    "df_comments = pd.DataFrame(columns=['video_id','comment_id','author', 'published_at', 'like_count', 'text',  'public', ])"
   ]
  },
  {
   "cell_type": "code",
   "execution_count": 10,
   "id": "76e2fe0f",
   "metadata": {},
   "outputs": [],
   "source": [
    "batch1 = [(0, 25), (25, 50)]\n",
    "batch2 = [(50, 75), (75, 100)]\n",
    "batch3 = [(100, 125), (125, 150)]\n",
    "batch4 = [(150, 175), (175, 200)]\n",
    "batch5 = [(200, 225), (225, 250)]\n",
    "batch6 = [(250, 275), (275, 300)]\n",
    "batch7 = [(300, 325), (325, 350)]\n",
    "batch8 = [(350, 375), (375, 400)]\n",
    "batch9 = [(400, 425), (425, 450)]\n",
    "batch10 = [(450, 475), (475, 502)]"
   ]
  },
  {
   "cell_type": "code",
   "execution_count": 11,
   "id": "0dd7d8ce",
   "metadata": {},
   "outputs": [],
   "source": [
    "def update_df_comments(video_data, start, end, youtube, df_comments):\n",
    "    \n",
    "    for video_id in tqdm(video_data['video_id'][start:end]):\n",
    "\n",
    "        comments = get_comments(video_id, youtube)\n",
    "\n",
    "        # convert the list of comments into a DataFrame\n",
    "        df_vcomments = pd.DataFrame(comments, columns=['video_id','comment_id','author', 'published_at', 'like_count', 'text',  'public', ])\n",
    "\n",
    "        # concatanate with df_comments dataframe\n",
    "        df_comments = pd.concat([df_comments, df_vcomments], ignore_index=True)\n",
    "        \n",
    "    return df_comments"
   ]
  },
  {
   "cell_type": "code",
   "execution_count": 12,
   "id": "3c120db4",
   "metadata": {},
   "outputs": [
    {
     "name": "stderr",
     "output_type": "stream",
     "text": [
      "100%|██████████████████████████████████████████████████████████████████████████████████| 25/25 [04:52<00:00, 11.70s/it]\n",
      "100%|██████████████████████████████████████████████████████████████████████████████████| 25/25 [00:56<00:00,  2.27s/it]"
     ]
    },
    {
     "name": "stdout",
     "output_type": "stream",
     "text": [
      "(98185, 7)\n"
     ]
    },
    {
     "name": "stderr",
     "output_type": "stream",
     "text": [
      "\n"
     ]
    }
   ],
   "source": [
    "for start,end in batch1:\n",
    "    df_comments = update_df_comments(video_data, start, end, youtube, df_comments)\n",
    "print(df_comments.shape)"
   ]
  },
  {
   "cell_type": "code",
   "execution_count": 13,
   "id": "aa3975e4",
   "metadata": {},
   "outputs": [
    {
     "name": "stderr",
     "output_type": "stream",
     "text": [
      "100%|██████████████████████████████████████████████████████████████████████████████████| 25/25 [00:50<00:00,  2.04s/it]\n",
      "100%|██████████████████████████████████████████████████████████████████████████████████| 25/25 [00:25<00:00,  1.02s/it]"
     ]
    },
    {
     "name": "stdout",
     "output_type": "stream",
     "text": [
      "(121269, 7)\n"
     ]
    },
    {
     "name": "stderr",
     "output_type": "stream",
     "text": [
      "\n"
     ]
    }
   ],
   "source": [
    "for start,end in batch2:\n",
    "    df_comments = update_df_comments(video_data, start, end, youtube, df_comments)\n",
    "print(df_comments.shape)"
   ]
  },
  {
   "cell_type": "code",
   "execution_count": 14,
   "id": "e93c2c5d",
   "metadata": {},
   "outputs": [
    {
     "name": "stderr",
     "output_type": "stream",
     "text": [
      "100%|██████████████████████████████████████████████████████████████████████████████████| 25/25 [01:01<00:00,  2.46s/it]\n",
      "100%|██████████████████████████████████████████████████████████████████████████████████| 25/25 [00:34<00:00,  1.39s/it]"
     ]
    },
    {
     "name": "stdout",
     "output_type": "stream",
     "text": [
      "(147636, 7)\n"
     ]
    },
    {
     "name": "stderr",
     "output_type": "stream",
     "text": [
      "\n"
     ]
    }
   ],
   "source": [
    "for start,end in batch3:\n",
    "    df_comments = update_df_comments(video_data, start, end, youtube, df_comments)\n",
    "print(df_comments.shape)"
   ]
  },
  {
   "cell_type": "code",
   "execution_count": 15,
   "id": "89a8497a",
   "metadata": {},
   "outputs": [
    {
     "name": "stderr",
     "output_type": "stream",
     "text": [
      "100%|██████████████████████████████████████████████████████████████████████████████████| 25/25 [00:58<00:00,  2.33s/it]\n",
      "100%|██████████████████████████████████████████████████████████████████████████████████| 25/25 [00:52<00:00,  2.11s/it]"
     ]
    },
    {
     "name": "stdout",
     "output_type": "stream",
     "text": [
      "(176360, 7)\n"
     ]
    },
    {
     "name": "stderr",
     "output_type": "stream",
     "text": [
      "\n"
     ]
    }
   ],
   "source": [
    "for start,end in batch4:\n",
    "    df_comments = update_df_comments(video_data, start, end, youtube, df_comments)\n",
    "print(df_comments.shape)"
   ]
  },
  {
   "cell_type": "code",
   "execution_count": 16,
   "id": "a84acc34",
   "metadata": {},
   "outputs": [
    {
     "name": "stderr",
     "output_type": "stream",
     "text": [
      "100%|██████████████████████████████████████████████████████████████████████████████████| 25/25 [00:33<00:00,  1.33s/it]\n",
      "100%|██████████████████████████████████████████████████████████████████████████████████| 25/25 [00:28<00:00,  1.16s/it]"
     ]
    },
    {
     "name": "stdout",
     "output_type": "stream",
     "text": [
      "(193406, 7)\n"
     ]
    },
    {
     "name": "stderr",
     "output_type": "stream",
     "text": [
      "\n"
     ]
    }
   ],
   "source": [
    "for start,end in batch5:\n",
    "    df_comments = update_df_comments(video_data, start, end, youtube, df_comments)\n",
    "print(df_comments.shape)"
   ]
  },
  {
   "cell_type": "code",
   "execution_count": 17,
   "id": "4b15d27f",
   "metadata": {},
   "outputs": [
    {
     "name": "stderr",
     "output_type": "stream",
     "text": [
      "100%|██████████████████████████████████████████████████████████████████████████████████| 25/25 [00:11<00:00,  2.20it/s]\n",
      "100%|██████████████████████████████████████████████████████████████████████████████████| 25/25 [00:18<00:00,  1.38it/s]"
     ]
    },
    {
     "name": "stdout",
     "output_type": "stream",
     "text": [
      "(201007, 7)\n"
     ]
    },
    {
     "name": "stderr",
     "output_type": "stream",
     "text": [
      "\n"
     ]
    }
   ],
   "source": [
    "for start,end in batch6:\n",
    "    df_comments = update_df_comments(video_data, start, end, youtube, df_comments)\n",
    "print(df_comments.shape)"
   ]
  },
  {
   "cell_type": "code",
   "execution_count": 19,
   "id": "fb061835",
   "metadata": {},
   "outputs": [
    {
     "name": "stderr",
     "output_type": "stream",
     "text": [
      "100%|██████████████████████████████████████████████████████████████████████████████████| 25/25 [00:12<00:00,  2.01it/s]\n",
      "100%|██████████████████████████████████████████████████████████████████████████████████| 25/25 [00:19<00:00,  1.30it/s]"
     ]
    },
    {
     "name": "stdout",
     "output_type": "stream",
     "text": [
      "(207149, 7)\n"
     ]
    },
    {
     "name": "stderr",
     "output_type": "stream",
     "text": [
      "\n"
     ]
    }
   ],
   "source": [
    "for start,end in batch7:\n",
    "    df_comments = update_df_comments(video_data, start, end, youtube, df_comments)\n",
    "print(df_comments.shape)"
   ]
  },
  {
   "cell_type": "code",
   "execution_count": 20,
   "id": "fb85096f",
   "metadata": {},
   "outputs": [
    {
     "name": "stderr",
     "output_type": "stream",
     "text": [
      "100%|██████████████████████████████████████████████████████████████████████████████████| 25/25 [00:11<00:00,  2.12it/s]\n",
      "100%|██████████████████████████████████████████████████████████████████████████████████| 25/25 [00:17<00:00,  1.43it/s]"
     ]
    },
    {
     "name": "stdout",
     "output_type": "stream",
     "text": [
      "(213342, 7)\n"
     ]
    },
    {
     "name": "stderr",
     "output_type": "stream",
     "text": [
      "\n"
     ]
    }
   ],
   "source": [
    "for start,end in batch8:\n",
    "    df_comments = update_df_comments(video_data, start, end, youtube, df_comments)\n",
    "print(df_comments.shape)"
   ]
  },
  {
   "cell_type": "code",
   "execution_count": 21,
   "id": "a31bb8dc",
   "metadata": {},
   "outputs": [
    {
     "name": "stderr",
     "output_type": "stream",
     "text": [
      "100%|██████████████████████████████████████████████████████████████████████████████████| 25/25 [00:07<00:00,  3.18it/s]\n",
      "100%|██████████████████████████████████████████████████████████████████████████████████| 25/25 [00:37<00:00,  1.51s/it]"
     ]
    },
    {
     "name": "stdout",
     "output_type": "stream",
     "text": [
      "(218542, 7)\n"
     ]
    },
    {
     "name": "stderr",
     "output_type": "stream",
     "text": [
      "\n"
     ]
    }
   ],
   "source": [
    "for start,end in batch9:\n",
    "    df_comments = update_df_comments(video_data, start, end, youtube, df_comments)\n",
    "print(df_comments.shape)"
   ]
  },
  {
   "cell_type": "code",
   "execution_count": 22,
   "id": "622eb7ca",
   "metadata": {},
   "outputs": [
    {
     "name": "stderr",
     "output_type": "stream",
     "text": [
      "100%|██████████████████████████████████████████████████████████████████████████████████| 25/25 [00:23<00:00,  1.08it/s]\n",
      "100%|██████████████████████████████████████████████████████████████████████████████████| 27/27 [00:17<00:00,  1.54it/s]"
     ]
    },
    {
     "name": "stdout",
     "output_type": "stream",
     "text": [
      "(222869, 7)\n"
     ]
    },
    {
     "name": "stderr",
     "output_type": "stream",
     "text": [
      "\n"
     ]
    }
   ],
   "source": [
    "for start,end in batch10:\n",
    "    df_comments = update_df_comments(video_data, start, end, youtube, df_comments)\n",
    "print(df_comments.shape)"
   ]
  },
  {
   "cell_type": "code",
   "execution_count": 24,
   "id": "fd6007f7",
   "metadata": {},
   "outputs": [
    {
     "data": {
      "text/html": [
       "<div>\n",
       "<style scoped>\n",
       "    .dataframe tbody tr th:only-of-type {\n",
       "        vertical-align: middle;\n",
       "    }\n",
       "\n",
       "    .dataframe tbody tr th {\n",
       "        vertical-align: top;\n",
       "    }\n",
       "\n",
       "    .dataframe thead th {\n",
       "        text-align: right;\n",
       "    }\n",
       "</style>\n",
       "<table border=\"1\" class=\"dataframe\">\n",
       "  <thead>\n",
       "    <tr style=\"text-align: right;\">\n",
       "      <th></th>\n",
       "      <th>video_id</th>\n",
       "      <th>comment_id</th>\n",
       "      <th>author</th>\n",
       "      <th>published_at</th>\n",
       "      <th>like_count</th>\n",
       "      <th>text</th>\n",
       "      <th>public</th>\n",
       "    </tr>\n",
       "  </thead>\n",
       "  <tbody>\n",
       "    <tr>\n",
       "      <th>0</th>\n",
       "      <td>OSTMKBLDoLg</td>\n",
       "      <td>UgwagGVPKB0G4L2QqN54AaABAg</td>\n",
       "      <td>@HelenBrown-s1j</td>\n",
       "      <td>2024-10-09T06:16:40Z</td>\n",
       "      <td>0</td>\n",
       "      <td>Lueilwitz Drives</td>\n",
       "      <td>True</td>\n",
       "    </tr>\n",
       "    <tr>\n",
       "      <th>1</th>\n",
       "      <td>OSTMKBLDoLg</td>\n",
       "      <td>Ugx40mbl8sayIpye0sR4AaABAg</td>\n",
       "      <td>@Millan1105</td>\n",
       "      <td>2024-10-09T05:03:07Z</td>\n",
       "      <td>0</td>\n",
       "      <td>Ramiz Raja tries his best to praise pakistan b...</td>\n",
       "      <td>True</td>\n",
       "    </tr>\n",
       "    <tr>\n",
       "      <th>2</th>\n",
       "      <td>OSTMKBLDoLg</td>\n",
       "      <td>UgyFeQrGkvr0N_TLARB4AaABAg</td>\n",
       "      <td>@USASPORTSNBA</td>\n",
       "      <td>2024-10-08T19:13:50Z</td>\n",
       "      <td>0</td>\n",
       "      <td>https://youtube.com/shorts/goHhbH1OGXs?si=l1Mw...</td>\n",
       "      <td>True</td>\n",
       "    </tr>\n",
       "    <tr>\n",
       "      <th>3</th>\n",
       "      <td>OSTMKBLDoLg</td>\n",
       "      <td>UgwaCP7CZSgqcVICjbl4AaABAg</td>\n",
       "      <td>@gauravrai452</td>\n",
       "      <td>2024-10-08T04:58:21Z</td>\n",
       "      <td>0</td>\n",
       "      <td>Chi chi chi chi chi pakistan bhikhario 😂😂😂😂😂</td>\n",
       "      <td>True</td>\n",
       "    </tr>\n",
       "    <tr>\n",
       "      <th>4</th>\n",
       "      <td>OSTMKBLDoLg</td>\n",
       "      <td>Ugz579po_veOZLQBWz14AaABAg</td>\n",
       "      <td>@yuvrajsinghdeora7774</td>\n",
       "      <td>2024-10-07T17:30:17Z</td>\n",
       "      <td>0</td>\n",
       "      <td>He can't play Netravalkar 😂</td>\n",
       "      <td>True</td>\n",
       "    </tr>\n",
       "  </tbody>\n",
       "</table>\n",
       "</div>"
      ],
      "text/plain": [
       "      video_id                  comment_id                 author  \\\n",
       "0  OSTMKBLDoLg  UgwagGVPKB0G4L2QqN54AaABAg        @HelenBrown-s1j   \n",
       "1  OSTMKBLDoLg  Ugx40mbl8sayIpye0sR4AaABAg            @Millan1105   \n",
       "2  OSTMKBLDoLg  UgyFeQrGkvr0N_TLARB4AaABAg          @USASPORTSNBA   \n",
       "3  OSTMKBLDoLg  UgwaCP7CZSgqcVICjbl4AaABAg          @gauravrai452   \n",
       "4  OSTMKBLDoLg  Ugz579po_veOZLQBWz14AaABAg  @yuvrajsinghdeora7774   \n",
       "\n",
       "           published_at like_count  \\\n",
       "0  2024-10-09T06:16:40Z          0   \n",
       "1  2024-10-09T05:03:07Z          0   \n",
       "2  2024-10-08T19:13:50Z          0   \n",
       "3  2024-10-08T04:58:21Z          0   \n",
       "4  2024-10-07T17:30:17Z          0   \n",
       "\n",
       "                                                text public  \n",
       "0                                   Lueilwitz Drives   True  \n",
       "1  Ramiz Raja tries his best to praise pakistan b...   True  \n",
       "2  https://youtube.com/shorts/goHhbH1OGXs?si=l1Mw...   True  \n",
       "3       Chi chi chi chi chi pakistan bhikhario 😂😂😂😂😂   True  \n",
       "4                        He can't play Netravalkar 😂   True  "
      ]
     },
     "execution_count": 24,
     "metadata": {},
     "output_type": "execute_result"
    }
   ],
   "source": [
    "df_comments.head()"
   ]
  },
  {
   "cell_type": "code",
   "execution_count": 25,
   "id": "18cda188",
   "metadata": {},
   "outputs": [
    {
     "data": {
      "text/html": [
       "<div>\n",
       "<style scoped>\n",
       "    .dataframe tbody tr th:only-of-type {\n",
       "        vertical-align: middle;\n",
       "    }\n",
       "\n",
       "    .dataframe tbody tr th {\n",
       "        vertical-align: top;\n",
       "    }\n",
       "\n",
       "    .dataframe thead th {\n",
       "        text-align: right;\n",
       "    }\n",
       "</style>\n",
       "<table border=\"1\" class=\"dataframe\">\n",
       "  <thead>\n",
       "    <tr style=\"text-align: right;\">\n",
       "      <th></th>\n",
       "      <th>video_id</th>\n",
       "      <th>comment_id</th>\n",
       "      <th>author</th>\n",
       "      <th>published_at</th>\n",
       "      <th>like_count</th>\n",
       "      <th>text</th>\n",
       "      <th>public</th>\n",
       "    </tr>\n",
       "  </thead>\n",
       "  <tbody>\n",
       "    <tr>\n",
       "      <th>222864</th>\n",
       "      <td>ciPycxZhuZk</td>\n",
       "      <td>UgyPNK4LEWEKWUo0gWB4AaABAg</td>\n",
       "      <td>@MFHEDITZ</td>\n",
       "      <td>2024-05-04T15:15:26Z</td>\n",
       "      <td>13</td>\n",
       "      <td>(YOO CHANDAPAUL) GOT ME ROLLING ON THE FLOOR</td>\n",
       "      <td>True</td>\n",
       "    </tr>\n",
       "    <tr>\n",
       "      <th>222865</th>\n",
       "      <td>ciPycxZhuZk</td>\n",
       "      <td>Ugwa57s9-QdMCeV2VXp4AaABAg</td>\n",
       "      <td>@mausamphuyalvlogs4330</td>\n",
       "      <td>2024-05-04T15:14:04Z</td>\n",
       "      <td>6</td>\n",
       "      <td>He is saying  jay 🇳🇵 nepal</td>\n",
       "      <td>True</td>\n",
       "    </tr>\n",
       "    <tr>\n",
       "      <th>222866</th>\n",
       "      <td>ciPycxZhuZk</td>\n",
       "      <td>Ugxo8VPoA37Mo87ioFR4AaABAg</td>\n",
       "      <td>@Tushar.bhardwaj11</td>\n",
       "      <td>2024-05-04T15:11:45Z</td>\n",
       "      <td>4</td>\n",
       "      <td>Shivnarine Chanderpaul</td>\n",
       "      <td>True</td>\n",
       "    </tr>\n",
       "    <tr>\n",
       "      <th>222867</th>\n",
       "      <td>ciPycxZhuZk</td>\n",
       "      <td>UgzuGfhKNgfAqd_4vvp4AaABAg</td>\n",
       "      <td>@nikhilmhaiskar7072</td>\n",
       "      <td>2024-05-04T15:08:37Z</td>\n",
       "      <td>1</td>\n",
       "      <td>Chandrpaul</td>\n",
       "      <td>True</td>\n",
       "    </tr>\n",
       "    <tr>\n",
       "      <th>222868</th>\n",
       "      <td>ciPycxZhuZk</td>\n",
       "      <td>UgxqxNsZ_W0RrPlXOFp4AaABAg</td>\n",
       "      <td>@cricupdate7423</td>\n",
       "      <td>2024-05-04T15:01:19Z</td>\n",
       "      <td>0</td>\n",
       "      <td>His chand paul</td>\n",
       "      <td>True</td>\n",
       "    </tr>\n",
       "  </tbody>\n",
       "</table>\n",
       "</div>"
      ],
      "text/plain": [
       "           video_id                  comment_id                  author  \\\n",
       "222864  ciPycxZhuZk  UgyPNK4LEWEKWUo0gWB4AaABAg               @MFHEDITZ   \n",
       "222865  ciPycxZhuZk  Ugwa57s9-QdMCeV2VXp4AaABAg  @mausamphuyalvlogs4330   \n",
       "222866  ciPycxZhuZk  Ugxo8VPoA37Mo87ioFR4AaABAg      @Tushar.bhardwaj11   \n",
       "222867  ciPycxZhuZk  UgzuGfhKNgfAqd_4vvp4AaABAg     @nikhilmhaiskar7072   \n",
       "222868  ciPycxZhuZk  UgxqxNsZ_W0RrPlXOFp4AaABAg         @cricupdate7423   \n",
       "\n",
       "                published_at like_count  \\\n",
       "222864  2024-05-04T15:15:26Z         13   \n",
       "222865  2024-05-04T15:14:04Z          6   \n",
       "222866  2024-05-04T15:11:45Z          4   \n",
       "222867  2024-05-04T15:08:37Z          1   \n",
       "222868  2024-05-04T15:01:19Z          0   \n",
       "\n",
       "                                                text public  \n",
       "222864  (YOO CHANDAPAUL) GOT ME ROLLING ON THE FLOOR   True  \n",
       "222865                    He is saying  jay 🇳🇵 nepal   True  \n",
       "222866                        Shivnarine Chanderpaul   True  \n",
       "222867                                    Chandrpaul   True  \n",
       "222868                                His chand paul   True  "
      ]
     },
     "execution_count": 25,
     "metadata": {},
     "output_type": "execute_result"
    }
   ],
   "source": [
    "df_comments.tail()"
   ]
  },
  {
   "cell_type": "code",
   "execution_count": 27,
   "id": "eef90389",
   "metadata": {},
   "outputs": [],
   "source": [
    "# save df_comments as a csv file\n",
    "df_comments.to_csv(\"t20_youtube_comments.csv\",index=False)"
   ]
  },
  {
   "cell_type": "code",
   "execution_count": null,
   "id": "396b2d3c",
   "metadata": {},
   "outputs": [],
   "source": []
  }
 ],
 "metadata": {
  "kernelspec": {
   "display_name": "Python 3 (ipykernel)",
   "language": "python",
   "name": "python3"
  },
  "language_info": {
   "codemirror_mode": {
    "name": "ipython",
    "version": 3
   },
   "file_extension": ".py",
   "mimetype": "text/x-python",
   "name": "python",
   "nbconvert_exporter": "python",
   "pygments_lexer": "ipython3",
   "version": "3.11.7"
  }
 },
 "nbformat": 4,
 "nbformat_minor": 5
}
