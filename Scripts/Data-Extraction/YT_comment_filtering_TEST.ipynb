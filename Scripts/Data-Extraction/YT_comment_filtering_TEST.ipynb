{
 "cells": [
  {
   "cell_type": "code",
   "execution_count": 50,
   "id": "75a9732a",
   "metadata": {},
   "outputs": [],
   "source": [
    "import pandas as pd"
   ]
  },
  {
   "cell_type": "code",
   "execution_count": 51,
   "id": "81ebf7e5",
   "metadata": {},
   "outputs": [],
   "source": [
    "test_data = pd.read_csv(\"../../Data/Raw/test_youtube_comments.csv\")"
   ]
  },
  {
   "cell_type": "code",
   "execution_count": 52,
   "id": "754187c3",
   "metadata": {},
   "outputs": [
    {
     "data": {
      "text/html": [
       "<div>\n",
       "<style scoped>\n",
       "    .dataframe tbody tr th:only-of-type {\n",
       "        vertical-align: middle;\n",
       "    }\n",
       "\n",
       "    .dataframe tbody tr th {\n",
       "        vertical-align: top;\n",
       "    }\n",
       "\n",
       "    .dataframe thead th {\n",
       "        text-align: right;\n",
       "    }\n",
       "</style>\n",
       "<table border=\"1\" class=\"dataframe\">\n",
       "  <thead>\n",
       "    <tr style=\"text-align: right;\">\n",
       "      <th></th>\n",
       "      <th>video_id</th>\n",
       "      <th>comment_id</th>\n",
       "      <th>author</th>\n",
       "      <th>published_at</th>\n",
       "      <th>like_count</th>\n",
       "      <th>text</th>\n",
       "      <th>public</th>\n",
       "    </tr>\n",
       "  </thead>\n",
       "  <tbody>\n",
       "    <tr>\n",
       "      <th>0</th>\n",
       "      <td>Gzs-rqCuxTk</td>\n",
       "      <td>Ugx4aAMCY9SQ3WksbV14AaABAg</td>\n",
       "      <td>@miteshvaghela1575</td>\n",
       "      <td>2024-10-18T01:22:12Z</td>\n",
       "      <td>0</td>\n",
       "      <td>Iconic moment of 2024</td>\n",
       "      <td>True</td>\n",
       "    </tr>\n",
       "    <tr>\n",
       "      <th>1</th>\n",
       "      <td>Gzs-rqCuxTk</td>\n",
       "      <td>Ugx1TlsDYYIhBxcTH0p4AaABAg</td>\n",
       "      <td>@sunnysumanthchowdary3946</td>\n",
       "      <td>2024-10-17T22:13:55Z</td>\n",
       "      <td>0</td>\n",
       "      <td>He dies but voice lives</td>\n",
       "      <td>True</td>\n",
       "    </tr>\n",
       "    <tr>\n",
       "      <th>2</th>\n",
       "      <td>Gzs-rqCuxTk</td>\n",
       "      <td>UgxpnagzLpasQxoFpox4AaABAg</td>\n",
       "      <td>@mahmudurrahman2912</td>\n",
       "      <td>2024-10-17T20:48:35Z</td>\n",
       "      <td>0</td>\n",
       "      <td>Bhai kothao bhul hoise😢😢</td>\n",
       "      <td>True</td>\n",
       "    </tr>\n",
       "    <tr>\n",
       "      <th>3</th>\n",
       "      <td>Gzs-rqCuxTk</td>\n",
       "      <td>UgzcEB0mK8zCC8T3yJh4AaABAg</td>\n",
       "      <td>@CRAZYGAMER-yh3yj</td>\n",
       "      <td>2024-10-17T19:11:38Z</td>\n",
       "      <td>0</td>\n",
       "      <td>Commentator ke words ko sunkar dil me kuch kuc...</td>\n",
       "      <td>True</td>\n",
       "    </tr>\n",
       "    <tr>\n",
       "      <th>4</th>\n",
       "      <td>Gzs-rqCuxTk</td>\n",
       "      <td>UgxpM2it6wCTfLJUS1N4AaABAg</td>\n",
       "      <td>@yashchopade309</td>\n",
       "      <td>2024-10-17T15:34:29Z</td>\n",
       "      <td>0</td>\n",
       "      <td>Commentary 💀 match 💀 catch 💀</td>\n",
       "      <td>True</td>\n",
       "    </tr>\n",
       "  </tbody>\n",
       "</table>\n",
       "</div>"
      ],
      "text/plain": [
       "      video_id                  comment_id                     author  \\\n",
       "0  Gzs-rqCuxTk  Ugx4aAMCY9SQ3WksbV14AaABAg         @miteshvaghela1575   \n",
       "1  Gzs-rqCuxTk  Ugx1TlsDYYIhBxcTH0p4AaABAg  @sunnysumanthchowdary3946   \n",
       "2  Gzs-rqCuxTk  UgxpnagzLpasQxoFpox4AaABAg        @mahmudurrahman2912   \n",
       "3  Gzs-rqCuxTk  UgzcEB0mK8zCC8T3yJh4AaABAg          @CRAZYGAMER-yh3yj   \n",
       "4  Gzs-rqCuxTk  UgxpM2it6wCTfLJUS1N4AaABAg            @yashchopade309   \n",
       "\n",
       "           published_at  like_count  \\\n",
       "0  2024-10-18T01:22:12Z           0   \n",
       "1  2024-10-17T22:13:55Z           0   \n",
       "2  2024-10-17T20:48:35Z           0   \n",
       "3  2024-10-17T19:11:38Z           0   \n",
       "4  2024-10-17T15:34:29Z           0   \n",
       "\n",
       "                                                text  public  \n",
       "0                              Iconic moment of 2024    True  \n",
       "1                            He dies but voice lives    True  \n",
       "2                           Bhai kothao bhul hoise😢😢    True  \n",
       "3  Commentator ke words ko sunkar dil me kuch kuc...    True  \n",
       "4                       Commentary 💀 match 💀 catch 💀    True  "
      ]
     },
     "execution_count": 52,
     "metadata": {},
     "output_type": "execute_result"
    }
   ],
   "source": [
    "test_data.head()"
   ]
  },
  {
   "cell_type": "code",
   "execution_count": 53,
   "id": "748ded1a",
   "metadata": {},
   "outputs": [],
   "source": [
    "test_videos = pd.read_csv(\"../../Data/Raw/test_youtube_videos.csv\")"
   ]
  },
  {
   "cell_type": "code",
   "execution_count": 54,
   "id": "5ee4b41d",
   "metadata": {},
   "outputs": [
    {
     "data": {
      "text/html": [
       "<div>\n",
       "<style scoped>\n",
       "    .dataframe tbody tr th:only-of-type {\n",
       "        vertical-align: middle;\n",
       "    }\n",
       "\n",
       "    .dataframe tbody tr th {\n",
       "        vertical-align: top;\n",
       "    }\n",
       "\n",
       "    .dataframe thead th {\n",
       "        text-align: right;\n",
       "    }\n",
       "</style>\n",
       "<table border=\"1\" class=\"dataframe\">\n",
       "  <thead>\n",
       "    <tr style=\"text-align: right;\">\n",
       "      <th></th>\n",
       "      <th>video_id</th>\n",
       "      <th>title</th>\n",
       "      <th>published_at</th>\n",
       "    </tr>\n",
       "  </thead>\n",
       "  <tbody>\n",
       "    <tr>\n",
       "      <th>0</th>\n",
       "      <td>Gzs-rqCuxTk</td>\n",
       "      <td>Another iconic Ian Smith call 🗣️🎤 #CricketShor...</td>\n",
       "      <td>2024-07-02T06:58:32Z</td>\n",
       "    </tr>\n",
       "    <tr>\n",
       "      <th>1</th>\n",
       "      <td>dlaGLRWBNEI</td>\n",
       "      <td>Same batter. Same opposition. Same reactions 👀...</td>\n",
       "      <td>2024-01-20T02:17:49Z</td>\n",
       "    </tr>\n",
       "    <tr>\n",
       "      <th>2</th>\n",
       "      <td>gTo-lPOGPdg</td>\n",
       "      <td>Australia v India | WTC23 Final | Match Highli...</td>\n",
       "      <td>2024-02-13T03:00:17Z</td>\n",
       "    </tr>\n",
       "    <tr>\n",
       "      <th>3</th>\n",
       "      <td>B3JZZThHKA4</td>\n",
       "      <td>Less than 10 months to go for the #WTC25 Final...</td>\n",
       "      <td>2024-09-04T17:20:24Z</td>\n",
       "    </tr>\n",
       "    <tr>\n",
       "      <th>4</th>\n",
       "      <td>I7fqF6j_CJI</td>\n",
       "      <td>Australia’s victorious WTC23 campaign | The Te...</td>\n",
       "      <td>2024-05-07T21:10:00Z</td>\n",
       "    </tr>\n",
       "  </tbody>\n",
       "</table>\n",
       "</div>"
      ],
      "text/plain": [
       "      video_id                                              title  \\\n",
       "0  Gzs-rqCuxTk  Another iconic Ian Smith call 🗣️🎤 #CricketShor...   \n",
       "1  dlaGLRWBNEI  Same batter. Same opposition. Same reactions 👀...   \n",
       "2  gTo-lPOGPdg  Australia v India | WTC23 Final | Match Highli...   \n",
       "3  B3JZZThHKA4  Less than 10 months to go for the #WTC25 Final...   \n",
       "4  I7fqF6j_CJI  Australia’s victorious WTC23 campaign | The Te...   \n",
       "\n",
       "           published_at  \n",
       "0  2024-07-02T06:58:32Z  \n",
       "1  2024-01-20T02:17:49Z  \n",
       "2  2024-02-13T03:00:17Z  \n",
       "3  2024-09-04T17:20:24Z  \n",
       "4  2024-05-07T21:10:00Z  "
      ]
     },
     "execution_count": 54,
     "metadata": {},
     "output_type": "execute_result"
    }
   ],
   "source": [
    "test_videos.head()"
   ]
  },
  {
   "cell_type": "code",
   "execution_count": 55,
   "id": "4efb76dd",
   "metadata": {},
   "outputs": [
    {
     "name": "stdout",
     "output_type": "stream",
     "text": [
      "<class 'pandas.core.frame.DataFrame'>\n",
      "RangeIndex: 149570 entries, 0 to 149569\n",
      "Data columns (total 7 columns):\n",
      " #   Column        Non-Null Count   Dtype \n",
      "---  ------        --------------   ----- \n",
      " 0   video_id      149570 non-null  object\n",
      " 1   comment_id    149570 non-null  object\n",
      " 2   author        149559 non-null  object\n",
      " 3   published_at  149570 non-null  object\n",
      " 4   like_count    149570 non-null  int64 \n",
      " 5   text          149562 non-null  object\n",
      " 6   public        149570 non-null  bool  \n",
      "dtypes: bool(1), int64(1), object(5)\n",
      "memory usage: 7.0+ MB\n"
     ]
    }
   ],
   "source": [
    "test_data.info()"
   ]
  },
  {
   "cell_type": "code",
   "execution_count": 56,
   "id": "d8c63ed7",
   "metadata": {},
   "outputs": [],
   "source": [
    "#grouping and sorting test_data\n",
    "test_data = test_data.groupby('video_id').apply(lambda x: x.sort_values('like_count', ascending=False))\n",
    "test_data = test_data.reset_index(drop=True)"
   ]
  },
  {
   "cell_type": "code",
   "execution_count": 57,
   "id": "ae238e27",
   "metadata": {},
   "outputs": [
    {
     "data": {
      "text/html": [
       "<div>\n",
       "<style scoped>\n",
       "    .dataframe tbody tr th:only-of-type {\n",
       "        vertical-align: middle;\n",
       "    }\n",
       "\n",
       "    .dataframe tbody tr th {\n",
       "        vertical-align: top;\n",
       "    }\n",
       "\n",
       "    .dataframe thead th {\n",
       "        text-align: right;\n",
       "    }\n",
       "</style>\n",
       "<table border=\"1\" class=\"dataframe\">\n",
       "  <thead>\n",
       "    <tr style=\"text-align: right;\">\n",
       "      <th></th>\n",
       "      <th>video_id</th>\n",
       "      <th>comment_id</th>\n",
       "      <th>author</th>\n",
       "      <th>published_at</th>\n",
       "      <th>like_count</th>\n",
       "      <th>text</th>\n",
       "      <th>public</th>\n",
       "    </tr>\n",
       "  </thead>\n",
       "  <tbody>\n",
       "    <tr>\n",
       "      <th>0</th>\n",
       "      <td>-0jp9XK86Dw</td>\n",
       "      <td>UgxS0yKnpiVaaxU0Gu94AaABAg</td>\n",
       "      <td>@ruchirj4533</td>\n",
       "      <td>2024-03-30T12:18:41Z</td>\n",
       "      <td>736</td>\n",
       "      <td>Massive respect to Sachin Tendulkar but if Sur...</td>\n",
       "      <td>True</td>\n",
       "    </tr>\n",
       "    <tr>\n",
       "      <th>1</th>\n",
       "      <td>-0jp9XK86Dw</td>\n",
       "      <td>UgwOFSkSLrnwCqAA3tt4AaABAg</td>\n",
       "      <td>@ayush__635</td>\n",
       "      <td>2024-03-31T05:13:15Z</td>\n",
       "      <td>371</td>\n",
       "      <td>That day...2011 evening...\\nWednesday...\\nA Bi...</td>\n",
       "      <td>True</td>\n",
       "    </tr>\n",
       "    <tr>\n",
       "      <th>2</th>\n",
       "      <td>-0jp9XK86Dw</td>\n",
       "      <td>UgyQLpqNAjhHcm5ju8F4AaABAg</td>\n",
       "      <td>@Shagunyadav-d9e</td>\n",
       "      <td>2024-03-30T12:49:51Z</td>\n",
       "      <td>284</td>\n",
       "      <td>India have 11 player in team but when Sachin T...</td>\n",
       "      <td>True</td>\n",
       "    </tr>\n",
       "    <tr>\n",
       "      <th>3</th>\n",
       "      <td>-0jp9XK86Dw</td>\n",
       "      <td>UgxobcjUde9b6ol9Jul4AaABAg</td>\n",
       "      <td>@nandanaras2833</td>\n",
       "      <td>2024-03-30T14:03:46Z</td>\n",
       "      <td>164</td>\n",
       "      <td>2011 world cup. hidden star (gambir. Sachin. y...</td>\n",
       "      <td>True</td>\n",
       "    </tr>\n",
       "    <tr>\n",
       "      <th>4</th>\n",
       "      <td>-0jp9XK86Dw</td>\n",
       "      <td>UgzOE7CJW4X1XiEjv394AaABAg</td>\n",
       "      <td>@dasaradhd4910</td>\n",
       "      <td>2024-07-04T17:17:50Z</td>\n",
       "      <td>135</td>\n",
       "      <td>Every one used to talk about Gambhir and dhoni...</td>\n",
       "      <td>True</td>\n",
       "    </tr>\n",
       "  </tbody>\n",
       "</table>\n",
       "</div>"
      ],
      "text/plain": [
       "      video_id                  comment_id            author  \\\n",
       "0  -0jp9XK86Dw  UgxS0yKnpiVaaxU0Gu94AaABAg      @ruchirj4533   \n",
       "1  -0jp9XK86Dw  UgwOFSkSLrnwCqAA3tt4AaABAg       @ayush__635   \n",
       "2  -0jp9XK86Dw  UgyQLpqNAjhHcm5ju8F4AaABAg  @Shagunyadav-d9e   \n",
       "3  -0jp9XK86Dw  UgxobcjUde9b6ol9Jul4AaABAg   @nandanaras2833   \n",
       "4  -0jp9XK86Dw  UgzOE7CJW4X1XiEjv394AaABAg    @dasaradhd4910   \n",
       "\n",
       "           published_at  like_count  \\\n",
       "0  2024-03-30T12:18:41Z         736   \n",
       "1  2024-03-31T05:13:15Z         371   \n",
       "2  2024-03-30T12:49:51Z         284   \n",
       "3  2024-03-30T14:03:46Z         164   \n",
       "4  2024-07-04T17:17:50Z         135   \n",
       "\n",
       "                                                text  public  \n",
       "0  Massive respect to Sachin Tendulkar but if Sur...    True  \n",
       "1  That day...2011 evening...\\nWednesday...\\nA Bi...    True  \n",
       "2  India have 11 player in team but when Sachin T...    True  \n",
       "3  2011 world cup. hidden star (gambir. Sachin. y...    True  \n",
       "4  Every one used to talk about Gambhir and dhoni...    True  "
      ]
     },
     "execution_count": 57,
     "metadata": {},
     "output_type": "execute_result"
    }
   ],
   "source": [
    "test_data.head()"
   ]
  },
  {
   "cell_type": "code",
   "execution_count": 58,
   "id": "c9ba7f65",
   "metadata": {},
   "outputs": [],
   "source": [
    "#check no of comments per each video\n",
    "group_counts = test_data.groupby(\"video_id\").size()"
   ]
  },
  {
   "cell_type": "code",
   "execution_count": 59,
   "id": "496f3bb3",
   "metadata": {},
   "outputs": [],
   "source": [
    "#sorting group counts in descending order\n",
    "group_counts = group_counts.sort_values(ascending=False)"
   ]
  },
  {
   "cell_type": "code",
   "execution_count": 60,
   "id": "5b6f4a01",
   "metadata": {},
   "outputs": [
    {
     "name": "stdout",
     "output_type": "stream",
     "text": [
      "video_id\n",
      "YqKYpgZ9FWU    9890\n",
      "Gzs-rqCuxTk    9888\n",
      "Zf_xvZv4q7c    6138\n",
      "V8m8equTo3c    5621\n",
      "RJcAz3rU2Zc    4248\n",
      "glTy9dxHL6Q    4182\n",
      "VQpTVVsNHQs    4150\n",
      "tdiAhkOH6Sc    2974\n",
      "6rc1SPR6PbY    2736\n",
      "gTo-lPOGPdg    2719\n",
      "0j2CV-__V48    2630\n",
      "TRZiJjYITa4    2562\n",
      "QXVcXQCpz_E    2370\n",
      "j20RXTDr2Q0    2248\n",
      "66aHdCoOKZQ    2125\n",
      "CkKloyBQraE    2064\n",
      "gl1nn9w_8zk    1995\n",
      "JCgzSqBIumE    1972\n",
      "4iiLuQVMs-w    1950\n",
      "OzsYsAvVaTk    1796\n",
      "xKMRx_upkRY    1783\n",
      "XBvnLpTJ6Uk    1723\n",
      "RR0yM5mG_8U    1717\n",
      "o6UM2KDuqb8    1654\n",
      "B3JZZThHKA4    1585\n",
      "bNLJEsqCFWM    1558\n",
      "GzW4qSM2bbk    1513\n",
      "3KCKNhjcvFo    1488\n",
      "MbKhGIPRvGI    1411\n",
      "BD608IJ3aCE    1393\n",
      "q06EcYMViwQ    1341\n",
      "3epdc7Fak3Y    1306\n",
      "mQ4_qMaPDA8    1190\n",
      "pEMePnorNDA    1167\n",
      "2TikWKtQ7no    1135\n",
      "AXkZRJNkOq8    1073\n",
      "ICBMV8U6oCQ    1051\n",
      "6uS3FFRBhuI    1038\n",
      "dlaGLRWBNEI    1003\n",
      "8MWMvoZqt0E     983\n",
      "wmf4yKzv9KE     971\n",
      "ohKPrdpbaaA     939\n",
      "N22Vd0DY3Lw     928\n",
      "pQ5xEiZ-5IE     898\n",
      "fsDrWK61k6k     893\n",
      "e5kjkVfPLfs     868\n",
      "xKJOJg4MkSo     852\n",
      "FSfgoIfqy8w     827\n",
      "6HBgpkK8-rc     814\n",
      "KVroGz3_wFU     793\n",
      "dtype: int64\n"
     ]
    }
   ],
   "source": [
    "print(group_counts.head(n=50))"
   ]
  },
  {
   "cell_type": "code",
   "execution_count": 61,
   "id": "6489db66",
   "metadata": {},
   "outputs": [
    {
     "data": {
      "text/plain": [
       "(39,)"
      ]
     },
     "execution_count": 61,
     "metadata": {},
     "output_type": "execute_result"
    }
   ],
   "source": [
    "# checking no of videos with more than 1000 comments\n",
    "group_counts[group_counts > 1000].shape"
   ]
  },
  {
   "cell_type": "code",
   "execution_count": 62,
   "id": "9c361e91",
   "metadata": {},
   "outputs": [
    {
     "name": "stdout",
     "output_type": "stream",
     "text": [
      "video_id\n",
      "A0k66aYwKG4    9\n",
      "KxXPiLz_mmI    9\n",
      "jA3oGzIo8NU    9\n",
      "0PnH6MSCPjM    9\n",
      "ln4iErZ8aV0    9\n",
      "MNNfwxvRT3c    9\n",
      "QlQajCLBgig    9\n",
      "_t0UL6sb9Z0    9\n",
      "vXs6uHSvDt0    9\n",
      "AUiHtJ9hcAk    9\n",
      "rNYnO2ERNiw    8\n",
      "B2lRcdGI_Ks    8\n",
      "9h1e8gygytw    8\n",
      "_IZEYc9lIuQ    8\n",
      "rUHq0gl3KbU    7\n",
      "hHSM61vIF3k    7\n",
      "vfuTbZkHP9w    7\n",
      "Jr7l3BuKcPY    7\n",
      "sDSuoDc46U8    7\n",
      "jF6M1lClWM4    7\n",
      "WE4t0fsyyFs    6\n",
      "nDo7n7V-jlo    6\n",
      "l8DPB0viIGY    6\n",
      "L7Eh8oG7chk    6\n",
      "D_jyBqqTmoI    6\n",
      "mesHFdDJPLY    6\n",
      "jqE_uXvbRPg    6\n",
      "wEHbC9Us1RQ    6\n",
      "Rd43N0CgQDw    6\n",
      "uyejiFYcACY    6\n",
      "SFALFSp4mgQ    6\n",
      "ckYhAnlcITY    5\n",
      "7Ijmv782xDM    5\n",
      "DAyM36Cte1M    5\n",
      "09MmHCYtQGY    5\n",
      "Se0pGoMXyL0    4\n",
      "8btk8BvyYDI    4\n",
      "Y9BmC3hpcs4    4\n",
      "3HowFyJmprA    4\n",
      "cWADhf9gVJU    3\n",
      "ik80hWjGJrQ    3\n",
      "AddscIk3M-I    3\n",
      "mIA8tPv8uoI    2\n",
      "EE1gqMZnZo4    2\n",
      "4RzpJ_3J6iU    2\n",
      "ux1EAncrGDk    2\n",
      "4nOvW0WYFtY    2\n",
      "T71zzQlfmQ8    2\n",
      "E9vAT8UAnp4    2\n",
      "y0a9dpooKks    1\n",
      "dtype: int64\n"
     ]
    }
   ],
   "source": [
    "print(group_counts.tail(n=50))"
   ]
  },
  {
   "cell_type": "code",
   "execution_count": 63,
   "id": "e708498f",
   "metadata": {},
   "outputs": [],
   "source": [
    "filtered_test_data = test_data.groupby('video_id').apply(lambda x: x.head(1000)).reset_index(drop=True)"
   ]
  },
  {
   "cell_type": "code",
   "execution_count": 64,
   "id": "80d3410b",
   "metadata": {},
   "outputs": [
    {
     "data": {
      "text/plain": [
       "(88183, 7)"
      ]
     },
     "execution_count": 64,
     "metadata": {},
     "output_type": "execute_result"
    }
   ],
   "source": [
    "filtered_test_data.shape"
   ]
  },
  {
   "cell_type": "code",
   "execution_count": 65,
   "id": "81b1553f",
   "metadata": {},
   "outputs": [],
   "source": [
    "filtered_test_data2 = test_data.groupby('video_id').apply(lambda x: x.head(500)).reset_index(drop=True)"
   ]
  },
  {
   "cell_type": "code",
   "execution_count": 66,
   "id": "5c003e91",
   "metadata": {},
   "outputs": [
    {
     "data": {
      "text/plain": [
       "(61208, 7)"
      ]
     },
     "execution_count": 66,
     "metadata": {},
     "output_type": "execute_result"
    }
   ],
   "source": [
    "filtered_test_data2.shape"
   ]
  },
  {
   "cell_type": "code",
   "execution_count": 67,
   "id": "64fd53dc",
   "metadata": {},
   "outputs": [
    {
     "data": {
      "text/plain": [
       "(74,)"
      ]
     },
     "execution_count": 67,
     "metadata": {},
     "output_type": "execute_result"
    }
   ],
   "source": [
    "# checking no of videos with more than 500 comments\n",
    "group_counts[group_counts > 500].shape"
   ]
  },
  {
   "cell_type": "code",
   "execution_count": 68,
   "id": "327eda29",
   "metadata": {},
   "outputs": [
    {
     "name": "stdout",
     "output_type": "stream",
     "text": [
      "Another iconic Ian Smith call 🗣️🎤 #CricketShorts #YTShorts\n",
      "Same batter. Same opposition. Same reactions 👀 #cwc23  #cricket  #ausvpak\n",
      "Australia v India | WTC23 Final | Match Highlights\n",
      "Less than 10 months to go for the #WTC25 Final 🤩Who’s lifting the trophy next? #cricket\n",
      "Australia’s victorious WTC23 campaign | The Test Season 3 Trailer | Prime Video\n",
      "Australian young gun Sam Konstas put to the test as he compares the game&#39;s greats #cricket\n",
      "The King of Yorkers Jasprit Bumrah is now the No.1 Men&#39;s Test bowler in the world 🤩  #Cricket\n",
      "Chris Gayle tears England apart | ENG v WI | T20WC 2016\n",
      "Travis Head century powers Australia to World Cup glory | CWC23\n",
      "Carnage with the ball | The Best Deliveries of T20WC 2024\n",
      "A (Travis) Head above the rest 🙌 #YTShorts #CricketShorts\n",
      "Shubman Gill 🤜 🤛Stephan Pascal #U19WorldCup #Cricket\n",
      "Rishabh Pant power 💪 #Cricket #CricketShorts #YTShorts\n",
      "Dale Steyn&#39;s stirring spell stuns New Zealand | T20WC 2014\n",
      "Every Men&#39;s Cricket World Cup hat-trick ☝️☝️☝️\n",
      "The Andre Russell impact 🏏🔥#CricketLover #AndreRussell #WestIndies\n",
      "Steve Smith&#39;s superb semi-final hundred against India | CWC 2015\n",
      "Every Hardik Pandya boundary at T20WC 2024\n",
      "Consistency is key for Nathan Lyon on the road to a successful WTC defence 🏏 #CricketShorts\n",
      "Ricky Ponting previews the Border-Gavaskar Series  between Australia and India | ICC Review\n",
      "Every Virat Kohli boundary at T20WC 2024\n",
      "Every Rachin Ravindra six at Cricket World Cup 2023\n"
     ]
    }
   ],
   "source": [
    "# checking video title to confirm videos are about T20 \n",
    "for i,title in enumerate(test_videos['title']):\n",
    "    print(title)\n",
    "    if i>20:\n",
    "        break"
   ]
  },
  {
   "cell_type": "code",
   "execution_count": 75,
   "id": "fc76d0ac",
   "metadata": {},
   "outputs": [],
   "source": [
    "def contains_set_of_strings(input: str, str_list: list[str]):\n",
    "    for string in str_list:\n",
    "        if string in input.lower():\n",
    "            return True\n",
    "    \n",
    "    return False\n",
    "\n",
    "\n",
    "text_filter = []\n",
    "text_filter.append('wtc')\n",
    "text_filter.append('test')\n",
    "\n",
    "test_videos['Valid'] = test_videos['title'].apply(lambda x: contains_set_of_strings(x, text_filter))"
   ]
  },
  {
   "cell_type": "code",
   "execution_count": 76,
   "id": "ff7d159d",
   "metadata": {},
   "outputs": [
    {
     "data": {
      "text/html": [
       "<div>\n",
       "<style scoped>\n",
       "    .dataframe tbody tr th:only-of-type {\n",
       "        vertical-align: middle;\n",
       "    }\n",
       "\n",
       "    .dataframe tbody tr th {\n",
       "        vertical-align: top;\n",
       "    }\n",
       "\n",
       "    .dataframe thead th {\n",
       "        text-align: right;\n",
       "    }\n",
       "</style>\n",
       "<table border=\"1\" class=\"dataframe\">\n",
       "  <thead>\n",
       "    <tr style=\"text-align: right;\">\n",
       "      <th></th>\n",
       "      <th>video_id</th>\n",
       "      <th>title</th>\n",
       "      <th>published_at</th>\n",
       "      <th>Valid</th>\n",
       "    </tr>\n",
       "  </thead>\n",
       "  <tbody>\n",
       "    <tr>\n",
       "      <th>0</th>\n",
       "      <td>Gzs-rqCuxTk</td>\n",
       "      <td>Another iconic Ian Smith call 🗣️🎤 #CricketShor...</td>\n",
       "      <td>2024-07-02T06:58:32Z</td>\n",
       "      <td>False</td>\n",
       "    </tr>\n",
       "    <tr>\n",
       "      <th>1</th>\n",
       "      <td>dlaGLRWBNEI</td>\n",
       "      <td>Same batter. Same opposition. Same reactions 👀...</td>\n",
       "      <td>2024-01-20T02:17:49Z</td>\n",
       "      <td>False</td>\n",
       "    </tr>\n",
       "    <tr>\n",
       "      <th>2</th>\n",
       "      <td>gTo-lPOGPdg</td>\n",
       "      <td>Australia v India | WTC23 Final | Match Highli...</td>\n",
       "      <td>2024-02-13T03:00:17Z</td>\n",
       "      <td>True</td>\n",
       "    </tr>\n",
       "    <tr>\n",
       "      <th>3</th>\n",
       "      <td>B3JZZThHKA4</td>\n",
       "      <td>Less than 10 months to go for the #WTC25 Final...</td>\n",
       "      <td>2024-09-04T17:20:24Z</td>\n",
       "      <td>True</td>\n",
       "    </tr>\n",
       "    <tr>\n",
       "      <th>4</th>\n",
       "      <td>I7fqF6j_CJI</td>\n",
       "      <td>Australia’s victorious WTC23 campaign | The Te...</td>\n",
       "      <td>2024-05-07T21:10:00Z</td>\n",
       "      <td>True</td>\n",
       "    </tr>\n",
       "  </tbody>\n",
       "</table>\n",
       "</div>"
      ],
      "text/plain": [
       "      video_id                                              title  \\\n",
       "0  Gzs-rqCuxTk  Another iconic Ian Smith call 🗣️🎤 #CricketShor...   \n",
       "1  dlaGLRWBNEI  Same batter. Same opposition. Same reactions 👀...   \n",
       "2  gTo-lPOGPdg  Australia v India | WTC23 Final | Match Highli...   \n",
       "3  B3JZZThHKA4  Less than 10 months to go for the #WTC25 Final...   \n",
       "4  I7fqF6j_CJI  Australia’s victorious WTC23 campaign | The Te...   \n",
       "\n",
       "           published_at  Valid  \n",
       "0  2024-07-02T06:58:32Z  False  \n",
       "1  2024-01-20T02:17:49Z  False  \n",
       "2  2024-02-13T03:00:17Z   True  \n",
       "3  2024-09-04T17:20:24Z   True  \n",
       "4  2024-05-07T21:10:00Z   True  "
      ]
     },
     "execution_count": 76,
     "metadata": {},
     "output_type": "execute_result"
    }
   ],
   "source": [
    "test_videos.head()"
   ]
  },
  {
   "cell_type": "code",
   "execution_count": 77,
   "id": "7667406d",
   "metadata": {},
   "outputs": [],
   "source": [
    "invalid_videos = test_videos[test_videos['Valid'] == False]"
   ]
  },
  {
   "cell_type": "code",
   "execution_count": 78,
   "id": "44e66892",
   "metadata": {},
   "outputs": [
    {
     "name": "stdout",
     "output_type": "stream",
     "text": [
      "Another iconic Ian Smith call 🗣️🎤 #CricketShorts #YTShorts\n",
      "Same batter. Same opposition. Same reactions 👀 #cwc23  #cricket  #ausvpak\n",
      "Chris Gayle tears England apart | ENG v WI | T20WC 2016\n",
      "Travis Head century powers Australia to World Cup glory | CWC23\n",
      "Carnage with the ball | The Best Deliveries of T20WC 2024\n",
      "A (Travis) Head above the rest 🙌 #YTShorts #CricketShorts\n",
      "Shubman Gill 🤜 🤛Stephan Pascal #U19WorldCup #Cricket\n",
      "Rishabh Pant power 💪 #Cricket #CricketShorts #YTShorts\n",
      "Dale Steyn&#39;s stirring spell stuns New Zealand | T20WC 2014\n",
      "Every Men&#39;s Cricket World Cup hat-trick ☝️☝️☝️\n",
      "The Andre Russell impact 🏏🔥#CricketLover #AndreRussell #WestIndies\n",
      "Steve Smith&#39;s superb semi-final hundred against India | CWC 2015\n",
      "Every Hardik Pandya boundary at T20WC 2024\n",
      "Ricky Ponting previews the Border-Gavaskar Series  between Australia and India | ICC Review\n",
      "Every Virat Kohli boundary at T20WC 2024\n",
      "Every Rachin Ravindra six at Cricket World Cup 2023\n",
      "Every Jasprit Bumrah wicket at Cricket World Cup 2023\n",
      "Every Ravindra Jadeja wicket at Cricket World Cup 2023\n",
      "How Hardik Pandya turned the tide in India’s favour 🤯 #cricket #cricketshorts #ytshorts\n",
      "Every Shubman Gill six at Cricket World Cup 2023\n",
      "Jasprit Bumrah is always on target 🎯 #CricketShorts #YTShorts\n",
      "Record Breakers: All 99 South Africa sixes at the Cricket World Cup 2023\n"
     ]
    }
   ],
   "source": [
    "for i,title in enumerate(invalid_videos['title']):\n",
    "    print(title)\n",
    "    if i>20:\n",
    "        break"
   ]
  },
  {
   "cell_type": "code",
   "execution_count": 79,
   "id": "3d3fe5ec",
   "metadata": {},
   "outputs": [],
   "source": [
    "# Selecting the videos wit 'T20/t20 term in the title'\n",
    "v_test_videos = test_videos[test_videos['Valid'] == True]"
   ]
  },
  {
   "cell_type": "code",
   "execution_count": 80,
   "id": "ad16c71d",
   "metadata": {},
   "outputs": [
    {
     "data": {
      "text/plain": [
       "(17, 4)"
      ]
     },
     "execution_count": 80,
     "metadata": {},
     "output_type": "execute_result"
    }
   ],
   "source": [
    "v_test_videos.shape"
   ]
  },
  {
   "cell_type": "code",
   "execution_count": 81,
   "id": "291f5d9d",
   "metadata": {},
   "outputs": [],
   "source": [
    "v_test_videos = v_test_videos.drop(columns=['Valid'])"
   ]
  },
  {
   "cell_type": "code",
   "execution_count": 82,
   "id": "7887e97f",
   "metadata": {},
   "outputs": [],
   "source": [
    "v_test_videos.columns = [\"video_id\",\"video_title\",\"video_published_at\"]"
   ]
  },
  {
   "cell_type": "code",
   "execution_count": 87,
   "id": "f8918318",
   "metadata": {},
   "outputs": [
    {
     "data": {
      "text/plain": [
       "2    Australia v India | WTC23 Final | Match Highli...\n",
       "3    Less than 10 months to go for the #WTC25 Final...\n",
       "4    Australia’s victorious WTC23 campaign | The Te...\n",
       "5    Australian young gun Sam Konstas put to the te...\n",
       "6    The King of Yorkers Jasprit Bumrah is now the ...\n",
       "Name: video_title, dtype: object"
      ]
     },
     "execution_count": 87,
     "metadata": {},
     "output_type": "execute_result"
    }
   ],
   "source": [
    "v_test_videos['video_title'].head()"
   ]
  },
  {
   "cell_type": "code",
   "execution_count": 88,
   "id": "ccfd1ef9",
   "metadata": {},
   "outputs": [],
   "source": [
    "v_test_videos = v_test_videos.drop_duplicates(subset=['video_id'])"
   ]
  },
  {
   "cell_type": "code",
   "execution_count": 89,
   "id": "223e7ce4",
   "metadata": {},
   "outputs": [
    {
     "data": {
      "text/plain": [
       "(17, 3)"
      ]
     },
     "execution_count": 89,
     "metadata": {},
     "output_type": "execute_result"
    }
   ],
   "source": [
    "v_test_videos.shape"
   ]
  },
  {
   "cell_type": "code",
   "execution_count": 90,
   "id": "49750959",
   "metadata": {},
   "outputs": [
    {
     "data": {
      "text/plain": [
       "(149570, 7)"
      ]
     },
     "execution_count": 90,
     "metadata": {},
     "output_type": "execute_result"
    }
   ],
   "source": [
    "test_data.shape"
   ]
  },
  {
   "cell_type": "code",
   "execution_count": 91,
   "id": "9291f1d5",
   "metadata": {},
   "outputs": [],
   "source": [
    "# merging both dataframes to ignore comments for videos that doesn't related to T20\n",
    "merged_data = v_test_videos.merge(test_data,how='inner',on='video_id')"
   ]
  },
  {
   "cell_type": "code",
   "execution_count": 93,
   "id": "9bb913fd",
   "metadata": {},
   "outputs": [
    {
     "data": {
      "text/html": [
       "<div>\n",
       "<style scoped>\n",
       "    .dataframe tbody tr th:only-of-type {\n",
       "        vertical-align: middle;\n",
       "    }\n",
       "\n",
       "    .dataframe tbody tr th {\n",
       "        vertical-align: top;\n",
       "    }\n",
       "\n",
       "    .dataframe thead th {\n",
       "        text-align: right;\n",
       "    }\n",
       "</style>\n",
       "<table border=\"1\" class=\"dataframe\">\n",
       "  <thead>\n",
       "    <tr style=\"text-align: right;\">\n",
       "      <th></th>\n",
       "      <th>video_id</th>\n",
       "      <th>video_title</th>\n",
       "      <th>video_published_at</th>\n",
       "      <th>comment_id</th>\n",
       "      <th>author</th>\n",
       "      <th>published_at</th>\n",
       "      <th>like_count</th>\n",
       "      <th>text</th>\n",
       "      <th>public</th>\n",
       "    </tr>\n",
       "  </thead>\n",
       "  <tbody>\n",
       "    <tr>\n",
       "      <th>0</th>\n",
       "      <td>gTo-lPOGPdg</td>\n",
       "      <td>Australia v India | WTC23 Final | Match Highli...</td>\n",
       "      <td>2024-02-13T03:00:17Z</td>\n",
       "      <td>Ugx3ILTXGKmTnCQAem54AaABAg</td>\n",
       "      <td>@muhammadabdullah4337</td>\n",
       "      <td>2024-02-13T03:54:39Z</td>\n",
       "      <td>7301</td>\n",
       "      <td>ICC upload back-to-back three heartbreak momen...</td>\n",
       "      <td>True</td>\n",
       "    </tr>\n",
       "    <tr>\n",
       "      <th>1</th>\n",
       "      <td>gTo-lPOGPdg</td>\n",
       "      <td>Australia v India | WTC23 Final | Match Highli...</td>\n",
       "      <td>2024-02-13T03:00:17Z</td>\n",
       "      <td>Ugwu72NlIMxn_LSSmYB4AaABAg</td>\n",
       "      <td>@anuraggamerz9278</td>\n",
       "      <td>2024-02-29T16:20:03Z</td>\n",
       "      <td>5329</td>\n",
       "      <td>Travis Head is the real villian for India in t...</td>\n",
       "      <td>True</td>\n",
       "    </tr>\n",
       "    <tr>\n",
       "      <th>2</th>\n",
       "      <td>gTo-lPOGPdg</td>\n",
       "      <td>Australia v India | WTC23 Final | Match Highli...</td>\n",
       "      <td>2024-02-13T03:00:17Z</td>\n",
       "      <td>UgwNkzuTGtb_LG1cFNN4AaABAg</td>\n",
       "      <td>@DJSarvesh007</td>\n",
       "      <td>2024-02-13T03:35:01Z</td>\n",
       "      <td>2192</td>\n",
       "      <td>Head in Tests and ODIs gave a tough time for I...</td>\n",
       "      <td>True</td>\n",
       "    </tr>\n",
       "    <tr>\n",
       "      <th>3</th>\n",
       "      <td>gTo-lPOGPdg</td>\n",
       "      <td>Australia v India | WTC23 Final | Match Highli...</td>\n",
       "      <td>2024-02-13T03:00:17Z</td>\n",
       "      <td>UgzH9bibBcj5mvb1VAx4AaABAg</td>\n",
       "      <td>@Saurabh__Shukla</td>\n",
       "      <td>2024-02-13T03:28:07Z</td>\n",
       "      <td>1918</td>\n",
       "      <td>Smithy came in final after a horrible BGT and ...</td>\n",
       "      <td>True</td>\n",
       "    </tr>\n",
       "    <tr>\n",
       "      <th>4</th>\n",
       "      <td>gTo-lPOGPdg</td>\n",
       "      <td>Australia v India | WTC23 Final | Match Highli...</td>\n",
       "      <td>2024-02-13T03:00:17Z</td>\n",
       "      <td>UgxVyA2u0KRii-AnMfN4AaABAg</td>\n",
       "      <td>@nirajghaleedits601</td>\n",
       "      <td>2024-02-27T11:46:03Z</td>\n",
       "      <td>1642</td>\n",
       "      <td>Now ICC will post 2003 CWC Final 🇦🇺 vs 🇮🇳\\n💀💀</td>\n",
       "      <td>True</td>\n",
       "    </tr>\n",
       "  </tbody>\n",
       "</table>\n",
       "</div>"
      ],
      "text/plain": [
       "      video_id                                        video_title  \\\n",
       "0  gTo-lPOGPdg  Australia v India | WTC23 Final | Match Highli...   \n",
       "1  gTo-lPOGPdg  Australia v India | WTC23 Final | Match Highli...   \n",
       "2  gTo-lPOGPdg  Australia v India | WTC23 Final | Match Highli...   \n",
       "3  gTo-lPOGPdg  Australia v India | WTC23 Final | Match Highli...   \n",
       "4  gTo-lPOGPdg  Australia v India | WTC23 Final | Match Highli...   \n",
       "\n",
       "     video_published_at                  comment_id                 author  \\\n",
       "0  2024-02-13T03:00:17Z  Ugx3ILTXGKmTnCQAem54AaABAg  @muhammadabdullah4337   \n",
       "1  2024-02-13T03:00:17Z  Ugwu72NlIMxn_LSSmYB4AaABAg      @anuraggamerz9278   \n",
       "2  2024-02-13T03:00:17Z  UgwNkzuTGtb_LG1cFNN4AaABAg          @DJSarvesh007   \n",
       "3  2024-02-13T03:00:17Z  UgzH9bibBcj5mvb1VAx4AaABAg       @Saurabh__Shukla   \n",
       "4  2024-02-13T03:00:17Z  UgxVyA2u0KRii-AnMfN4AaABAg    @nirajghaleedits601   \n",
       "\n",
       "           published_at  like_count  \\\n",
       "0  2024-02-13T03:54:39Z        7301   \n",
       "1  2024-02-29T16:20:03Z        5329   \n",
       "2  2024-02-13T03:35:01Z        2192   \n",
       "3  2024-02-13T03:28:07Z        1918   \n",
       "4  2024-02-27T11:46:03Z        1642   \n",
       "\n",
       "                                                text  public  \n",
       "0  ICC upload back-to-back three heartbreak momen...    True  \n",
       "1  Travis Head is the real villian for India in t...    True  \n",
       "2  Head in Tests and ODIs gave a tough time for I...    True  \n",
       "3  Smithy came in final after a horrible BGT and ...    True  \n",
       "4      Now ICC will post 2003 CWC Final 🇦🇺 vs 🇮🇳\\n💀💀    True  "
      ]
     },
     "execution_count": 93,
     "metadata": {},
     "output_type": "execute_result"
    }
   ],
   "source": [
    "merged_data.head()"
   ]
  },
  {
   "cell_type": "code",
   "execution_count": 94,
   "id": "38f57d8e",
   "metadata": {},
   "outputs": [],
   "source": [
    "merged_data = merged_data.drop(columns=['public'])"
   ]
  },
  {
   "cell_type": "code",
   "execution_count": 95,
   "id": "54a81fc4",
   "metadata": {},
   "outputs": [
    {
     "data": {
      "text/plain": [
       "(11698, 8)"
      ]
     },
     "execution_count": 95,
     "metadata": {},
     "output_type": "execute_result"
    }
   ],
   "source": [
    "merged_data.shape"
   ]
  },
  {
   "cell_type": "code",
   "execution_count": 96,
   "id": "96134e90",
   "metadata": {},
   "outputs": [],
   "source": [
    "#check no of comments per each video\n",
    "group_counts = merged_data.groupby(\"video_id\").size().sort_values(ascending=False)"
   ]
  },
  {
   "cell_type": "code",
   "execution_count": 99,
   "id": "4551b7fb",
   "metadata": {},
   "outputs": [
    {
     "data": {
      "text/plain": [
       "(4,)"
      ]
     },
     "execution_count": 99,
     "metadata": {},
     "output_type": "execute_result"
    }
   ],
   "source": [
    "group_counts[group_counts > 1000].shape"
   ]
  },
  {
   "cell_type": "code",
   "execution_count": 100,
   "id": "3d5a9f36",
   "metadata": {},
   "outputs": [
    {
     "data": {
      "text/plain": [
       "video_id\n",
       "VQpTVVsNHQs    4150\n",
       "gTo-lPOGPdg    2719\n",
       "B3JZZThHKA4    1585\n",
       "MbKhGIPRvGI    1411\n",
       "dtype: int64"
      ]
     },
     "execution_count": 100,
     "metadata": {},
     "output_type": "execute_result"
    }
   ],
   "source": [
    "group_counts[group_counts > 1000]"
   ]
  },
  {
   "cell_type": "code",
   "execution_count": 101,
   "id": "6ec5481d",
   "metadata": {},
   "outputs": [
    {
     "data": {
      "text/plain": [
       "video_id\n",
       "VQpTVVsNHQs    4150\n",
       "gTo-lPOGPdg    2719\n",
       "dtype: int64"
      ]
     },
     "execution_count": 101,
     "metadata": {},
     "output_type": "execute_result"
    }
   ],
   "source": [
    "most_commented = group_counts[group_counts > 2000]\n",
    "most_commented"
   ]
  },
  {
   "cell_type": "code",
   "execution_count": 102,
   "id": "8a981c65",
   "metadata": {},
   "outputs": [],
   "source": [
    "most_commented_videos = v_test_videos[v_test_videos['video_id'].isin(most_commented.index)]"
   ]
  },
  {
   "cell_type": "code",
   "execution_count": 103,
   "id": "f12d9315",
   "metadata": {},
   "outputs": [
    {
     "name": "stdout",
     "output_type": "stream",
     "text": [
      "Australia v India | WTC23 Final | Match Highlights\n",
      "Glenn Maxwell produces one of the greatest ODI knocks of all-time | CWC23\n"
     ]
    }
   ],
   "source": [
    "for title in most_commented_videos['video_title']:\n",
    "    print(title)"
   ]
  },
  {
   "cell_type": "code",
   "execution_count": 42,
   "id": "7bb6a636",
   "metadata": {},
   "outputs": [
    {
     "data": {
      "text/html": [
       "<div>\n",
       "<style scoped>\n",
       "    .dataframe tbody tr th:only-of-type {\n",
       "        vertical-align: middle;\n",
       "    }\n",
       "\n",
       "    .dataframe tbody tr th {\n",
       "        vertical-align: top;\n",
       "    }\n",
       "\n",
       "    .dataframe thead th {\n",
       "        text-align: right;\n",
       "    }\n",
       "</style>\n",
       "<table border=\"1\" class=\"dataframe\">\n",
       "  <thead>\n",
       "    <tr style=\"text-align: right;\">\n",
       "      <th></th>\n",
       "      <th>video_id</th>\n",
       "      <th>video_title</th>\n",
       "      <th>video_published_at</th>\n",
       "    </tr>\n",
       "  </thead>\n",
       "  <tbody>\n",
       "    <tr>\n",
       "      <th>0</th>\n",
       "      <td>OSTMKBLDoLg</td>\n",
       "      <td>The American fairytale continues as USA beat P...</td>\n",
       "      <td>2024-06-06T23:37:36Z</td>\n",
       "    </tr>\n",
       "    <tr>\n",
       "      <th>1</th>\n",
       "      <td>3yiWqnKl7lQ</td>\n",
       "      <td>The Epic Montage | T20 World Cup 2024 Final</td>\n",
       "      <td>2024-07-04T08:51:35Z</td>\n",
       "    </tr>\n",
       "    <tr>\n",
       "      <th>2</th>\n",
       "      <td>fVZQCdHUTsA</td>\n",
       "      <td>Virat Kohli 🤝 Rohit Sharma #cricket #cricketsh...</td>\n",
       "      <td>2024-06-30T01:45:47Z</td>\n",
       "    </tr>\n",
       "    <tr>\n",
       "      <th>3</th>\n",
       "      <td>89_E436SRos</td>\n",
       "      <td>Let the celebrations begin 🥳 #cricket #cricket...</td>\n",
       "      <td>2024-06-29T23:30:01Z</td>\n",
       "    </tr>\n",
       "    <tr>\n",
       "      <th>7</th>\n",
       "      <td>iMtkpSzOVqc</td>\n",
       "      <td>Simply brilliant by Suryakumar Yadav 😮 #cricke...</td>\n",
       "      <td>2024-06-29T23:03:40Z</td>\n",
       "    </tr>\n",
       "    <tr>\n",
       "      <th>9</th>\n",
       "      <td>WBC_imavsmQ</td>\n",
       "      <td>Virat Kohli magic at the MCG 🪄 #cricket #t20wo...</td>\n",
       "      <td>2024-02-23T02:07:12Z</td>\n",
       "    </tr>\n",
       "    <tr>\n",
       "      <th>13</th>\n",
       "      <td>boOWyGnGYxs</td>\n",
       "      <td>Sean Paul &amp;amp; Kes - Out Of This World (Music...</td>\n",
       "      <td>2024-05-02T12:00:07Z</td>\n",
       "    </tr>\n",
       "    <tr>\n",
       "      <th>14</th>\n",
       "      <td>V8m8equTo3c</td>\n",
       "      <td>Ric Flair 🤝 Rohit Sharma #T20WorldCup #Cricket...</td>\n",
       "      <td>2024-06-30T02:46:48Z</td>\n",
       "    </tr>\n",
       "    <tr>\n",
       "      <th>23</th>\n",
       "      <td>ijp5AyWVWds</td>\n",
       "      <td>The historic moment for Afghanistan #cricket #...</td>\n",
       "      <td>2024-06-25T05:57:00Z</td>\n",
       "    </tr>\n",
       "    <tr>\n",
       "      <th>41</th>\n",
       "      <td>glTy9dxHL6Q</td>\n",
       "      <td>A ruthless Rohit Sharma knock 👊#T20WorldCup #A...</td>\n",
       "      <td>2024-06-24T19:16:35Z</td>\n",
       "    </tr>\n",
       "    <tr>\n",
       "      <th>69</th>\n",
       "      <td>8rIgfe5xt2w</td>\n",
       "      <td>So much semi-final emotion for Rohit Sharma 🥹 ...</td>\n",
       "      <td>2024-06-28T06:22:26Z</td>\n",
       "    </tr>\n",
       "    <tr>\n",
       "      <th>111</th>\n",
       "      <td>BHvvrv4AUFk</td>\n",
       "      <td>Jasprit Bumrah loves bowling to Mohammad Rizwa...</td>\n",
       "      <td>2024-06-10T04:42:59Z</td>\n",
       "    </tr>\n",
       "  </tbody>\n",
       "</table>\n",
       "</div>"
      ],
      "text/plain": [
       "        video_id                                        video_title  \\\n",
       "0    OSTMKBLDoLg  The American fairytale continues as USA beat P...   \n",
       "1    3yiWqnKl7lQ        The Epic Montage | T20 World Cup 2024 Final   \n",
       "2    fVZQCdHUTsA  Virat Kohli 🤝 Rohit Sharma #cricket #cricketsh...   \n",
       "3    89_E436SRos  Let the celebrations begin 🥳 #cricket #cricket...   \n",
       "7    iMtkpSzOVqc  Simply brilliant by Suryakumar Yadav 😮 #cricke...   \n",
       "9    WBC_imavsmQ  Virat Kohli magic at the MCG 🪄 #cricket #t20wo...   \n",
       "13   boOWyGnGYxs  Sean Paul &amp; Kes - Out Of This World (Music...   \n",
       "14   V8m8equTo3c  Ric Flair 🤝 Rohit Sharma #T20WorldCup #Cricket...   \n",
       "23   ijp5AyWVWds  The historic moment for Afghanistan #cricket #...   \n",
       "41   glTy9dxHL6Q  A ruthless Rohit Sharma knock 👊#T20WorldCup #A...   \n",
       "69   8rIgfe5xt2w  So much semi-final emotion for Rohit Sharma 🥹 ...   \n",
       "111  BHvvrv4AUFk  Jasprit Bumrah loves bowling to Mohammad Rizwa...   \n",
       "\n",
       "       video_published_at  \n",
       "0    2024-06-06T23:37:36Z  \n",
       "1    2024-07-04T08:51:35Z  \n",
       "2    2024-06-30T01:45:47Z  \n",
       "3    2024-06-29T23:30:01Z  \n",
       "7    2024-06-29T23:03:40Z  \n",
       "9    2024-02-23T02:07:12Z  \n",
       "13   2024-05-02T12:00:07Z  \n",
       "14   2024-06-30T02:46:48Z  \n",
       "23   2024-06-25T05:57:00Z  \n",
       "41   2024-06-24T19:16:35Z  \n",
       "69   2024-06-28T06:22:26Z  \n",
       "111  2024-06-10T04:42:59Z  "
      ]
     },
     "execution_count": 42,
     "metadata": {},
     "output_type": "execute_result"
    }
   ],
   "source": [
    "most_commented_videos"
   ]
  },
  {
   "cell_type": "code",
   "execution_count": 43,
   "id": "96ba6b36",
   "metadata": {},
   "outputs": [],
   "source": [
    "# identified less relevent videos\n",
    "# ignore = ['boOWyGnGYxs','iMtkpSzOVqc','KVroGz3_wFU']"
   ]
  },
  {
   "cell_type": "code",
   "execution_count": 44,
   "id": "cc39629a",
   "metadata": {},
   "outputs": [],
   "source": [
    "# merged_data = merged_data[~merged_data['video_id'].isin(ignore)]"
   ]
  },
  {
   "cell_type": "code",
   "execution_count": 105,
   "id": "0edd5476",
   "metadata": {},
   "outputs": [
    {
     "data": {
      "text/plain": [
       "(11698, 8)"
      ]
     },
     "execution_count": 105,
     "metadata": {},
     "output_type": "execute_result"
    }
   ],
   "source": [
    "# Test has too little material to work with, so I am not going to do more filter just because it has high comment count\n",
    "merged_data.shape"
   ]
  },
  {
   "cell_type": "code",
   "execution_count": 108,
   "id": "fb4a4068",
   "metadata": {},
   "outputs": [
    {
     "data": {
      "text/plain": [
       "(11698, 8)"
      ]
     },
     "execution_count": 108,
     "metadata": {},
     "output_type": "execute_result"
    }
   ],
   "source": [
    "final_data = merged_data #.groupby('video_id').apply(lambda x: x.head(1000)).reset_index(drop=True)\n",
    "final_data.shape"
   ]
  },
  {
   "cell_type": "code",
   "execution_count": 109,
   "id": "3580a319",
   "metadata": {},
   "outputs": [],
   "source": [
    "final_data.to_csv(\"../../Data/Raw/test_youtube_comments_filtered.csv\",index=False)"
   ]
  },
  {
   "cell_type": "code",
   "execution_count": 110,
   "id": "ee95f8b0",
   "metadata": {},
   "outputs": [
    {
     "data": {
      "text/html": [
       "<div>\n",
       "<style scoped>\n",
       "    .dataframe tbody tr th:only-of-type {\n",
       "        vertical-align: middle;\n",
       "    }\n",
       "\n",
       "    .dataframe tbody tr th {\n",
       "        vertical-align: top;\n",
       "    }\n",
       "\n",
       "    .dataframe thead th {\n",
       "        text-align: right;\n",
       "    }\n",
       "</style>\n",
       "<table border=\"1\" class=\"dataframe\">\n",
       "  <thead>\n",
       "    <tr style=\"text-align: right;\">\n",
       "      <th></th>\n",
       "      <th>video_id</th>\n",
       "      <th>video_title</th>\n",
       "      <th>video_published_at</th>\n",
       "      <th>comment_id</th>\n",
       "      <th>author</th>\n",
       "      <th>published_at</th>\n",
       "      <th>like_count</th>\n",
       "      <th>text</th>\n",
       "    </tr>\n",
       "  </thead>\n",
       "  <tbody>\n",
       "    <tr>\n",
       "      <th>0</th>\n",
       "      <td>gTo-lPOGPdg</td>\n",
       "      <td>Australia v India | WTC23 Final | Match Highli...</td>\n",
       "      <td>2024-02-13T03:00:17Z</td>\n",
       "      <td>Ugx3ILTXGKmTnCQAem54AaABAg</td>\n",
       "      <td>@muhammadabdullah4337</td>\n",
       "      <td>2024-02-13T03:54:39Z</td>\n",
       "      <td>7301</td>\n",
       "      <td>ICC upload back-to-back three heartbreak momen...</td>\n",
       "    </tr>\n",
       "    <tr>\n",
       "      <th>1</th>\n",
       "      <td>gTo-lPOGPdg</td>\n",
       "      <td>Australia v India | WTC23 Final | Match Highli...</td>\n",
       "      <td>2024-02-13T03:00:17Z</td>\n",
       "      <td>Ugwu72NlIMxn_LSSmYB4AaABAg</td>\n",
       "      <td>@anuraggamerz9278</td>\n",
       "      <td>2024-02-29T16:20:03Z</td>\n",
       "      <td>5329</td>\n",
       "      <td>Travis Head is the real villian for India in t...</td>\n",
       "    </tr>\n",
       "    <tr>\n",
       "      <th>2</th>\n",
       "      <td>gTo-lPOGPdg</td>\n",
       "      <td>Australia v India | WTC23 Final | Match Highli...</td>\n",
       "      <td>2024-02-13T03:00:17Z</td>\n",
       "      <td>UgwNkzuTGtb_LG1cFNN4AaABAg</td>\n",
       "      <td>@DJSarvesh007</td>\n",
       "      <td>2024-02-13T03:35:01Z</td>\n",
       "      <td>2192</td>\n",
       "      <td>Head in Tests and ODIs gave a tough time for I...</td>\n",
       "    </tr>\n",
       "    <tr>\n",
       "      <th>3</th>\n",
       "      <td>gTo-lPOGPdg</td>\n",
       "      <td>Australia v India | WTC23 Final | Match Highli...</td>\n",
       "      <td>2024-02-13T03:00:17Z</td>\n",
       "      <td>UgzH9bibBcj5mvb1VAx4AaABAg</td>\n",
       "      <td>@Saurabh__Shukla</td>\n",
       "      <td>2024-02-13T03:28:07Z</td>\n",
       "      <td>1918</td>\n",
       "      <td>Smithy came in final after a horrible BGT and ...</td>\n",
       "    </tr>\n",
       "    <tr>\n",
       "      <th>4</th>\n",
       "      <td>gTo-lPOGPdg</td>\n",
       "      <td>Australia v India | WTC23 Final | Match Highli...</td>\n",
       "      <td>2024-02-13T03:00:17Z</td>\n",
       "      <td>UgxVyA2u0KRii-AnMfN4AaABAg</td>\n",
       "      <td>@nirajghaleedits601</td>\n",
       "      <td>2024-02-27T11:46:03Z</td>\n",
       "      <td>1642</td>\n",
       "      <td>Now ICC will post 2003 CWC Final 🇦🇺 vs 🇮🇳\\n💀💀</td>\n",
       "    </tr>\n",
       "  </tbody>\n",
       "</table>\n",
       "</div>"
      ],
      "text/plain": [
       "      video_id                                        video_title  \\\n",
       "0  gTo-lPOGPdg  Australia v India | WTC23 Final | Match Highli...   \n",
       "1  gTo-lPOGPdg  Australia v India | WTC23 Final | Match Highli...   \n",
       "2  gTo-lPOGPdg  Australia v India | WTC23 Final | Match Highli...   \n",
       "3  gTo-lPOGPdg  Australia v India | WTC23 Final | Match Highli...   \n",
       "4  gTo-lPOGPdg  Australia v India | WTC23 Final | Match Highli...   \n",
       "\n",
       "     video_published_at                  comment_id                 author  \\\n",
       "0  2024-02-13T03:00:17Z  Ugx3ILTXGKmTnCQAem54AaABAg  @muhammadabdullah4337   \n",
       "1  2024-02-13T03:00:17Z  Ugwu72NlIMxn_LSSmYB4AaABAg      @anuraggamerz9278   \n",
       "2  2024-02-13T03:00:17Z  UgwNkzuTGtb_LG1cFNN4AaABAg          @DJSarvesh007   \n",
       "3  2024-02-13T03:00:17Z  UgzH9bibBcj5mvb1VAx4AaABAg       @Saurabh__Shukla   \n",
       "4  2024-02-13T03:00:17Z  UgxVyA2u0KRii-AnMfN4AaABAg    @nirajghaleedits601   \n",
       "\n",
       "           published_at  like_count  \\\n",
       "0  2024-02-13T03:54:39Z        7301   \n",
       "1  2024-02-29T16:20:03Z        5329   \n",
       "2  2024-02-13T03:35:01Z        2192   \n",
       "3  2024-02-13T03:28:07Z        1918   \n",
       "4  2024-02-27T11:46:03Z        1642   \n",
       "\n",
       "                                                text  \n",
       "0  ICC upload back-to-back three heartbreak momen...  \n",
       "1  Travis Head is the real villian for India in t...  \n",
       "2  Head in Tests and ODIs gave a tough time for I...  \n",
       "3  Smithy came in final after a horrible BGT and ...  \n",
       "4      Now ICC will post 2003 CWC Final 🇦🇺 vs 🇮🇳\\n💀💀  "
      ]
     },
     "execution_count": 110,
     "metadata": {},
     "output_type": "execute_result"
    }
   ],
   "source": [
    "final_data.head()"
   ]
  },
  {
   "cell_type": "code",
   "execution_count": 49,
   "id": "eafe9b1e",
   "metadata": {},
   "outputs": [],
   "source": [
    "# v_test_videos = v_test_videos[~v_test_videos['video_id'].isin(ignore)]"
   ]
  },
  {
   "cell_type": "code",
   "execution_count": 111,
   "id": "3bf5b871",
   "metadata": {},
   "outputs": [
    {
     "data": {
      "text/plain": [
       "(17, 3)"
      ]
     },
     "execution_count": 111,
     "metadata": {},
     "output_type": "execute_result"
    }
   ],
   "source": [
    "v_test_videos.shape"
   ]
  },
  {
   "cell_type": "code",
   "execution_count": 112,
   "id": "b089bc8a",
   "metadata": {},
   "outputs": [],
   "source": [
    "v_test_videos.to_csv(\"../../Data/Raw/v_test_youtube_videos.csv\",index=False)"
   ]
  },
  {
   "cell_type": "code",
   "execution_count": null,
   "id": "8978d6c2",
   "metadata": {},
   "outputs": [],
   "source": []
  }
 ],
 "metadata": {
  "kernelspec": {
   "display_name": "Python 3 (ipykernel)",
   "language": "python",
   "name": "python3"
  },
  "language_info": {
   "codemirror_mode": {
    "name": "ipython",
    "version": 3
   },
   "file_extension": ".py",
   "mimetype": "text/x-python",
   "name": "python",
   "nbconvert_exporter": "python",
   "pygments_lexer": "ipython3",
   "version": "3.11.7"
  }
 },
 "nbformat": 4,
 "nbformat_minor": 5
}
