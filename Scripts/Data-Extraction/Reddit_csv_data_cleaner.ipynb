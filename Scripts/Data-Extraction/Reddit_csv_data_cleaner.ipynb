{
 "cells": [
  {
   "cell_type": "markdown",
   "metadata": {},
   "source": [
    "### Data Cleaning Data Structure"
   ]
  },
  {
   "cell_type": "code",
   "execution_count": 2,
   "metadata": {},
   "outputs": [],
   "source": [
    "class RedditComment:\n",
    "    def __init__(self) -> None:\n",
    "        self.comment_user_id = None\n",
    "        self.comment_time    = None\n",
    "        self.comment         = None\n",
    "        self.comment_vote    = None\n",
    "        self.comment_id      = None\n",
    "\n",
    "class RedditPost:\n",
    "    def __init__(self) -> None:\n",
    "        self.post_title      = None\n",
    "        self.post_user_id    = None\n",
    "        self.post_id         = None\n",
    "        self.post_content    = None\n",
    "        self.post_vote       = None\n",
    "        self.created_date    = None\n",
    "        self.replies: list[RedditComment] = []\n",
    "\n",
    "    def convert_from_tst_csv(input):\n",
    "        pass\n",
    "\n",
    "    def convert_from_t20_csv(input):\n",
    "        pass\n",
    "\n",
    "    def convert_from_odi_csv(input):\n",
    "        pass\n"
   ]
  },
  {
   "cell_type": "markdown",
   "metadata": {},
   "source": [
    "### File Import (execute your conversion here)"
   ]
  },
  {
   "cell_type": "markdown",
   "metadata": {},
   "source": [
    "##### Test"
   ]
  },
  {
   "cell_type": "code",
   "execution_count": null,
   "metadata": {},
   "outputs": [],
   "source": []
  },
  {
   "cell_type": "markdown",
   "metadata": {},
   "source": [
    "##### ODI"
   ]
  },
  {
   "cell_type": "code",
   "execution_count": null,
   "metadata": {},
   "outputs": [],
   "source": []
  },
  {
   "cell_type": "markdown",
   "metadata": {},
   "source": [
    "##### T20"
   ]
  },
  {
   "cell_type": "code",
   "execution_count": null,
   "metadata": {},
   "outputs": [],
   "source": []
  },
  {
   "cell_type": "markdown",
   "metadata": {},
   "source": [
    "### Data Cleaning"
   ]
  },
  {
   "cell_type": "code",
   "execution_count": null,
   "metadata": {},
   "outputs": [],
   "source": []
  },
  {
   "cell_type": "code",
   "execution_count": null,
   "metadata": {},
   "outputs": [],
   "source": []
  },
  {
   "cell_type": "code",
   "execution_count": null,
   "metadata": {},
   "outputs": [],
   "source": []
  }
 ],
 "metadata": {
  "kernelspec": {
   "display_name": "Python 3 (ipykernel)",
   "language": "python",
   "name": "python3"
  },
  "language_info": {
   "codemirror_mode": {
    "name": "ipython",
    "version": 3
   },
   "file_extension": ".py",
   "mimetype": "text/x-python",
   "name": "python",
   "nbconvert_exporter": "python",
   "pygments_lexer": "ipython3",
   "version": "3.11.7"
  }
 },
 "nbformat": 4,
 "nbformat_minor": 4
}
